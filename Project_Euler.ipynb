{
  "nbformat": 4,
  "nbformat_minor": 0,
  "metadata": {
    "colab": {
      "name": "Project-Euler.ipynb",
      "provenance": [],
      "collapsed_sections": [],
      "authorship_tag": "ABX9TyM/yw37QuaGQHMvPh2YDnhz",
      "include_colab_link": true
    },
    "kernelspec": {
      "name": "python3",
      "display_name": "Python 3"
    },
    "language_info": {
      "name": "python"
    }
  },
  "cells": [
    {
      "cell_type": "markdown",
      "metadata": {
        "id": "view-in-github",
        "colab_type": "text"
      },
      "source": [
        "<a href=\"https://colab.research.google.com/github/ammarnasr/Euler-Project/blob/main/Project_Euler.ipynb\" target=\"_parent\"><img src=\"https://colab.research.google.com/assets/colab-badge.svg\" alt=\"Open In Colab\"/></a>"
      ]
    },
    {
      "cell_type": "markdown",
      "source": [
        "## Smallest multiple\n",
        "\n",
        "### Problem 5\n",
        "2520 is the smallest number that can be divided by each of the numbers from 1 to 10 without any remainder.\n",
        "\n",
        "What is the smallest positive number that is evenly divisible by all of the numbers from 1 to 20?"
      ],
      "metadata": {
        "id": "9-s5noUBf4mG"
      }
    },
    {
      "cell_type": "code",
      "execution_count": null,
      "metadata": {
        "id": "GOT4UJ-Zfyae"
      },
      "outputs": [],
      "source": [
        "i= 0\n",
        "while True:\n",
        "  for j in range(19,0,-1):\n",
        "    if i%j != 0:\n",
        "      break\n",
        "    if j == 1 :\n",
        "      print('The Answer is: ', i)\n",
        "  i += 20\n",
        "  "
      ]
    },
    {
      "cell_type": "markdown",
      "source": [
        "## Sum square difference\n",
        "\n",
        "### Problem 6\n",
        "The sum of the squares of the first ten natural numbers is,\n",
        "\n",
        "The square of the sum of the first ten natural numbers is,\n",
        "\n",
        "Hence the difference between the sum of the squares of the first ten natural numbers and the square of the sum is .\n",
        "\n",
        "Find the difference between the sum of the squares of the first one hundred natural numbers and the square of the sum."
      ],
      "metadata": {
        "id": "6Zc_z78ckKBy"
      }
    },
    {
      "cell_type": "code",
      "source": [
        "sumOfSquares = 0\n",
        "sum = 0\n",
        "for i in range(101):\n",
        "  sum +=i\n",
        "  sumOfSquares += i*i\n",
        "print((sum*sum) - sumOfSquares)"
      ],
      "metadata": {
        "colab": {
          "base_uri": "https://localhost:8080/"
        },
        "id": "5p9fRchEgkoF",
        "outputId": "1f5a9543-9bde-479a-eddc-9586c21d3cbb"
      },
      "execution_count": 14,
      "outputs": [
        {
          "output_type": "stream",
          "name": "stdout",
          "text": [
            "25164150\n"
          ]
        }
      ]
    },
    {
      "cell_type": "markdown",
      "source": [
        "## 10001st prime\n",
        " \n",
        "### Problem 7\n",
        "\n",
        "By listing the first six prime numbers: 2, 3, 5, 7, 11, and 13, we can see that the 6th prime is 13.\n",
        "\n",
        "What is the 10001st prime number?"
      ],
      "metadata": {
        "id": "-H9L3qUqlYhi"
      }
    },
    {
      "cell_type": "code",
      "source": [
        "def checkPrime(n):\n",
        "  for i in range(2, n):\n",
        "    if n%i == 0:\n",
        "      return False\n",
        "  return True\n",
        "\n",
        "sum = 1\n",
        "i = 3\n",
        "while sum < 10001 :\n",
        "  if checkPrime(i):\n",
        "    sum += 1\n",
        "    print('Found Prime: ', i, \"Sum is Now :\", sum)\n",
        "  i += 2\n"
      ],
      "metadata": {
        "id": "hNySdd5skT1q"
      },
      "execution_count": null,
      "outputs": []
    },
    {
      "cell_type": "markdown",
      "source": [
        "## Largest product in a series\n",
        " \n",
        "## Problem 8\n",
        "\n",
        "The four adjacent digits in the 1000-digit number that have the greatest product are 9 × 9 × 8 × 9 = 5832.\n",
        "\n",
        "73167176531330624919225119674426574742355349194934\n",
        "96983520312774506326239578318016984801869478851843\n",
        "85861560789112949495459501737958331952853208805511\n",
        "12540698747158523863050715693290963295227443043557\n",
        "66896648950445244523161731856403098711121722383113\n",
        "62229893423380308135336276614282806444486645238749\n",
        "30358907296290491560440772390713810515859307960866\n",
        "70172427121883998797908792274921901699720888093776\n",
        "65727333001053367881220235421809751254540594752243\n",
        "52584907711670556013604839586446706324415722155397\n",
        "53697817977846174064955149290862569321978468622482\n",
        "83972241375657056057490261407972968652414535100474\n",
        "82166370484403199890008895243450658541227588666881\n",
        "16427171479924442928230863465674813919123162824586\n",
        "17866458359124566529476545682848912883142607690042\n",
        "24219022671055626321111109370544217506941658960408\n",
        "07198403850962455444362981230987879927244284909188\n",
        "84580156166097919133875499200524063689912560717606\n",
        "05886116467109405077541002256983155200055935729725\n",
        "71636269561882670428252483600823257530420752963450\n",
        "\n",
        "Find the thirteen adjacent digits in the 1000-digit number that have the greatest product. What is the value of this product?"
      ],
      "metadata": {
        "id": "xC7dQrG-ni6x"
      }
    },
    {
      "cell_type": "code",
      "source": [
        "s = '7316717653133062491922511967442657474235534919493496983520312774506326239578318016984801869478851843858615607891129494954595017379583319528532088055111254069874715852386305071569329096329522744304355766896648950445244523161731856403098711121722383113622298934233803081353362766142828064444866452387493035890729629049156044077239071381051585930796086670172427121883998797908792274921901699720888093776657273330010533678812202354218097512545405947522435258490771167055601360483958644670632441572215539753697817977846174064955149290862569321978468622482839722413756570560574902614079729686524145351004748216637048440319989000889524345065854122758866688116427171479924442928230863465674813919123162824586178664583591245665294765456828489128831426076900422421902267105562632111110937054421750694165896040807198403850962455444362981230987879927244284909188845801561660979191338754992005240636899125607176060588611646710940507754100225698315520005593572972571636269561882670428252483600823257530420752963450'\n",
        "digits = []\n",
        "for c in s :\n",
        "  digits.append(int(c))\n",
        "\n",
        "startPoint = 0\n",
        "endPoint = 12\n",
        "shift = 0\n",
        "maxProduct = 0\n",
        "while shift < 1000-12:\n",
        "\n",
        "  if digits[endPoint+shift] == 0:\n",
        "    shift +=13\n",
        "    if  shift >= 1000-12:\n",
        "      break\n",
        "  \n",
        "  localProduct = 1\n",
        "  for i in range (startPoint+shift, endPoint+shift+1):\n",
        "    localProduct = localProduct * digits[i]\n",
        "\n",
        "  if localProduct > maxProduct:\n",
        "    maxProduct = localProduct\n",
        "    print(\"New Max Product of:\", maxProduct, \"At shift: \", shift)\n",
        "  \n",
        "  shift +=1\n",
        "\n",
        "\n",
        "print(\"Max Product is:\", maxProduct)"
      ],
      "metadata": {
        "colab": {
          "base_uri": "https://localhost:8080/"
        },
        "id": "AtoeHjn2l_Le",
        "outputId": "674bbda1-14a7-4bb2-b47c-33bb2fc3b53b"
      },
      "execution_count": 47,
      "outputs": [
        {
          "output_type": "stream",
          "name": "stdout",
          "text": [
            "New Max Product of: 5000940 At shift:  0\n",
            "New Max Product of: 9797760 At shift:  16\n",
            "New Max Product of: 13063680 At shift:  19\n",
            "New Max Product of: 25401600 At shift:  21\n",
            "New Max Product of: 50803200 At shift:  22\n",
            "New Max Product of: 71124480 At shift:  23\n",
            "New Max Product of: 284497920 At shift:  24\n",
            "New Max Product of: 568995840 At shift:  25\n",
            "New Max Product of: 1020366720 At shift:  40\n",
            "New Max Product of: 1632586752 At shift:  41\n",
            "New Max Product of: 2040733440 At shift:  43\n",
            "New Max Product of: 2972712960 At shift:  88\n",
            "New Max Product of: 6270566400 At shift:  195\n",
            "New Max Product of: 14108774400 At shift:  196\n",
            "New Max Product of: 23514624000 At shift:  197\n",
            "Max Product is: 23514624000\n"
          ]
        }
      ]
    },
    {
      "cell_type": "code",
      "source": [
        ""
      ],
      "metadata": {
        "id": "yPPmTSiZoJ0u"
      },
      "execution_count": null,
      "outputs": []
    }
  ]
}