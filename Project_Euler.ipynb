{
  "nbformat": 4,
  "nbformat_minor": 0,
  "metadata": {
    "colab": {
      "name": "Project-Euler.ipynb",
      "provenance": [],
      "collapsed_sections": [
        "9-s5noUBf4mG",
        "6Zc_z78ckKBy",
        "-H9L3qUqlYhi",
        "xC7dQrG-ni6x",
        "q-8VZSmUt_qn"
      ],
      "authorship_tag": "ABX9TyMAWtRyjC8GC7l6lm+p7vDw",
      "include_colab_link": true
    },
    "kernelspec": {
      "name": "python3",
      "display_name": "Python 3"
    },
    "language_info": {
      "name": "python"
    }
  },
  "cells": [
    {
      "cell_type": "markdown",
      "metadata": {
        "id": "view-in-github",
        "colab_type": "text"
      },
      "source": [
        "<a href=\"https://colab.research.google.com/github/ammarnasr/Euler-Project/blob/main/Project_Euler.ipynb\" target=\"_parent\"><img src=\"https://colab.research.google.com/assets/colab-badge.svg\" alt=\"Open In Colab\"/></a>"
      ]
    },
    {
      "cell_type": "markdown",
      "source": [
        "## Smallest multiple\n",
        "\n",
        "### Problem 5\n",
        "2520 is the smallest number that can be divided by each of the numbers from 1 to 10 without any remainder.\n",
        "\n",
        "What is the smallest positive number that is evenly divisible by all of the numbers from 1 to 20?"
      ],
      "metadata": {
        "id": "9-s5noUBf4mG"
      }
    },
    {
      "cell_type": "code",
      "execution_count": null,
      "metadata": {
        "id": "GOT4UJ-Zfyae"
      },
      "outputs": [],
      "source": [
        "i= 0\n",
        "done = False\n",
        "while not done:\n",
        "  for j in range(19,0,-1):\n",
        "    if i%j != 0:\n",
        "      break\n",
        "    if j == 1 and i !=0 :\n",
        "      done = True\n",
        "  i += 20\n",
        "  \n",
        "print('The Answer is: ', i)"
      ]
    },
    {
      "cell_type": "markdown",
      "source": [
        "## Sum square difference\n",
        "\n",
        "### Problem 6\n",
        "The sum of the squares of the first ten natural numbers is,\n",
        "\n",
        "The square of the sum of the first ten natural numbers is,\n",
        "\n",
        "Hence the difference between the sum of the squares of the first ten natural numbers and the square of the sum is .\n",
        "\n",
        "Find the difference between the sum of the squares of the first one hundred natural numbers and the square of the sum."
      ],
      "metadata": {
        "id": "6Zc_z78ckKBy"
      }
    },
    {
      "cell_type": "code",
      "source": [
        "sumOfSquares = 0\n",
        "sum = 0\n",
        "for i in range(101):\n",
        "  sum +=i\n",
        "  sumOfSquares += i*i\n",
        "print((sum*sum) - sumOfSquares)"
      ],
      "metadata": {
        "colab": {
          "base_uri": "https://localhost:8080/"
        },
        "id": "5p9fRchEgkoF",
        "outputId": "1f5a9543-9bde-479a-eddc-9586c21d3cbb"
      },
      "execution_count": null,
      "outputs": [
        {
          "output_type": "stream",
          "name": "stdout",
          "text": [
            "25164150\n"
          ]
        }
      ]
    },
    {
      "cell_type": "markdown",
      "source": [
        "## 10001st prime\n",
        " \n",
        "### Problem 7\n",
        "\n",
        "By listing the first six prime numbers: 2, 3, 5, 7, 11, and 13, we can see that the 6th prime is 13.\n",
        "\n",
        "What is the 10001st prime number?"
      ],
      "metadata": {
        "id": "-H9L3qUqlYhi"
      }
    },
    {
      "cell_type": "code",
      "source": [
        "def checkPrime(n):\n",
        "  for i in range(2, n):\n",
        "    if n%i == 0:\n",
        "      return False\n",
        "  return True\n",
        "\n",
        "sum = 1\n",
        "i = 3\n",
        "while sum < 10001 :\n",
        "  if checkPrime(i):\n",
        "    sum += 1\n",
        "    print('Found Prime: ', i, \"Sum is Now :\", sum)\n",
        "  i += 2\n"
      ],
      "metadata": {
        "id": "hNySdd5skT1q"
      },
      "execution_count": null,
      "outputs": []
    },
    {
      "cell_type": "markdown",
      "source": [
        "## Largest product in a series\n",
        " \n",
        "## Problem 8\n",
        "\n",
        "The four adjacent digits in the 1000-digit number that have the greatest product are 9 × 9 × 8 × 9 = 5832.\n",
        "\n",
        "73167176531330624919225119674426574742355349194934\n",
        "96983520312774506326239578318016984801869478851843\n",
        "85861560789112949495459501737958331952853208805511\n",
        "12540698747158523863050715693290963295227443043557\n",
        "66896648950445244523161731856403098711121722383113\n",
        "62229893423380308135336276614282806444486645238749\n",
        "30358907296290491560440772390713810515859307960866\n",
        "70172427121883998797908792274921901699720888093776\n",
        "65727333001053367881220235421809751254540594752243\n",
        "52584907711670556013604839586446706324415722155397\n",
        "53697817977846174064955149290862569321978468622482\n",
        "83972241375657056057490261407972968652414535100474\n",
        "82166370484403199890008895243450658541227588666881\n",
        "16427171479924442928230863465674813919123162824586\n",
        "17866458359124566529476545682848912883142607690042\n",
        "24219022671055626321111109370544217506941658960408\n",
        "07198403850962455444362981230987879927244284909188\n",
        "84580156166097919133875499200524063689912560717606\n",
        "05886116467109405077541002256983155200055935729725\n",
        "71636269561882670428252483600823257530420752963450\n",
        "\n",
        "Find the thirteen adjacent digits in the 1000-digit number that have the greatest product. What is the value of this product?"
      ],
      "metadata": {
        "id": "xC7dQrG-ni6x"
      }
    },
    {
      "cell_type": "code",
      "source": [
        "s = '7316717653133062491922511967442657474235534919493496983520312774506326239578318016984801869478851843858615607891129494954595017379583319528532088055111254069874715852386305071569329096329522744304355766896648950445244523161731856403098711121722383113622298934233803081353362766142828064444866452387493035890729629049156044077239071381051585930796086670172427121883998797908792274921901699720888093776657273330010533678812202354218097512545405947522435258490771167055601360483958644670632441572215539753697817977846174064955149290862569321978468622482839722413756570560574902614079729686524145351004748216637048440319989000889524345065854122758866688116427171479924442928230863465674813919123162824586178664583591245665294765456828489128831426076900422421902267105562632111110937054421750694165896040807198403850962455444362981230987879927244284909188845801561660979191338754992005240636899125607176060588611646710940507754100225698315520005593572972571636269561882670428252483600823257530420752963450'\n",
        "digits = []\n",
        "for c in s :\n",
        "  digits.append(int(c))\n",
        "\n",
        "startPoint = 0\n",
        "endPoint = 12\n",
        "shift = 0\n",
        "maxProduct = 0\n",
        "while shift < 1000-12:\n",
        "\n",
        "  if digits[endPoint+shift] == 0:\n",
        "    shift +=13\n",
        "    if  shift >= 1000-12:\n",
        "      break\n",
        "  \n",
        "  localProduct = 1\n",
        "  for i in range (startPoint+shift, endPoint+shift+1):\n",
        "    localProduct = localProduct * digits[i]\n",
        "\n",
        "  if localProduct > maxProduct:\n",
        "    maxProduct = localProduct\n",
        "    print(\"New Max Product of:\", maxProduct, \"At shift: \", shift)\n",
        "  \n",
        "  shift +=1\n",
        "\n",
        "\n",
        "print(\"Max Product is:\", maxProduct)"
      ],
      "metadata": {
        "id": "AtoeHjn2l_Le"
      },
      "execution_count": null,
      "outputs": []
    },
    {
      "cell_type": "markdown",
      "source": [
        "## Special Pythagorean triplet\n",
        " \n",
        "### Problem 9\n",
        "A Pythagorean triplet is a set of three natural numbers, a < b < c, for which,\n",
        "\n",
        "a2 + b2 = c2\n",
        "\n",
        "For example,\n",
        "\n",
        "   32 + 42 = 9 + 16 = 25 = 52.\n",
        "\n",
        "There exists exactly one Pythagorean triplet for which a + b + c = 1000.\n",
        "Find the product abc."
      ],
      "metadata": {
        "id": "q-8VZSmUt_qn"
      }
    },
    {
      "cell_type": "code",
      "source": [
        "import math\n",
        "\n",
        "def checkSqure(a,b):\n",
        "  c_sqaured= (a*a)+(b*b)\n",
        "  if math.sqrt(c_sqaured)%1 ==0 :\n",
        "    return math.sqrt(c_sqaured)\n",
        "  return -1\n",
        "\n",
        "a = 1\n",
        "b = 1\n",
        "c = 2\n",
        "\n",
        "for b in range(2, 1000):\n",
        "  for a in range(1, 1000):\n",
        "    c = checkSqure(a,b)\n",
        "    sum = a+b+c\n",
        "    if c != -1 :\n",
        "      if sum == 1000:\n",
        "        print(\"Found: \", a, b, c, \"sum = \", sum, \"abc = \", a*b*c)\n",
        "    if sum > 1000:\n",
        "      break\n",
        "\n"
      ],
      "metadata": {
        "id": "yPPmTSiZoJ0u"
      },
      "execution_count": null,
      "outputs": []
    },
    {
      "cell_type": "markdown",
      "source": [
        "## Summation of primes\n",
        "### Problem 10\n",
        "The sum of the primes below 10 is 2 + 3 + 5 + 7 = 17.\n",
        "\n",
        "Find the sum of all the primes below two million."
      ],
      "metadata": {
        "id": "LGxqFQOZW_2K"
      }
    },
    {
      "cell_type": "code",
      "source": [
        "import math\n",
        "primes = [2]\n",
        "for i in range (3, 2000000, 2):\n",
        "  for j in primes:\n",
        "    if j > math.sqrt(i):\n",
        "      primes.append(i)\n",
        "      print('Found Prime: ', i, 'Sum: ', sum(primes))\n",
        "      break\n",
        "    if i%j == 0 :\n",
        "      break"
      ],
      "metadata": {
        "id": "OcO8ReIRv-dk"
      },
      "execution_count": null,
      "outputs": []
    },
    {
      "cell_type": "markdown",
      "source": [
        ""
      ],
      "metadata": {
        "id": "J0NKM9RXlRwt"
      }
    },
    {
      "cell_type": "markdown",
      "source": [
        "## Largest product in a grid\n",
        "\n",
        "### Problem 11\n",
        "In the 20×20 grid below, four numbers along a diagonal line have been marked in red.\n",
        "\n",
        "08 02 22 97 38 15 00 40 00 75 04 05 07 78 52 12 50 77 91 08\n",
        "49 49 99 40 17 81 18 57 60 87 17 40 98 43 69 48 04 56 62 00\n",
        "81 49 31 73 55 79 14 29 93 71 40 67 53 88 30 03 49 13 36 65\n",
        "52 70 95 23 04 60 11 42 69 24 68 56 01 32 56 71 37 02 36 91\n",
        "22 31 16 71 51 67 63 89 41 92 36 54 22 40 40 28 66 33 13 80\n",
        "24 47 32 60 99 03 45 02 44 75 33 53 78 36 84 20 35 17 12 50\n",
        "32 98 81 28 64 23 67 10 26 38 40 67 59 54 70 66 18 38 64 70\n",
        "67 26 20 68 02 62 12 20 95 63 94 39 63 08 40 91 66 49 94 21\n",
        "24 55 58 05 66 73 99 26 97 17 78 78 96 83 14 88 34 89 63 72\n",
        "21 36 23 09 75 00 76 44 20 45 35 14 00 61 33 97 34 31 33 95\n",
        "78 17 53 28 22 75 31 67 15 94 03 80 04 62 16 14 09 53 56 92\n",
        "16 39 05 42 96 35 31 47 55 58 88 24 00 17 54 24 36 29 85 57\n",
        "86 56 00 48 35 71 89 07 05 44 44 37 44 60 21 58 51 54 17 58\n",
        "19 80 81 68 05 94 47 69 28 73 92 13 86 52 17 77 04 89 55 40\n",
        "04 52 08 83 97 35 99 16 07 97 57 32 16 26 26 79 33 27 98 66\n",
        "88 36 68 87 57 62 20 72 03 46 33 67 46 55 12 32 63 93 53 69\n",
        "04 42 16 73 38 25 39 11 24 94 72 18 08 46 29 32 40 62 76 36\n",
        "20 69 36 41 72 30 23 88 34 62 99 69 82 67 59 85 74 04 36 16\n",
        "20 73 35 29 78 31 90 01 74 31 49 71 48 86 81 16 23 57 05 54\n",
        "01 70 54 71 83 51 54 69 16 92 33 48 61 43 52 01 89 19 67 48\n",
        "\n",
        "The product of these numbers is 26 × 63 × 78 × 14 = 1788696.\n",
        "\n",
        "What is the greatest product of four adjacent numbers in the same direction (up, down, left, right, or diagonally) in the 20×20 grid?"
      ],
      "metadata": {
        "id": "4EjBrFQtmhSD"
      }
    },
    {
      "cell_type": "code",
      "source": [
        "s = \"08022297381500400075040507785212507791084949994017811857608717409843694804566200814931735579142993714067538830034913366552709523046011426924685601325671370236912231167151676389419236542240402866331380244732609903450244753353783684203517125032988128642367102638406759547066183864706726206802621220956394396308409166499421245558056673992697177878968314883489637221362309750076442045351400613397343133957817532822753167159403800462161409535692163905429635314755588824001754243629855786560048357189070544443744602158515417581980816805944769287392138652177704895540045208839735991607975732162626793327986688366887576220720346336746551232639353690442167338253911249472180846293240627636206936417230238834629969826759857404361620733529783190017431497148868116235705540170547183515469169233486143520189196748\"\n",
        "grid = []\n",
        "row = []\n",
        "for c in range(0, len(s), 2):\n",
        "  row.append(int(s[c]+s[c+1]))\n",
        "  if len(row) == 20:\n",
        "    grid.append(row)\n",
        "    row = []\n",
        "print(grid)\n",
        "\n",
        "prod = 1\n",
        "#left\n",
        "for row in range(len(grid)):\n",
        "  for col in range(20):\n",
        "    localProd = 1\n",
        "    if col > 16 :\n",
        "      break\n",
        "    for j in range(4):\n",
        "      localProd = localProd * grid[row][col+j]\n",
        "    if localProd > prod:\n",
        "      prod = localProd\n",
        "print(prod)\n",
        "\n",
        "prod = 1\n",
        "#right\n",
        "for row in range(len(grid)):\n",
        "  for col in range(19,-1,-1):\n",
        "    localProd = 1\n",
        "    if col <= 3 :\n",
        "      break\n",
        "    for j in range(4):\n",
        "      localProd = localProd * grid[row][col-j]\n",
        "    if localProd > prod:\n",
        "      prod = localProd\n",
        "print(prod)\n",
        "\n",
        "prod = 1\n",
        "#Down\n",
        "for row in range(len(grid)):\n",
        "  for col in range(20):\n",
        "    localProd = 1\n",
        "    if row > 16 :\n",
        "      break\n",
        "    for j in range(4):\n",
        "      localProd = localProd * grid[row+j][col]\n",
        "    if localProd > prod:\n",
        "      prod = localProd\n",
        "print(prod)\n",
        "\n",
        "prod = 1\n",
        "#Up\n",
        "for row in range(19,-1,-1):\n",
        "  for col in range(20):\n",
        "    localProd = 1\n",
        "    if row <= 3 :\n",
        "      break\n",
        "    for j in range(4):\n",
        "      localProd = localProd * grid[row-j][col]\n",
        "    if localProd > prod:\n",
        "      prod = localProd\n",
        "print(prod)\n",
        "\n",
        "prod = 1\n",
        "#RL\n",
        "for row in range(20):\n",
        "  for col in range(20):\n",
        "    localProd = 1\n",
        "    if row >16  :\n",
        "      break\n",
        "    if col >16  :\n",
        "      break\n",
        "    for j in range(4):\n",
        "      localProd = localProd * grid[row+j][col+j]\n",
        "    if localProd > prod:\n",
        "      prod = localProd\n",
        "print(prod)\n",
        "\n",
        "prod = 1\n",
        "#-R-L\n",
        "for row in range(19,-1,-1):\n",
        "  for col in range(19,-1,-1):\n",
        "    localProd = 1\n",
        "    if row <= 3  :\n",
        "      break\n",
        "    if col <= 3  :\n",
        "      break\n",
        "    for j in range(4):\n",
        "      localProd = localProd * grid[row-j][col-j]\n",
        "    if localProd > prod:\n",
        "      prod = localProd\n",
        "print(prod)\n",
        "\n",
        "\n",
        "prod = 1\n",
        "#R-L\n",
        "for row in range(20):\n",
        "  for col in range(19,-1,-1):\n",
        "    localProd = 1\n",
        "    if row >16  :\n",
        "      break\n",
        "    if col <=3  :\n",
        "      break\n",
        "    for j in range(4):\n",
        "      localProd = localProd * grid[row+j][col-j]\n",
        "    if localProd > prod:\n",
        "      prod = localProd\n",
        "print(prod)"
      ],
      "metadata": {
        "id": "Rl3sUFH8YmrA"
      },
      "execution_count": null,
      "outputs": []
    },
    {
      "cell_type": "markdown",
      "source": [
        "## Highly divisible triangular number\n",
        "\n",
        "### Problem 12\n",
        "The sequence of triangle numbers is generated by adding the natural numbers. So the 7th triangle number would be 1 + 2 + 3 + 4 + 5 + 6 + 7 = 28. The first ten terms would be:\n",
        "\n",
        "1, 3, 6, 10, 15, 21, 28, 36, 45, 55, ...\n",
        "\n",
        "Let us list the factors of the first seven triangle numbers:\n",
        "\n",
        " 1: 1\n",
        "\n",
        " 3: 1,3\n",
        " \n",
        " 6: 1,2,3,6\n",
        "\n",
        "10: 1,2,5,10\n",
        "\n",
        "15: 1,3,5,15\n",
        "\n",
        "21: 1,3,7,21\n",
        "\n",
        "28: 1,2,4,7,14,28\n",
        "\n",
        "We can see that 28 is the first triangle number to have over five divisors.\n",
        "\n",
        "What is the value of the first triangle number to have over five hundred divisors?"
      ],
      "metadata": {
        "id": "QEYL9eQZESGe"
      }
    },
    {
      "cell_type": "code",
      "source": [
        ""
      ],
      "metadata": {
        "id": "gXUp9fqeEhFJ"
      },
      "execution_count": null,
      "outputs": []
    }
  ]
}