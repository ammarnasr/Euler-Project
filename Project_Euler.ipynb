{
  "nbformat": 4,
  "nbformat_minor": 0,
  "metadata": {
    "colab": {
      "name": "Project-Euler.ipynb",
      "provenance": [],
      "collapsed_sections": [
        "9-s5noUBf4mG",
        "Fz8_IAG77AFB",
        "6Zc_z78ckKBy",
        "ddK3clJE7CjH",
        "-H9L3qUqlYhi",
        "I-Zg5Ni-7EF0",
        "xC7dQrG-ni6x",
        "_sAzlgbL7F3o",
        "q-8VZSmUt_qn",
        "L6pE7rGK7Kwa",
        "LGxqFQOZW_2K",
        "Y10adFdS7N_D",
        "DCDkzSc47js_",
        "pqN3MttK7p_G",
        "xw-lm6vT3v6O",
        "G7eTZG2c7RX3",
        "zfaw4r_U7L9m",
        "7mC5LYvS8DGM",
        "76Pc51Jc_ysh",
        "reXRK5u18LKk",
        "IeLVxkWP9Ebt",
        "CzfRrPck9I9g",
        "ulYAq6do9alS",
        "dOlLQ8839hfB",
        "OV-ojn3a9s9A",
        "pqWqLLG1-I5z",
        "GUvdAG2a-OJc",
        "uHxOKxnN-Uqn",
        "ZXb-ZGeZCTbA",
        "NzSA8vMXCaFo",
        "wOvEOteTDnC5",
        "M0WIKJPhD9pz",
        "W6THG7qd1IRF",
        "LFuxvhFA1axm",
        "fWtMJHxKD0i8",
        "sUaP4nPID7hz",
        "LxW8aHwzI_gU",
        "9tmRMfGuQrgK",
        "Tlb01eFXJpdR",
        "czGY_h_GJwu7",
        "DsRARdvUOZET",
        "oLpMM5GoVTvp",
        "pLv5BCRkU-mR",
        "vMlisL2rVPuL",
        "mY0HSyjIpwVv",
        "iILNXrUCp_-X",
        "HKRaT08j73bT",
        "g3aua6ii8RJk",
        "Fsk2OI1cfXja",
        "xXqqZygQfhSm",
        "682cecwp8RDQ",
        "elgC5hVX-pvh",
        "bTNviucL-dW-",
        "br6DGjUN-oef",
        "Em51glvFCZlu",
        "zhM-b0dLCe3Y",
        "wBU9TTWcqnmZ",
        "WV31Grr7qxzy",
        "pZm1Quidjg2V",
        "3Y4UdiG1j4dG",
        "8Cf18BS5zkcn",
        "jht_ChxVzt5M",
        "CPple5afz46v",
        "8SupxH9T0KqC",
        "ORviDCdj0bQV",
        "Z9HAx0Gv0bQV",
        "FIGMSF510bS2",
        "bAEgtR_e0bS3",
        "spElzb6V0bVy",
        "1sc4E7vA0bVy",
        "dGh4Yb_v0bYA",
        "9MIxPaSZ0bYA",
        "Y2f9_Jql0bad",
        "WR8mBqbf0bad",
        "Xdnh2goF0bdB",
        "DdkqQALQ0bdC",
        "TiP0Sn__0bfm",
        "Skqypnud0bfm",
        "gHe3W1jg0bh_",
        "OIVT6t4I0bh_",
        "RwneJtLf0bkW",
        "-ukTexDC0bm1",
        "3OSQBch00bm1",
        "uHqjwJjU0bpF",
        "BrUc4Llg0bpG",
        "695UQb3f0brX",
        "-QFbmHCk0brX",
        "Gd99CD0B0btg",
        "qofBKdVs0btg",
        "dd3qOQTk0b5t",
        "aEMpS-Mn0b5u",
        "ADp_yo0y0b70",
        "Xn-3Szfx0b-X",
        "qAewMR-_0cAm",
        "1LMsIeTG0cAm",
        "ziT97vdxlEn-",
        "tCR7ph4jm4Z_",
        "GB_093XOdUwC",
        "3STEz0NudfO2",
        "x8uIpDut5hZX",
        "w1T_RAJs6zck",
        "JEfpzb4V6zio",
        "A8etZ6da6zrI",
        "GIkwLaP-6zxc",
        "2DAekvxk6z4m",
        "VEdotFzF6z4n",
        "sQYZnTOz6z-A",
        "vmI7P_TX60DF",
        "Qi1BiIA460Hv",
        "ZIttxdRg60Lx",
        "DhiGycLx60PH",
        "8JMGfQr060SO",
        "d3iu2EBc60VM",
        "7-9Fca5660oO",
        "Lrtot28M60oO",
        "LGvY7Jri60rL",
        "tgb48YPk60t1",
        "PVQO9c6U60wh",
        "LVjH9uc5zE0n"
      ],
      "authorship_tag": "ABX9TyOAKHC19WSDcfMbu4OxSLoL",
      "include_colab_link": true
    },
    "kernelspec": {
      "name": "python3",
      "display_name": "Python 3"
    },
    "language_info": {
      "name": "python"
    }
  },
  "cells": [
    {
      "cell_type": "markdown",
      "metadata": {
        "id": "view-in-github",
        "colab_type": "text"
      },
      "source": [
        "<a href=\"https://colab.research.google.com/github/ammarnasr/Euler-Project/blob/main/Project_Euler.ipynb\" target=\"_parent\"><img src=\"https://colab.research.google.com/assets/colab-badge.svg\" alt=\"Open In Colab\"/></a>"
      ]
    },
    {
      "cell_type": "markdown",
      "source": [
        "## 5.Smallest multiple\n"
      ],
      "metadata": {
        "id": "9-s5noUBf4mG"
      }
    },
    {
      "cell_type": "markdown",
      "source": [
        "\n",
        "### Problem 5\n",
        "2520 is the smallest number that can be divided by each of the numbers from 1 to 10 without any remainder.\n",
        "\n",
        "What is the smallest positive number that is evenly divisible by all of the numbers from 1 to 20?"
      ],
      "metadata": {
        "id": "Fz8_IAG77AFB"
      }
    },
    {
      "cell_type": "code",
      "execution_count": null,
      "metadata": {
        "id": "GOT4UJ-Zfyae"
      },
      "outputs": [],
      "source": [
        "i= 0\n",
        "done = False\n",
        "while not done:\n",
        "  for j in range(19,0,-1):\n",
        "    if i%j != 0:\n",
        "      break\n",
        "    if j == 1 and i !=0 :\n",
        "      done = True\n",
        "  i += 20\n",
        "  \n",
        "print('The Answer is: ', i)"
      ]
    },
    {
      "cell_type": "markdown",
      "source": [
        "## 6.Sum square difference\n"
      ],
      "metadata": {
        "id": "6Zc_z78ckKBy"
      }
    },
    {
      "cell_type": "markdown",
      "source": [
        "\n",
        "### Problem 6\n",
        "The sum of the squares of the first ten natural numbers is,\n",
        "\n",
        "The square of the sum of the first ten natural numbers is,\n",
        "\n",
        "Hence the difference between the sum of the squares of the first ten natural numbers and the square of the sum is .\n",
        "\n",
        "Find the difference between the sum of the squares of the first one hundred natural numbers and the square of the sum."
      ],
      "metadata": {
        "id": "ddK3clJE7CjH"
      }
    },
    {
      "cell_type": "code",
      "source": [
        "sumOfSquares = 0\n",
        "sum = 0\n",
        "for i in range(101):\n",
        "  sum +=i\n",
        "  sumOfSquares += i*i\n",
        "print((sum*sum) - sumOfSquares)"
      ],
      "metadata": {
        "id": "5p9fRchEgkoF"
      },
      "execution_count": null,
      "outputs": []
    },
    {
      "cell_type": "markdown",
      "source": [
        "## 7.10001st prime\n",
        " "
      ],
      "metadata": {
        "id": "-H9L3qUqlYhi"
      }
    },
    {
      "cell_type": "markdown",
      "source": [
        "\n",
        "### Problem 7\n",
        "\n",
        "By listing the first six prime numbers: 2, 3, 5, 7, 11, and 13, we can see that the 6th prime is 13.\n",
        "\n",
        "What is the 10001st prime number?"
      ],
      "metadata": {
        "id": "I-Zg5Ni-7EF0"
      }
    },
    {
      "cell_type": "code",
      "source": [
        "def checkPrime(n):\n",
        "  for i in range(2, n):\n",
        "    if n%i == 0:\n",
        "      return False\n",
        "  return True\n",
        "\n",
        "sum = 1\n",
        "i = 3\n",
        "while sum < 10001 :\n",
        "  if checkPrime(i):\n",
        "    sum += 1\n",
        "    print('Found Prime: ', i, \"Sum is Now :\", sum)\n",
        "  i += 2\n"
      ],
      "metadata": {
        "id": "hNySdd5skT1q"
      },
      "execution_count": null,
      "outputs": []
    },
    {
      "cell_type": "markdown",
      "source": [
        "## 8.Largest product in a series\n",
        " "
      ],
      "metadata": {
        "id": "xC7dQrG-ni6x"
      }
    },
    {
      "cell_type": "markdown",
      "source": [
        "\n",
        "### Problem 8\n",
        "\n",
        "The four adjacent digits in the 1000-digit number that have the greatest product are 9 × 9 × 8 × 9 = 5832.\n",
        "\n",
        "73167176531330624919225119674426574742355349194934\n",
        "96983520312774506326239578318016984801869478851843\n",
        "85861560789112949495459501737958331952853208805511\n",
        "12540698747158523863050715693290963295227443043557\n",
        "66896648950445244523161731856403098711121722383113\n",
        "62229893423380308135336276614282806444486645238749\n",
        "30358907296290491560440772390713810515859307960866\n",
        "70172427121883998797908792274921901699720888093776\n",
        "65727333001053367881220235421809751254540594752243\n",
        "52584907711670556013604839586446706324415722155397\n",
        "53697817977846174064955149290862569321978468622482\n",
        "83972241375657056057490261407972968652414535100474\n",
        "82166370484403199890008895243450658541227588666881\n",
        "16427171479924442928230863465674813919123162824586\n",
        "17866458359124566529476545682848912883142607690042\n",
        "24219022671055626321111109370544217506941658960408\n",
        "07198403850962455444362981230987879927244284909188\n",
        "84580156166097919133875499200524063689912560717606\n",
        "05886116467109405077541002256983155200055935729725\n",
        "71636269561882670428252483600823257530420752963450\n",
        "\n",
        "Find the thirteen adjacent digits in the 1000-digit number that have the greatest product. What is the value of this product?"
      ],
      "metadata": {
        "id": "_sAzlgbL7F3o"
      }
    },
    {
      "cell_type": "code",
      "source": [
        "s = '7316717653133062491922511967442657474235534919493496983520312774506326239578318016984801869478851843858615607891129494954595017379583319528532088055111254069874715852386305071569329096329522744304355766896648950445244523161731856403098711121722383113622298934233803081353362766142828064444866452387493035890729629049156044077239071381051585930796086670172427121883998797908792274921901699720888093776657273330010533678812202354218097512545405947522435258490771167055601360483958644670632441572215539753697817977846174064955149290862569321978468622482839722413756570560574902614079729686524145351004748216637048440319989000889524345065854122758866688116427171479924442928230863465674813919123162824586178664583591245665294765456828489128831426076900422421902267105562632111110937054421750694165896040807198403850962455444362981230987879927244284909188845801561660979191338754992005240636899125607176060588611646710940507754100225698315520005593572972571636269561882670428252483600823257530420752963450'\n",
        "digits = []\n",
        "for c in s :\n",
        "  digits.append(int(c))\n",
        "\n",
        "startPoint = 0\n",
        "endPoint = 12\n",
        "shift = 0\n",
        "maxProduct = 0\n",
        "while shift < 1000-12:\n",
        "\n",
        "  if digits[endPoint+shift] == 0:\n",
        "    shift +=13\n",
        "    if  shift >= 1000-12:\n",
        "      break\n",
        "  \n",
        "  localProduct = 1\n",
        "  for i in range (startPoint+shift, endPoint+shift+1):\n",
        "    localProduct = localProduct * digits[i]\n",
        "\n",
        "  if localProduct > maxProduct:\n",
        "    maxProduct = localProduct\n",
        "    print(\"New Max Product of:\", maxProduct, \"At shift: \", shift)\n",
        "  \n",
        "  shift +=1\n",
        "\n",
        "\n",
        "print(\"Max Product is:\", maxProduct)"
      ],
      "metadata": {
        "id": "AtoeHjn2l_Le"
      },
      "execution_count": null,
      "outputs": []
    },
    {
      "cell_type": "markdown",
      "source": [
        "## 9.Special Pythagorean triplet\n",
        " "
      ],
      "metadata": {
        "id": "q-8VZSmUt_qn"
      }
    },
    {
      "cell_type": "markdown",
      "source": [
        "\n",
        "### Problem 9\n",
        "A Pythagorean triplet is a set of three natural numbers, a < b < c, for which,\n",
        "\n",
        "a2 + b2 = c2\n",
        "\n",
        "For example,\n",
        "\n",
        "   32 + 42 = 9 + 16 = 25 = 52.\n",
        "\n",
        "There exists exactly one Pythagorean triplet for which a + b + c = 1000.\n",
        "Find the product abc."
      ],
      "metadata": {
        "id": "L6pE7rGK7Kwa"
      }
    },
    {
      "cell_type": "code",
      "source": [
        "import math\n",
        "\n",
        "def checkSqure(a,b):\n",
        "  c_sqaured= (a*a)+(b*b)\n",
        "  if math.sqrt(c_sqaured)%1 ==0 :\n",
        "    return math.sqrt(c_sqaured)\n",
        "  return -1\n",
        "\n",
        "a = 1\n",
        "b = 1\n",
        "c = 2\n",
        "\n",
        "for b in range(2, 1000):\n",
        "  for a in range(1, 1000):\n",
        "    c = checkSqure(a,b)\n",
        "    sum = a+b+c\n",
        "    if c != -1 :\n",
        "      if sum == 1000:\n",
        "        print(\"Found: \", a, b, c, \"sum = \", sum, \"abc = \", a*b*c)\n",
        "    if sum > 1000:\n",
        "      break\n",
        "\n"
      ],
      "metadata": {
        "id": "yPPmTSiZoJ0u"
      },
      "execution_count": null,
      "outputs": []
    },
    {
      "cell_type": "markdown",
      "source": [
        "## 10.Summation of primes\n"
      ],
      "metadata": {
        "id": "LGxqFQOZW_2K"
      }
    },
    {
      "cell_type": "markdown",
      "source": [
        "\n",
        "### Problem 10\n",
        "The sum of the primes below 10 is 2 + 3 + 5 + 7 = 17.\n",
        "\n",
        "Find the sum of all the primes below two million."
      ],
      "metadata": {
        "id": "Y10adFdS7N_D"
      }
    },
    {
      "cell_type": "code",
      "source": [
        "import math\n",
        "primes = [2]\n",
        "for i in range (3, 2000000, 2):\n",
        "  for j in primes:\n",
        "    if j > math.sqrt(i):\n",
        "      primes.append(i)\n",
        "      print('Found Prime: ', i, 'Sum: ', sum(primes))\n",
        "      break\n",
        "    if i%j == 0 :\n",
        "      break"
      ],
      "metadata": {
        "id": "OcO8ReIRv-dk"
      },
      "execution_count": null,
      "outputs": []
    },
    {
      "cell_type": "markdown",
      "source": [
        "## 11.Largest product in a grid\n"
      ],
      "metadata": {
        "id": "DCDkzSc47js_"
      }
    },
    {
      "cell_type": "markdown",
      "source": [
        "\n",
        "###Problem 11\n",
        "\n",
        "In the 20×20 grid below, four numbers along a diagonal line have been marked in red.\n",
        "\n",
        "08 02 22 97 38 15 00 40 00 75 04 05 07 78 52 12 50 77 91 08 49 49 99 40 17 81 18 57 60 87 17 40 98 43 69 48 04 56 62 00 81 49 31 73 55 79 14 29 93 71 40 67 53 88 30 03 49 13 36 65 52 70 95 23 04 60 11 42 69 24 68 56 01 32 56 71 37 02 36 91 22 31 16 71 51 67 63 89 41 92 36 54 22 40 40 28 66 33 13 80 24 47 32 60 99 03 45 02 44 75 33 53 78 36 84 20 35 17 12 50 32 98 81 28 64 23 67 10 26 38 40 67 59 54 70 66 18 38 64 70 67 26 20 68 02 62 12 20 95 63 94 39 63 08 40 91 66 49 94 21 24 55 58 05 66 73 99 26 97 17 78 78 96 83 14 88 34 89 63 72 21 36 23 09 75 00 76 44 20 45 35 14 00 61 33 97 34 31 33 95 78 17 53 28 22 75 31 67 15 94 03 80 04 62 16 14 09 53 56 92 16 39 05 42 96 35 31 47 55 58 88 24 00 17 54 24 36 29 85 57 86 56 00 48 35 71 89 07 05 44 44 37 44 60 21 58 51 54 17 58 19 80 81 68 05 94 47 69 28 73 92 13 86 52 17 77 04 89 55 40 04 52 08 83 97 35 99 16 07 97 57 32 16 26 26 79 33 27 98 66 88 36 68 87 57 62 20 72 03 46 33 67 46 55 12 32 63 93 53 69 04 42 16 73 38 25 39 11 24 94 72 18 08 46 29 32 40 62 76 36 20 69 36 41 72 30 23 88 34 62 99 69 82 67 59 85 74 04 36 16 20 73 35 29 78 31 90 01 74 31 49 71 48 86 81 16 23 57 05 54 01 70 54 71 83 51 54 69 16 92 33 48 61 43 52 01 89 19 67 48\n",
        "\n",
        "The product of these numbers is 26 × 63 × 78 × 14 = 1788696.\n",
        "\n",
        "What is the greatest product of four adjacent numbers in the same direction (up, down, left, right, or diagonally) in the 20×20 grid?"
      ],
      "metadata": {
        "id": "pqN3MttK7p_G"
      }
    },
    {
      "cell_type": "code",
      "source": [
        "s = \"08022297381500400075040507785212507791084949994017811857608717409843694804566200814931735579142993714067538830034913366552709523046011426924685601325671370236912231167151676389419236542240402866331380244732609903450244753353783684203517125032988128642367102638406759547066183864706726206802621220956394396308409166499421245558056673992697177878968314883489637221362309750076442045351400613397343133957817532822753167159403800462161409535692163905429635314755588824001754243629855786560048357189070544443744602158515417581980816805944769287392138652177704895540045208839735991607975732162626793327986688366887576220720346336746551232639353690442167338253911249472180846293240627636206936417230238834629969826759857404361620733529783190017431497148868116235705540170547183515469169233486143520189196748\"\n",
        "grid = []\n",
        "row = []\n",
        "for c in range(0, len(s), 2):\n",
        "  row.append(int(s[c]+s[c+1]))\n",
        "  if len(row) == 20:\n",
        "    grid.append(row)\n",
        "    row = []\n",
        "print(grid)\n",
        "\n",
        "prod = 1\n",
        "#left\n",
        "for row in range(len(grid)):\n",
        "  for col in range(20):\n",
        "    localProd = 1\n",
        "    if col > 16 :\n",
        "      break\n",
        "    for j in range(4):\n",
        "      localProd = localProd * grid[row][col+j]\n",
        "    if localProd > prod:\n",
        "      prod = localProd\n",
        "print(prod)\n",
        "\n",
        "prod = 1\n",
        "#right\n",
        "for row in range(len(grid)):\n",
        "  for col in range(19,-1,-1):\n",
        "    localProd = 1\n",
        "    if col <= 3 :\n",
        "      break\n",
        "    for j in range(4):\n",
        "      localProd = localProd * grid[row][col-j]\n",
        "    if localProd > prod:\n",
        "      prod = localProd\n",
        "print(prod)\n",
        "\n",
        "prod = 1\n",
        "#Down\n",
        "for row in range(len(grid)):\n",
        "  for col in range(20):\n",
        "    localProd = 1\n",
        "    if row > 16 :\n",
        "      break\n",
        "    for j in range(4):\n",
        "      localProd = localProd * grid[row+j][col]\n",
        "    if localProd > prod:\n",
        "      prod = localProd\n",
        "print(prod)\n",
        "\n",
        "prod = 1\n",
        "#Up\n",
        "for row in range(19,-1,-1):\n",
        "  for col in range(20):\n",
        "    localProd = 1\n",
        "    if row <= 3 :\n",
        "      break\n",
        "    for j in range(4):\n",
        "      localProd = localProd * grid[row-j][col]\n",
        "    if localProd > prod:\n",
        "      prod = localProd\n",
        "print(prod)\n",
        "\n",
        "prod = 1\n",
        "#RL\n",
        "for row in range(20):\n",
        "  for col in range(20):\n",
        "    localProd = 1\n",
        "    if row >16  :\n",
        "      break\n",
        "    if col >16  :\n",
        "      break\n",
        "    for j in range(4):\n",
        "      localProd = localProd * grid[row+j][col+j]\n",
        "    if localProd > prod:\n",
        "      prod = localProd\n",
        "print(prod)\n",
        "\n",
        "prod = 1\n",
        "#-R-L\n",
        "for row in range(19,-1,-1):\n",
        "  for col in range(19,-1,-1):\n",
        "    localProd = 1\n",
        "    if row <= 3  :\n",
        "      break\n",
        "    if col <= 3  :\n",
        "      break\n",
        "    for j in range(4):\n",
        "      localProd = localProd * grid[row-j][col-j]\n",
        "    if localProd > prod:\n",
        "      prod = localProd\n",
        "print(prod)\n",
        "\n",
        "\n",
        "prod = 1\n",
        "#R-L\n",
        "for row in range(20):\n",
        "  for col in range(19,-1,-1):\n",
        "    localProd = 1\n",
        "    if row >16  :\n",
        "      break\n",
        "    if col <=3  :\n",
        "      break\n",
        "    for j in range(4):\n",
        "      localProd = localProd * grid[row+j][col-j]\n",
        "    if localProd > prod:\n",
        "      prod = localProd\n",
        "print(prod)"
      ],
      "metadata": {
        "id": "FjAWJZk47rlw"
      },
      "execution_count": null,
      "outputs": []
    },
    {
      "cell_type": "markdown",
      "source": [
        "## 12.Highly divisible triangular number\n"
      ],
      "metadata": {
        "id": "xw-lm6vT3v6O"
      }
    },
    {
      "cell_type": "markdown",
      "source": [
        "\n",
        "### Problem 12\n",
        "The sequence of triangle numbers is generated by adding the natural numbers. So the 7th triangle number would be 1 + 2 + 3 + 4 + 5 + 6 + 7 = 28. The first ten terms would be:\n",
        "\n",
        "1, 3, 6, 10, 15, 21, 28, 36, 45, 55, ...\n",
        "\n",
        "Let us list the factors of the first seven triangle numbers:\n",
        "\n",
        " 1: 1\n",
        "\n",
        " 3: 1,3\n",
        " \n",
        " 6: 1,2,3,6\n",
        "\n",
        "10: 1,2,5,10\n",
        "\n",
        "15: 1,3,5,15\n",
        "\n",
        "21: 1,3,7,21\n",
        "\n",
        "28: 1,2,4,7,14,28\n",
        "\n",
        "We can see that 28 is the first triangle number to have over five divisors.\n",
        "\n",
        "What is the value of the first triangle number to have over five hundred divisors?"
      ],
      "metadata": {
        "id": "G7eTZG2c7RX3"
      }
    },
    {
      "cell_type": "code",
      "source": [
        "def numberOfDivisors(n):\n",
        "  divs = []\n",
        "  for i in range(1, n+1):\n",
        "    if n%i == 0:\n",
        "      if i in divs:\n",
        "        return divs\n",
        "      divs.append(i)\n",
        "      divs.append(n//i)\n",
        "  return divs\n",
        "\n",
        "numberOfDivisors(28)\n",
        "\n",
        "n = 1\n",
        "k= 1\n",
        "\n",
        "while len(numberOfDivisors(k)) < 500:\n",
        "  n = n+1\n",
        "  k = k+n\n",
        "\n",
        "print('The answer is: ', k)"
      ],
      "metadata": {
        "id": "lcdAHw3a4BQo"
      },
      "execution_count": null,
      "outputs": []
    },
    {
      "cell_type": "markdown",
      "source": [
        "## 13.Large sum\n"
      ],
      "metadata": {
        "id": "zfaw4r_U7L9m"
      }
    },
    {
      "cell_type": "markdown",
      "source": [
        "\n",
        "### Problem 13\n",
        "Work out the first ten digits of the sum of the following one-hundred 50-digit numbers.\n",
        "\n",
        "37107287533902102798797998220837590246510135740250\n",
        "46376937677490009712648124896970078050417018260538\n",
        "74324986199524741059474233309513058123726617309629\n",
        "91942213363574161572522430563301811072406154908250\n",
        "23067588207539346171171980310421047513778063246676\n",
        "89261670696623633820136378418383684178734361726757\n",
        "28112879812849979408065481931592621691275889832738\n",
        "44274228917432520321923589422876796487670272189318\n",
        "47451445736001306439091167216856844588711603153276\n",
        "70386486105843025439939619828917593665686757934951\n",
        "62176457141856560629502157223196586755079324193331\n",
        "64906352462741904929101432445813822663347944758178\n",
        "92575867718337217661963751590579239728245598838407\n",
        "58203565325359399008402633568948830189458628227828\n",
        "80181199384826282014278194139940567587151170094390\n",
        "35398664372827112653829987240784473053190104293586\n",
        "86515506006295864861532075273371959191420517255829\n",
        "71693888707715466499115593487603532921714970056938\n",
        "54370070576826684624621495650076471787294438377604\n",
        "53282654108756828443191190634694037855217779295145\n",
        "36123272525000296071075082563815656710885258350721\n",
        "45876576172410976447339110607218265236877223636045\n",
        "17423706905851860660448207621209813287860733969412\n",
        "81142660418086830619328460811191061556940512689692\n",
        "51934325451728388641918047049293215058642563049483\n",
        "62467221648435076201727918039944693004732956340691\n",
        "15732444386908125794514089057706229429197107928209\n",
        "55037687525678773091862540744969844508330393682126\n",
        "18336384825330154686196124348767681297534375946515\n",
        "80386287592878490201521685554828717201219257766954\n",
        "78182833757993103614740356856449095527097864797581\n",
        "16726320100436897842553539920931837441497806860984\n",
        "48403098129077791799088218795327364475675590848030\n",
        "87086987551392711854517078544161852424320693150332\n",
        "59959406895756536782107074926966537676326235447210\n",
        "69793950679652694742597709739166693763042633987085\n",
        "41052684708299085211399427365734116182760315001271\n",
        "65378607361501080857009149939512557028198746004375\n",
        "35829035317434717326932123578154982629742552737307\n",
        "94953759765105305946966067683156574377167401875275\n",
        "88902802571733229619176668713819931811048770190271\n",
        "25267680276078003013678680992525463401061632866526\n",
        "36270218540497705585629946580636237993140746255962\n",
        "24074486908231174977792365466257246923322810917141\n",
        "91430288197103288597806669760892938638285025333403\n",
        "34413065578016127815921815005561868836468420090470\n",
        "23053081172816430487623791969842487255036638784583\n",
        "11487696932154902810424020138335124462181441773470\n",
        "63783299490636259666498587618221225225512486764533\n",
        "67720186971698544312419572409913959008952310058822\n",
        "95548255300263520781532296796249481641953868218774\n",
        "76085327132285723110424803456124867697064507995236\n",
        "37774242535411291684276865538926205024910326572967\n",
        "23701913275725675285653248258265463092207058596522\n",
        "29798860272258331913126375147341994889534765745501\n",
        "18495701454879288984856827726077713721403798879715\n",
        "38298203783031473527721580348144513491373226651381\n",
        "34829543829199918180278916522431027392251122869539\n",
        "40957953066405232632538044100059654939159879593635\n",
        "29746152185502371307642255121183693803580388584903\n",
        "41698116222072977186158236678424689157993532961922\n",
        "62467957194401269043877107275048102390895523597457\n",
        "23189706772547915061505504953922979530901129967519\n",
        "86188088225875314529584099251203829009407770775672\n",
        "11306739708304724483816533873502340845647058077308\n",
        "82959174767140363198008187129011875491310547126581\n",
        "97623331044818386269515456334926366572897563400500\n",
        "42846280183517070527831839425882145521227251250327\n",
        "55121603546981200581762165212827652751691296897789\n",
        "32238195734329339946437501907836945765883352399886\n",
        "75506164965184775180738168837861091527357929701337\n",
        "62177842752192623401942399639168044983993173312731\n",
        "32924185707147349566916674687634660915035914677504\n",
        "99518671430235219628894890102423325116913619626622\n",
        "73267460800591547471830798392868535206946944540724\n",
        "76841822524674417161514036427982273348055556214818\n",
        "97142617910342598647204516893989422179826088076852\n",
        "87783646182799346313767754307809363333018982642090\n",
        "10848802521674670883215120185883543223812876952786\n",
        "71329612474782464538636993009049310363619763878039\n",
        "62184073572399794223406235393808339651327408011116\n",
        "66627891981488087797941876876144230030984490851411\n",
        "60661826293682836764744779239180335110989069790714\n",
        "85786944089552990653640447425576083659976645795096\n",
        "66024396409905389607120198219976047599490197230297\n",
        "64913982680032973156037120041377903785566085089252\n",
        "16730939319872750275468906903707539413042652315011\n",
        "94809377245048795150954100921645863754710598436791\n",
        "78639167021187492431995700641917969777599028300699\n",
        "15368713711936614952811305876380278410754449733078\n",
        "40789923115535562561142322423255033685442488917353\n",
        "44889911501440648020369068063960672322193204149535\n",
        "41503128880339536053299340368006977710650566631954\n",
        "81234880673210146739058568557934581403627822703280\n",
        "82616570773948327592232845941706525094512325230608\n",
        "22918802058777319719839450180888072429661980811197\n",
        "77158542502016545090413245809786882778948721859617\n",
        "72107838435069186155435662884062257473692284509516\n",
        "20849603980134001723930671666823555245252804609722\n",
        "53503534226472524250874054075591789781264330331690"
      ],
      "metadata": {
        "id": "7mC5LYvS8DGM"
      }
    },
    {
      "cell_type": "code",
      "source": [
        "s = '37107287533902102798797998220837590246510135740250,46376937677490009712648124896970078050417018260538,74324986199524741059474233309513058123726617309629,91942213363574161572522430563301811072406154908250,23067588207539346171171980310421047513778063246676,89261670696623633820136378418383684178734361726757,28112879812849979408065481931592621691275889832738,44274228917432520321923589422876796487670272189318,47451445736001306439091167216856844588711603153276,70386486105843025439939619828917593665686757934951,62176457141856560629502157223196586755079324193331,64906352462741904929101432445813822663347944758178,92575867718337217661963751590579239728245598838407,58203565325359399008402633568948830189458628227828,80181199384826282014278194139940567587151170094390,35398664372827112653829987240784473053190104293586,86515506006295864861532075273371959191420517255829,71693888707715466499115593487603532921714970056938,54370070576826684624621495650076471787294438377604,53282654108756828443191190634694037855217779295145,36123272525000296071075082563815656710885258350721,45876576172410976447339110607218265236877223636045,17423706905851860660448207621209813287860733969412,81142660418086830619328460811191061556940512689692,51934325451728388641918047049293215058642563049483,62467221648435076201727918039944693004732956340691,15732444386908125794514089057706229429197107928209,55037687525678773091862540744969844508330393682126,18336384825330154686196124348767681297534375946515,80386287592878490201521685554828717201219257766954,78182833757993103614740356856449095527097864797581,16726320100436897842553539920931837441497806860984,48403098129077791799088218795327364475675590848030,87086987551392711854517078544161852424320693150332,59959406895756536782107074926966537676326235447210,69793950679652694742597709739166693763042633987085,41052684708299085211399427365734116182760315001271,65378607361501080857009149939512557028198746004375,35829035317434717326932123578154982629742552737307,94953759765105305946966067683156574377167401875275,88902802571733229619176668713819931811048770190271,25267680276078003013678680992525463401061632866526,36270218540497705585629946580636237993140746255962,24074486908231174977792365466257246923322810917141,91430288197103288597806669760892938638285025333403,34413065578016127815921815005561868836468420090470,23053081172816430487623791969842487255036638784583,11487696932154902810424020138335124462181441773470,63783299490636259666498587618221225225512486764533,67720186971698544312419572409913959008952310058822,95548255300263520781532296796249481641953868218774,76085327132285723110424803456124867697064507995236,37774242535411291684276865538926205024910326572967,23701913275725675285653248258265463092207058596522,29798860272258331913126375147341994889534765745501,18495701454879288984856827726077713721403798879715,38298203783031473527721580348144513491373226651381,34829543829199918180278916522431027392251122869539,40957953066405232632538044100059654939159879593635,29746152185502371307642255121183693803580388584903,41698116222072977186158236678424689157993532961922,62467957194401269043877107275048102390895523597457,23189706772547915061505504953922979530901129967519,86188088225875314529584099251203829009407770775672,11306739708304724483816533873502340845647058077308,82959174767140363198008187129011875491310547126581,97623331044818386269515456334926366572897563400500,42846280183517070527831839425882145521227251250327,55121603546981200581762165212827652751691296897789,32238195734329339946437501907836945765883352399886,75506164965184775180738168837861091527357929701337,62177842752192623401942399639168044983993173312731,32924185707147349566916674687634660915035914677504,99518671430235219628894890102423325116913619626622,73267460800591547471830798392868535206946944540724,76841822524674417161514036427982273348055556214818,97142617910342598647204516893989422179826088076852,87783646182799346313767754307809363333018982642090,10848802521674670883215120185883543223812876952786,71329612474782464538636993009049310363619763878039,62184073572399794223406235393808339651327408011116,66627891981488087797941876876144230030984490851411,60661826293682836764744779239180335110989069790714,85786944089552990653640447425576083659976645795096,66024396409905389607120198219976047599490197230297,64913982680032973156037120041377903785566085089252,16730939319872750275468906903707539413042652315011,94809377245048795150954100921645863754710598436791,78639167021187492431995700641917969777599028300699,15368713711936614952811305876380278410754449733078,40789923115535562561142322423255033685442488917353,44889911501440648020369068063960672322193204149535,41503128880339536053299340368006977710650566631954,81234880673210146739058568557934581403627822703280,82616570773948327592232845941706525094512325230608,22918802058777319719839450180888072429661980811197,77158542502016545090413245809786882778948721859617,72107838435069186155435662884062257473692284509516,20849603980134001723930671666823555245252804609722,53503534226472524250874054075591789781264330331690'\n",
        "l = s.split(',')\n",
        "sum = 0\n",
        "\n",
        "for number in l:\n",
        "  sum += int(number)\n",
        "print(\"Sum: \", sum)\n",
        "print(\"FirstDigits: \", str(sum)[0:10])"
      ],
      "metadata": {
        "id": "bBkLBVpX78Ym"
      },
      "execution_count": null,
      "outputs": []
    },
    {
      "cell_type": "markdown",
      "source": [
        "## 14.Longest Collatz sequence\n"
      ],
      "metadata": {
        "id": "76Pc51Jc_ysh"
      }
    },
    {
      "cell_type": "markdown",
      "source": [
        "\n",
        "### Problem 14\n",
        "The following iterative sequence is defined for the set of positive integers:\n",
        "\n",
        "n → n/2 (n is even)\n",
        "\n",
        "n → 3n + 1 (n is odd)\n",
        "\n",
        "Using the rule above and starting with 13, we generate the following sequence:\n",
        "\n",
        "13 → 40 → 20 → 10 → 5 → 16 → 8 → 4 → 2 → 1\n",
        "\n",
        "It can be seen that this sequence (starting at 13 and finishing at 1) contains 10 terms. Although it has not been proved yet (Collatz Problem), it is thought that all starting numbers finish at 1.\n",
        "\n",
        "Which starting number, under one million, produces the longest chain?\n",
        "\n",
        "NOTE: Once the chain starts the terms are allowed to go above one million."
      ],
      "metadata": {
        "id": "reXRK5u18LKk"
      }
    },
    {
      "cell_type": "code",
      "source": [
        "def collatz(n, seq=[]):\n",
        "  seq.append(n)\n",
        "  if n == 1:\n",
        "    return seq\n",
        "  if n%2 == 0:\n",
        "    return collatz(n//2, seq)\n",
        "  return collatz(3*n+1, seq)\n",
        "\n",
        "n=0\n",
        "maxLength = 0\n",
        "while n < 1000000:\n",
        "  n = n+1\n",
        "  l = len(collatz(n,[]))\n",
        "  if l > maxLength:\n",
        "    maxLength = l\n",
        "    print('New Max Length at: ', n , \" of: \", maxLength)\n"
      ],
      "metadata": {
        "id": "MEgNyox6A-QB"
      },
      "execution_count": null,
      "outputs": []
    },
    {
      "cell_type": "markdown",
      "source": [
        "## 15.Lattice paths "
      ],
      "metadata": {
        "id": "IeLVxkWP9Ebt"
      }
    },
    {
      "cell_type": "markdown",
      "source": [
        "\n",
        "###Problem 15\n",
        "Starting in the top left corner of a 2×2 grid, and only being able to move to the right and down, there are exactly 6 routes to the bottom right corner.\n",
        "\n",
        "![p015.png](data:image/png;base64,iVBORw0KGgoAAAANSUhEUgAAANAAAACXAQMAAABeN0fjAAAABlBMVEVsAGUAAADWqXHfAAAAAXRSTlMAQObYZgAAAAlwSFlzAAAuIwAALiMBeKU/dgAAAAd0SU1FB+MDCREdAmoqMqEAAAAkdEVYdENvbW1lbnQAVWxlYWQgR0lGIFNtYXJ0U2F2ZXIgVmVyIDIuMLqaStoAAAGnSURBVEjH7dexboMwEAbgQ45Eh6p0zBT3QSrxWtlg6INZyot4yAN49GDhGuy7BptzKrVqpIpbkvBhMOJs/QHAarz34/JNem/nz97P5SIpJFdQHCjToUgTjRpx1KFGbwCvAKdAACJS+P2+006/QbFFv0GhRU2k28bGFu1i98ZRehnVzxro6faCenUvojC95pHUhdlHmqe4opZoKMkRqTUJor4kSzSuqSGSJRmi/LmIupI00pTTgNSWpJDcXToS9WMiYSOdeJIjkqSXYhJpnizSCxKkVyknnvxHomcihS16LXZs9bVjb1dXJctQuKjmaWRpApYsT5on9lbz+uDqCHv9o4qdHvqnpc18SD0fl1pYLC2uWTgvhw477fR3tGpRdY+GJZ0gTbeNfU479orogk95PBAPphRFtqitkeNI1Mhy1NTIsM9VI83SUCF1jy5EeRQRF4V0Ksgg5VFEXByRzskTZVEkkEKaCjJIWRQJkdjR3nvd+vM4bEWROgGSzckBZpssH4h59WxHEUHnzsEzIzxX5oFIUGyRJieallQ5GTalCMWmFPHzlPIJSygqFqlA3XYAAAAASUVORK5CYII=)\n",
        "\n",
        "How many such routes are there through a 20×20 grid?\n"
      ],
      "metadata": {
        "id": "CzfRrPck9I9g"
      }
    },
    {
      "cell_type": "code",
      "source": [
        "gridSize = 2\n",
        "grid = [[0 for r in range (gridSize+1)]for c in range (gridSize+1)]\n",
        "\n",
        "Queue = [(gridSize, gridSize)]\n",
        "grid[Queue[0][0]][Queue[0][1]] = 1\n",
        "\n",
        "while len(Queue)!= 0 :\n",
        "\n",
        "  element = Queue.pop()\n",
        "  \n",
        "  if element[1]-1 >= 0 :\n",
        "    grid[element[0]][element[1]-1] += grid[element[0]][element[1]]\n",
        "    Queue.append((element[0], element[1]-1))\n",
        "\n",
        "  if element[0]-1 >= 0 :\n",
        "    grid[element[0]-1][element[1]] += grid[element[0]][element[1]]\n",
        "    Queue.append((element[0]-1, element[1]))\n",
        "\n",
        "  if element != (0,0):\n",
        "    grid[element[0]][element[1]] -= grid[element[0]][element[1]]\n",
        "\n",
        "print(grid[element[0]][element[1]])\n",
        "\n",
        "def findLattecPaths(size):\n",
        "  import math\n",
        "\n",
        "  ans = (math.factorial(size*2)) / ( (math.factorial(size)) * (math.factorial(size)))\n",
        "\n",
        "  print('For ', size, 'x', size ,'grid; The answer is: ', ans)\n",
        "\n",
        "\n",
        "findLattecPaths(20)"
      ],
      "metadata": {
        "id": "QNo9_QiG5tjO"
      },
      "execution_count": null,
      "outputs": []
    },
    {
      "cell_type": "markdown",
      "source": [
        "## 16.Power digit sum\n"
      ],
      "metadata": {
        "id": "ulYAq6do9alS"
      }
    },
    {
      "cell_type": "markdown",
      "source": [
        "\n",
        "### Problem 16\n",
        "2^15 = 32768 and the sum of its digits is 3 + 2 + 7 + 6 + 8 = 26.\n",
        "\n",
        "What is the sum of the digits of the number 2^1000?\n",
        "\n"
      ],
      "metadata": {
        "id": "dOlLQ8839hfB"
      }
    },
    {
      "cell_type": "code",
      "source": [
        "x = 2**1000\n",
        "s = str(x)\n",
        "sum = 0 \n",
        "for c in s :\n",
        "  sum += int(c)\n",
        "\n",
        "print('Sum = ', sum)\n"
      ],
      "metadata": {
        "id": "2Rqqz62g9XYb"
      },
      "execution_count": null,
      "outputs": []
    },
    {
      "cell_type": "markdown",
      "source": [
        "## 17.Number letter counts\n"
      ],
      "metadata": {
        "id": "OV-ojn3a9s9A"
      }
    },
    {
      "cell_type": "markdown",
      "source": [
        "\n",
        "### Problem 17\n",
        "If the numbers 1 to 5 are written out in words: one, two, three, four, five, then there are 3 + 3 + 5 + 4 + 4 = 19 letters used in total.\n",
        "\n",
        "If all the numbers from 1 to 1000 (one thousand) inclusive were written out in words, how many letters would be used?\n",
        "\n",
        "NOTE: Do not count spaces or hyphens. For example, 342 (three hundred and forty-two) contains 23 letters and 115 (one hundred and fifteen) contains 20 letters. The use of \"and\" when writing out numbers is in compliance with British usage."
      ],
      "metadata": {
        "id": "pqWqLLG1-I5z"
      }
    },
    {
      "cell_type": "code",
      "source": [
        "num2words = {1: 'One', 2: 'Two', 3: 'Three', 4: 'Four', 5: 'Five', \\\n",
        "             6: 'Six', 7: 'Seven', 8: 'Eight', 9: 'Nine', 10: 'Ten', \\\n",
        "            11: 'Eleven', 12: 'Twelve', 13: 'Thirteen', 14: 'Fourteen', \\\n",
        "            15: 'Fifteen', 16: 'Sixteen', 17: 'Seventeen', 18: 'Eighteen', \\\n",
        "            19: 'Nineteen', 20: 'Twenty', 30: 'Thirty', 40: 'Forty', \\\n",
        "            50: 'Fifty', 60: 'Sixty', 70: 'Seventy', 80: 'Eighty', \\\n",
        "            90: 'Ninety', 0: 'Zero', 100: 'Hundred'}\n",
        "\n",
        "def numberToWord(i):\n",
        "  if i <= 20 :\n",
        "    return (num2words[i])\n",
        "  if i>20 and i <30:\n",
        "    return (num2words[20]+num2words[i%20])\n",
        "  if i == 30 :\n",
        "    return (num2words[i])\n",
        "  if i>30 and i <40:\n",
        "    return (num2words[30]+num2words[i%30])  \n",
        "  if i == 40 :\n",
        "    return (num2words[i])\n",
        "  if i>40 and i <50:\n",
        "    return (num2words[40]+num2words[i%40])\n",
        "  if i == 50 :\n",
        "    return (num2words[i])\n",
        "  if i>50 and i <60:\n",
        "    return (num2words[50]+num2words[i%50])\n",
        "  if i == 60 :\n",
        "    return (num2words[i])\n",
        "  if i>60 and i <70:\n",
        "    return (num2words[60]+num2words[i%60])\n",
        "  if i == 70 :\n",
        "    return (num2words[i])\n",
        "  if i>70 and i <80:\n",
        "    return (num2words[70]+num2words[i%70])  \n",
        "  if i == 80 :\n",
        "    return (num2words[i])\n",
        "  if i>80 and i <90:\n",
        "    return (num2words[80]+num2words[i%80])  \n",
        "  if i == 90 :\n",
        "    return (num2words[i])\n",
        "  if i>90 and i <100:\n",
        "    return (num2words[90]+num2words[i%90])\n",
        "\n",
        "def numberToWordAbove100(i):  \n",
        "  if i % 100 == 0 :\n",
        "    return (num2words[i//100]+num2words[100])\n",
        "  if i%100 != 0:\n",
        "    return (num2words[i//100]+num2words[100]+'And'+numberToWord(i%100))\n",
        "\n",
        "s = ''\n",
        "\n",
        "for i in range(1,1000):\n",
        "  if i  < 100 :\n",
        "    s+=numberToWord(i)\n",
        "  else:\n",
        "    s+=numberToWordAbove100(i)\n",
        "\n",
        "s = s + 'OneThousand'\n",
        " \n",
        "len(s)"
      ],
      "metadata": {
        "id": "1c0M1rw79-V1"
      },
      "execution_count": null,
      "outputs": []
    },
    {
      "cell_type": "markdown",
      "source": [
        "## 18.Maximum path sum I "
      ],
      "metadata": {
        "id": "GUvdAG2a-OJc"
      }
    },
    {
      "cell_type": "markdown",
      "source": [
        "\n",
        "### Problem 18\n",
        "\n",
        "By starting at the top of the triangle below and moving to adjacent numbers on the row below, the maximum total from top to bottom is 23.\n",
        "\n",
        "  3 \n",
        "  \n",
        "   7 4\n",
        "  \n",
        "  2 4 6\n",
        "\n",
        "8 5 9 3\n",
        "\n",
        "That is, 3 + 7 + 4 + 9 = 23.\n",
        "\n",
        "Find the maximum total from top to bottom of the triangle below:\n",
        "\n",
        "75\n",
        "\n",
        "95 64\n",
        "\n",
        "17 47 82\n",
        "\n",
        "18 35 87 10\n",
        "\n",
        "20 04 82 47 65\n",
        "\n",
        "19 01 23 75 03 34\n",
        "\n",
        "88 02 77 73 07 63 67\n",
        "\n",
        "99 65 04 28 06 16 70 92\n",
        "\n",
        "41 41 26 56 83 40 80 70 33\n",
        "\n",
        "41 48 72 33 47 32 37 16 94 29\n",
        "\n",
        "53 71 44 65 25 43 91 52 97 51 14\n",
        "\n",
        "70 11 33 28 77 73 17 78 39 68 17 57\n",
        "\n",
        "91 71 52 38 17 14 91 43 58 50 27 29 48\n",
        "\n",
        "63 66 04 68 89 53 67 30 73 16 69 87 40 31\n",
        "\n",
        "04 62 98 27 23 09 70 98 73 93 38 53 60 04 23\n",
        "\n",
        "NOTE: As there are only 16384 routes, it is possible to solve this problem by trying every route. However, Problem 67, is the same challenge with a triangle containing one-hundred rows; it cannot be solved by brute force, and requires a clever method! ;o)"
      ],
      "metadata": {
        "id": "uHxOKxnN-Uqn"
      }
    },
    {
      "cell_type": "code",
      "source": [
        "s = '75 95 64 17 47 82 18 35 87 10 20 04 82 47 65 19 01 23 75 03 34 88 02 77 73 07 63 67 99 65 04 28 06 16 70 92 41 41 26 56 83 40 80 70 33 41 48 72 33 47 32 37 16 94 29 53 71 44 65 25 43 91 52 97 51 14 70 11 33 28 77 73 17 78 39 68 17 57 91 71 52 38 17 14 91 43 58 50 27 29 48 63 66 04 68 89 53 67 30 73 16 69 87 40 31 04 62 98 27 23 09 70 98 73 93 38 53 60 04 23'\n",
        "s = s.split(' ')\n",
        "pyramid = []\n",
        "row = []\n",
        "rowLen = 1\n",
        "counter = 0\n",
        "for i in range(len(s)):\n",
        "  row.append(int(s[i]))\n",
        "  counter += 1\n",
        "  if counter == rowLen :\n",
        "    rowLen = rowLen + 1\n",
        "    counter = 0\n",
        "    pyramid.append(row)\n",
        "    print((21-rowLen)*' ', row)\n",
        "    row = []\n",
        "\n",
        "maxSum = 0\n",
        "Queue = [(0,0)]\n",
        "path = []\n",
        "doPop = False\n",
        "\n",
        "while Queue:\n",
        "\n",
        "  element = Queue.pop()\n",
        "  \n",
        "  if len(path) >= (len(pyramid)- element[0]) and doPop:\n",
        "    doPop = False\n",
        "    for i in range(len(pyramid)- element[0]):\n",
        "      path.pop()\n",
        "\n",
        "  path.append(pyramid[element[0]][element[1]])\n",
        "\n",
        "  if element[0]+1 < len(pyramid):\n",
        "    Queue.append((element[0]+1, element[1]))\n",
        "    Queue.append((element[0]+1, element[1]+1))\n",
        "    \n",
        "  else:\n",
        "    doPop = True\n",
        "    if len(path) == 15:\n",
        "      sum = 0\n",
        "      for k in path :\n",
        "        sum = sum + k\n",
        "        if sum > maxSum:\n",
        "          maxSum = sum\n",
        "\n",
        "print('The Answer is: ', maxSum)\n"
      ],
      "metadata": {
        "id": "qOi2PPKb-14t"
      },
      "execution_count": null,
      "outputs": []
    },
    {
      "cell_type": "markdown",
      "source": [
        "## 19.Counting Sundays \n"
      ],
      "metadata": {
        "id": "ZXb-ZGeZCTbA"
      }
    },
    {
      "cell_type": "markdown",
      "source": [
        "\n",
        "###Problem 19\n",
        "You are given the following information, but you may prefer to do some research for yourself.\n",
        "\n",
        "\n",
        "\n",
        "\n",
        "*   1 Jan 1900 was a Monday.\n",
        "*   Thirty days has September, April, June and November. All the rest have thirty-one, Saving February alone, Which has twenty-eight, rain or shine. And on leap years, twenty-nine.\n",
        "*   A leap year occurs on any year evenly divisible by 4, but not on a century unless it is divisible by 400.\n",
        "\n",
        "How many Sundays fell on the first of the month during the twentieth century (1 Jan 1901 to 31 Dec 2000)?"
      ],
      "metadata": {
        "id": "NzSA8vMXCaFo"
      }
    },
    {
      "cell_type": "code",
      "source": [
        "MonthsDic = {'Jan': 31, 'Mar':31,  'Apr':30,  'May':31,  'Jun':30,  'Jul':31,  'Aug':31,  'Sep':30,  'Oct':31,  'Nov':30,  'Dec':31, }"
      ],
      "metadata": {
        "id": "8RAKvFCXAT2P"
      },
      "execution_count": null,
      "outputs": []
    },
    {
      "cell_type": "markdown",
      "source": [
        "## 20.Factorial digit sum\n"
      ],
      "metadata": {
        "id": "wOvEOteTDnC5"
      }
    },
    {
      "cell_type": "markdown",
      "source": [
        "\n",
        "### Problem 20\n",
        "n! means n × (n − 1) × ... × 3 × 2 × 1\n",
        "\n",
        "For example, 10! = 10 × 9 × ... × 3 × 2 × 1 = 3628800,\n",
        "\n",
        "and the sum of the digits in the number 10!  is  3 + 6 + 2 + 8 + 8 + 0 + 0 = 27.\n",
        "\n",
        "Find the sum of the digits in the number 100!"
      ],
      "metadata": {
        "id": "M0WIKJPhD9pz"
      }
    },
    {
      "cell_type": "code",
      "source": [
        "import math\n",
        "sum=0\n",
        "for i in str(math.factorial(100)):\n",
        "  sum+=int(i)\n",
        "sum"
      ],
      "metadata": {
        "id": "46r4X0LsD8Ph"
      },
      "execution_count": null,
      "outputs": []
    },
    {
      "cell_type": "markdown",
      "source": [
        "## 21.Amicable numbers\n"
      ],
      "metadata": {
        "id": "W6THG7qd1IRF"
      }
    },
    {
      "cell_type": "markdown",
      "source": [
        "\n",
        "###Problem 21\n",
        "\n",
        "Let d(n) be defined as the sum of proper divisors of n (numbers less than n which divide evenly into n).\n",
        "\n",
        "If d(a) = b and d(b) = a, where a ≠ b, then a and b are an amicable pair and each of a and b are called amicable numbers.\n",
        "\n",
        "For example, the proper divisors of 220 are 1, 2, 4, 5, 10, 11, 20, 22, 44, 55 and 110; therefore d(220) = 284. The proper divisors of 284 are 1, 2, 4, 71 and 142; so d(284) = 220.\n",
        "\n",
        "Evaluate the sum of all the amicable numbers under 10000."
      ],
      "metadata": {
        "id": "LFuxvhFA1axm"
      }
    },
    {
      "cell_type": "code",
      "source": [
        "def properDevisors(n):\n",
        "  devs = [1]\n",
        "  for i in range(2,n):\n",
        "    if i in devs:\n",
        "      return devs\n",
        "    if n%i == 0 :\n",
        "      devs.append(i)\n",
        "      devs.append(n//i)\n",
        "  return devs\n",
        "\n",
        "def d(a):\n",
        "  return sum(properDevisors(a))\n",
        "\n",
        "pairs = []\n",
        "total = 0\n",
        "for a in range (10000) :\n",
        "  b = d(a)\n",
        "  if d(b) == a :\n",
        "    if a != b :\n",
        "      if not (((a,b) in pairs) or ((b,a) in pairs)):\n",
        "        pairs.append((a,b))\n",
        "        total = total + a + b\n",
        "        \n",
        "print('The Sum is: ', total)"
      ],
      "metadata": {
        "id": "5CEUDdf-1cI2"
      },
      "execution_count": null,
      "outputs": []
    },
    {
      "cell_type": "markdown",
      "source": [
        "## 22.Names scores\n"
      ],
      "metadata": {
        "id": "fWtMJHxKD0i8"
      }
    },
    {
      "cell_type": "markdown",
      "source": [
        "\n",
        "### Problem 22\n",
        "Using names.txt (right click and 'Save Link/Target As...'), a 46K text file containing over five-thousand first names, begin by sorting it into alphabetical order. Then working out the alphabetical value for each name, multiply this value by its alphabetical position in the list to obtain a name score.\n",
        "\n",
        "For example, when the list is sorted into alphabetical order, COLIN, which is worth 3 + 15 + 12 + 9 + 14 = 53, is the 938th name in the list. So, COLIN would obtain a score of 938 × 53 = 49714.\n",
        "\n",
        "What is the total of all the name scores in the file?"
      ],
      "metadata": {
        "id": "sUaP4nPID7hz"
      }
    },
    {
      "cell_type": "code",
      "source": [
        "with open('p022_names.txt') as f:\n",
        "    names = sorted(f.readlines()[0].replace('\"',\"\").split(','))\n",
        "alphabet = ['', 'A', 'B', 'C', 'D', 'E', 'F', 'G', 'H', 'I', 'J', 'K', 'L', 'M', 'N', 'O', 'P', 'Q', 'R', 'S', 'T', 'U', 'V', 'W', 'X', 'Y', 'Z']\n",
        "\n",
        "total = 0\n",
        "for i in range(len(names)):\n",
        "  name = names[i]\n",
        "  value = 0\n",
        "  for c  in name:\n",
        "    value += alphabet.index(c)\n",
        "  if i == 937 :\n",
        "    print('937. ', name, ' : ',  value * (i+1) )\n",
        "  total += value * (i+1)\n",
        "print('The Answer is ', total)"
      ],
      "metadata": {
        "id": "XIEciF7mEBim"
      },
      "execution_count": null,
      "outputs": []
    },
    {
      "cell_type": "markdown",
      "source": [
        "## 23.Non-abundant sums\n"
      ],
      "metadata": {
        "id": "LxW8aHwzI_gU"
      }
    },
    {
      "cell_type": "markdown",
      "source": [
        "\n",
        "### Problem 23\n",
        "\n",
        "A perfect number is a number for which the sum of its proper divisors is exactly equal to the number. For example, the sum of the proper divisors of 28 would be 1 + 2 + 4 + 7 + 14 = 28, which means that 28 is a perfect number.\n",
        "\n",
        "A number n is called deficient if the sum of its proper divisors is less than n and it is called abundant if this sum exceeds n.\n",
        "\n",
        "As 12 is the smallest abundant number, 1 + 2 + 3 + 4 + 6 = 16, the smallest number that can be written as the sum of two abundant numbers is 24. By mathematical analysis, it can be shown that all integers greater than 28123 can be written as the sum of two abundant numbers. However, this upper limit cannot be reduced any further by analysis even though it is known that the greatest number that cannot be expressed as the sum of two abundant numbers is less than this limit.\n",
        "\n",
        "Find the sum of all the positive integers which cannot be written as the sum of two abundant numbers."
      ],
      "metadata": {
        "id": "9tmRMfGuQrgK"
      }
    },
    {
      "cell_type": "code",
      "source": [
        "def properDevisors(n):\n",
        "  if n == 0:\n",
        "    return []\n",
        "  devs = [1]\n",
        "  for i in range(2,n):\n",
        "    if i in devs:\n",
        "      return devs\n",
        "    if n%i == 0 :\n",
        "      devs.append(i)\n",
        "      if n//i not in devs:\n",
        "        devs.append(n//i)\n",
        "  return devs\n",
        "\n",
        "def isNumberAbundent(n):\n",
        "  devs = properDevisors(n)\n",
        "  if sum(devs) > n :\n",
        "    return True\n",
        "  return False\n",
        "\n",
        "\n",
        "abuns= []\n",
        "for n in range(28123):\n",
        "  if isNumberAbundent(n):\n",
        "    abuns.append(n)\n",
        "\n",
        "non_abuns = []\n",
        "for num in range(28123):\n",
        "  for a1 in abuns:\n",
        "    if (num - a1) < a1:\n",
        "      non_abuns.append(num)\n",
        "      print(num)\n",
        "      break\n",
        "    if (num - a1) in abuns:\n",
        "      break\n",
        "\n",
        "print('The Answer is: ',sum(non_abuns))"
      ],
      "metadata": {
        "id": "e-OzSXWgEve_"
      },
      "execution_count": null,
      "outputs": []
    },
    {
      "cell_type": "markdown",
      "source": [
        "## 24.Lexicographic permutations\n"
      ],
      "metadata": {
        "id": "Tlb01eFXJpdR"
      }
    },
    {
      "cell_type": "markdown",
      "source": [
        "\n",
        "### Problem 24\n",
        "A permutation is an ordered arrangement of objects. For example, 3124 is one possible permutation of the digits 1, 2, 3 and 4. If all of the permutations are listed numerically or alphabetically, we call it lexicographic order. The lexicographic permutations of 0, 1 and 2 are:\n",
        "\n",
        "012   021   102   120   201   210\n",
        "\n",
        "What is the millionth lexicographic permutation of the digits 0, 1, 2, 3, 4, 5, 6, 7, 8 and 9?"
      ],
      "metadata": {
        "id": "czGY_h_GJwu7"
      }
    },
    {
      "cell_type": "code",
      "source": [
        "from itertools import permutations\n",
        "print('The Answer is: ', \"\".join(list(permutations('0123456789'))[999999]))"
      ],
      "metadata": {
        "id": "hLBAM3XYJx7U"
      },
      "execution_count": null,
      "outputs": []
    },
    {
      "cell_type": "markdown",
      "source": [
        "##25.1000-digit Fibonacci number\n"
      ],
      "metadata": {
        "id": "DsRARdvUOZET"
      }
    },
    {
      "cell_type": "markdown",
      "source": [
        "\n",
        "### Problem 25\n",
        "The Fibonacci sequence is defined by the recurrence relation:\n",
        "\n",
        "Fn = Fn−1 + Fn−2, where F1 = 1 and F2 = 1.\n",
        "\n",
        "Hence the first 12 terms will be:\n",
        "\n",
        "F1 = 1\n",
        "\n",
        "F2 = 1\n",
        "\n",
        "F3 = 2\n",
        "\n",
        "F4 = 3\n",
        "\n",
        "F5 = 5\n",
        "\n",
        "F6 = 8\n",
        "\n",
        "F7 = 13\n",
        "\n",
        "F8 = 21\n",
        "\n",
        "F9 = 34\n",
        "\n",
        "F10 = 55\n",
        "\n",
        "F11 = 89\n",
        "\n",
        "F12 = 144\n",
        "\n",
        "The 12th term, F12, is the first term to contain three digits.\n",
        "\n",
        "What is the index of the first term in the Fibonacci sequence to contain 1000 digits?\n",
        "\n"
      ],
      "metadata": {
        "id": "oLpMM5GoVTvp"
      }
    },
    {
      "cell_type": "code",
      "source": [
        "from os import truncate\n",
        "def fib(n, fibDict):\n",
        "  if n in fibDict:\n",
        "    # print(fibDict)\n",
        "    return fibDict[n]\n",
        "  if n == 1 or n == 2 :\n",
        "    return 1\n",
        "  return fib(n-1, fibDict) + fib(n-2, fibDict)\n",
        "\n",
        "fibCache = {}\n",
        "\n",
        "s= ''\n",
        "k = 1\n",
        "while len(s) < 1000 :\n",
        "  f = fib(k, fibCache)\n",
        "  fibCache[k] = f\n",
        "  s = str(f)\n",
        "  k = k+1\n",
        "\n",
        "print('Term: ', k-1, 'is: ', s, 'of Length: ', len(s))"
      ],
      "metadata": {
        "id": "jdP5NhDoOpYQ"
      },
      "execution_count": null,
      "outputs": []
    },
    {
      "cell_type": "markdown",
      "source": [
        "## 26.Reciprocal cycles\n"
      ],
      "metadata": {
        "id": "pLv5BCRkU-mR"
      }
    },
    {
      "cell_type": "markdown",
      "source": [
        "\n",
        "### Problem 26\n",
        "A unit fraction contains 1 in the numerator. The decimal representation of the unit fractions with denominators 2 to 10 are given:\n",
        "\n",
        "1/2\t= \t0.5\n",
        "\n",
        "1/3\t= \t0.(3)\n",
        "\n",
        "1/4\t= \t0.25\n",
        "\n",
        "1/5\t= \t0.2\n",
        "\n",
        "1/6\t= \t0.1(6)\n",
        "\n",
        "1/7\t= \t0.(142857)\n",
        "\n",
        "1/8\t= \t0.125\n",
        "\n",
        "1/9\t= \t0.(1)\n",
        "\n",
        "1/10\t= \t0.1\n",
        "\n",
        "Where 0.1(6) means 0.166666..., and has a 1-digit recurring cycle. It can be seen that 1/7 has a 6-digit recurring cycle.\n",
        "\n",
        "Find the value of d < 1000 for which 1/d contains the longest recurring cycle in its decimal fraction part."
      ],
      "metadata": {
        "id": "vMlisL2rVPuL"
      }
    },
    {
      "cell_type": "code",
      "source": [
        "import decimal\n",
        "decimal.getcontext().prec = 2000\n",
        "def find_seq_len(seq):\n",
        "    guess = 1\n",
        "    max_len = len(seq) // 2\n",
        "    for x in range(2, max_len):\n",
        "        if seq[0:x] == seq[x:2*x] :\n",
        "            return x\n",
        "\n",
        "    return guess\n",
        "\n",
        "\n",
        "maxLen = [0,0]\n",
        "for i in range(2, 1000):\n",
        "  t = find_seq_len(list(\"\".join(\"{}\".format(decimal.Decimal(1)/decimal.Decimal(i)).split('.')[1])))\n",
        "  if t>maxLen[0]:\n",
        "    maxLen[0] = t \n",
        "    maxLen[1] = i \n",
        "print(  \"The answer is {}\".format(maxLen[1]))"
      ],
      "metadata": {
        "id": "Uj102ep9VLq4"
      },
      "execution_count": null,
      "outputs": []
    },
    {
      "cell_type": "markdown",
      "source": [
        "## 27.Quadratic primes\n"
      ],
      "metadata": {
        "id": "mY0HSyjIpwVv"
      }
    },
    {
      "cell_type": "markdown",
      "source": [
        "\n",
        "### Problem 27\n",
        "Euler discovered the remarkable quadratic formula:\n",
        "\n",
        "\n",
        "It turns out that the formula will produce 40 primes for the consecutive integer values . However, when  is divisible by 41, and certainly when  is clearly divisible by 41.\n",
        "\n",
        "The incredible formula  was discovered, which produces 80 primes for the consecutive values . The product of the coefficients, −79 and 1601, is −126479.\n",
        "\n",
        "Considering quadratics of the form:\n",
        "\n",
        ", where  and \n",
        "\n",
        "where  is the modulus/absolute value of \n",
        "e.g.  and \n",
        "Find the product of the coefficients,  and , for the quadratic expression that produces the maximum number of primes for consecutive values of , starting with ."
      ],
      "metadata": {
        "id": "iILNXrUCp_-X"
      }
    },
    {
      "cell_type": "code",
      "source": [
        "from math import *\n",
        "def qf(n,a,b):\n",
        "  return ( (n*n) + (a*n) + (b) )\n",
        "\n",
        "primes = [2]\n",
        "for i in range (3, 2000, 2):\n",
        "  for j in primes:\n",
        "    if j > math.sqrt(i):\n",
        "      primes.append(i)\n",
        "      break\n",
        "    if i%j == 0 :\n",
        "      break\n",
        "\n",
        "n=0\n",
        "maxN = 0\n",
        "maxA = 0\n",
        "maxB = 0\n",
        "for a in range(-999,1000):\n",
        "  for b in range(-1000, 1001):\n",
        "    for n in range(10000000000):\n",
        "      q = qf(n,a,b)\n",
        "      \n",
        "      if q < 0:\n",
        "        break\n",
        "    \n",
        "      if q in primes:\n",
        "        n = n+1\n",
        "        if n > maxN :\n",
        "          maxN = n\n",
        "          maxA = a\n",
        "          maxB = b\n",
        "        continue\n",
        "    \n",
        "      foundPrime = False\n",
        "      for j in primes:\n",
        "        if j > sqrt(q) and q not in primes:\n",
        "          n = n+1\n",
        "          primes.append(q)\n",
        "          if n > maxN :\n",
        "            maxN= n\n",
        "            maxA = a\n",
        "            maxB = b\n",
        "          foundPrime = True\n",
        "          break\n",
        "        if q%j == 0 :\n",
        "          break\n",
        "      if foundPrime:\n",
        "        continue\n",
        "      break\n",
        "print('The Answer is {}'.format(maxA*maxB))"
      ],
      "metadata": {
        "id": "pDpn03TfYS0Y"
      },
      "execution_count": null,
      "outputs": []
    },
    {
      "cell_type": "markdown",
      "source": [
        "## 28.Number spiral diagonals\n",
        " "
      ],
      "metadata": {
        "id": "HKRaT08j73bT"
      }
    },
    {
      "cell_type": "markdown",
      "source": [
        "\n",
        "### Problem 28\n",
        "Starting with the number 1 and moving to the right in a clockwise direction a 5 by 5 spiral is formed as follows:\n",
        "\n",
        "21 22 23 24 25\n",
        "\n",
        "20  07  08  09 10\n",
        "\n",
        "19  06  01  02 11\n",
        "\n",
        "18  05  04  03 12\n",
        "\n",
        "17 16 15 14 13\n",
        "\n",
        "It can be verified that the sum of the numbers on the diagonals is 101.\n",
        "\n",
        "What is the sum of the numbers on the diagonals in a 1001 by 1001 spiral formed in the same way?"
      ],
      "metadata": {
        "id": "g3aua6ii8RJk"
      }
    },
    {
      "cell_type": "code",
      "source": [
        "def spiral(n):\n",
        "  sp = []\n",
        "  for i in range(n):\n",
        "    row = []\n",
        "    for j in range(n):\n",
        "      row.append(0)\n",
        "    sp.append(row)\n",
        "  \n",
        "  sp[n//2][n//2] = 1\n",
        "\n",
        "  for w in range (3, n+1):\n",
        "    v = w*w\n",
        "    k =  (w*w)-w+1\n",
        "    center = n//2\n",
        "    # top\n",
        "    for i in range(w):\n",
        "      r = center - w//2\n",
        "      c = center + w//2\n",
        "      sp[r][c - i] = v\n",
        "      v = v -1\n",
        "    # left\n",
        "    for i in range(1, w):\n",
        "      r = center - w//2\n",
        "      c = center - w//2\n",
        "      sp[r + i][c] = v\n",
        "      v = v -1  \n",
        "    # down\n",
        "    for i in range(1, w):\n",
        "      r = center + w//2\n",
        "      c = center - w//2\n",
        "      sp[r][c+i]= v\n",
        "      v = v -1  \n",
        "    # right\n",
        "    for i in range(1, w-1):\n",
        "      r = center + w//2\n",
        "      c = center + w//2\n",
        "      sp[r-i][c]= v\n",
        "      v = v -1\n",
        "  return sp\n",
        "\n",
        "\n",
        "n=1001\n",
        "sp = spiral(n)\n",
        "ans = -1\n",
        "for i in range(n):\n",
        "  ans = ans + sp[i][i]\n",
        "for i in range(n):\n",
        "  ans = ans + sp[i][n-i-1]\n",
        "print('The answer is {}'.format(ans))\n"
      ],
      "metadata": {
        "id": "5zAX4CA50_sb"
      },
      "execution_count": null,
      "outputs": []
    },
    {
      "cell_type": "markdown",
      "source": [
        "## 29.Distinct powers\n"
      ],
      "metadata": {
        "id": "Fsk2OI1cfXja"
      }
    },
    {
      "cell_type": "markdown",
      "source": [
        "\n",
        "###Problem 29\n",
        "Consider all integer combinations of ab for 2 ≤ a ≤ 5 and 2 ≤ b ≤ 5:\n",
        "\n",
        "22=4, 23=8, 24=16, 25=32\n",
        "\n",
        "32=9, 33=27, 34=81, 35=243\n",
        "\n",
        "42=16, 43=64, 44=256, 45=1024\n",
        "\n",
        "52=25, 53=125, 54=625, 55=3125\n",
        "\n",
        "If they are then placed in numerical order, with any repeats removed, we get the following sequence of 15 distinct terms:\n",
        "\n",
        "4, 8, 9, 16, 25, 27, 32, 64, 81, 125, 243, 256, 625, 1024, 3125\n",
        "\n",
        "How many distinct terms are in the sequence generated by ab for 2 ≤ a ≤ 100 and 2 ≤ b ≤ 100?"
      ],
      "metadata": {
        "id": "xXqqZygQfhSm"
      }
    },
    {
      "cell_type": "code",
      "source": [
        "dist = []\n",
        "for a in range(2,101):\n",
        "  for b in range(2,101):\n",
        "    pow = a**b\n",
        "    # print(\"{}^{} = {}\".format(a,b,pow))\n",
        "    if pow not in dist :\n",
        "      dist.append(pow)\n",
        "print(\"The Answer is: {}\".format(len(dist)))\n"
      ],
      "metadata": {
        "id": "dRU04BNrfj87"
      },
      "execution_count": null,
      "outputs": []
    },
    {
      "cell_type": "markdown",
      "source": [
        "## 30.Digit fifth powers\n"
      ],
      "metadata": {
        "id": "682cecwp8RDQ"
      }
    },
    {
      "cell_type": "markdown",
      "source": [
        "\n",
        "### Problem 30\n",
        "Surprisingly there are only three numbers that can be written as the sum of fourth powers of their digits:\n",
        "\n",
        "1634 = 14 + 64 + 34 + 44\n",
        "\n",
        "8208 = 84 + 24 + 04 + 84\n",
        "\n",
        "9474 = 94 + 44 + 74 + 44\n",
        "\n",
        "As 1 = 14 is not a sum it is not included.\n",
        "\n",
        "The sum of these numbers is 1634 + 8208 + 9474 = 19316.\n",
        "\n",
        "Find the sum of all the numbers that can be written as the sum of fifth powers of their digits"
      ],
      "metadata": {
        "id": "elgC5hVX-pvh"
      }
    },
    {
      "cell_type": "code",
      "source": [
        "fifth = []\n",
        "for i in range(2, 1000000):\n",
        "  s = str(i)\n",
        "  powSum = 0\n",
        "  for n in s:\n",
        "    powSum = powSum + int(n)**5\n",
        "  if powSum == i :\n",
        "    fifth.append(i)\n",
        "print(\"The answer is {}\".format(sum(fifth)))"
      ],
      "metadata": {
        "id": "dLPdQow73aIE"
      },
      "execution_count": null,
      "outputs": []
    },
    {
      "cell_type": "markdown",
      "source": [
        "##31.Coin sums\n"
      ],
      "metadata": {
        "id": "bTNviucL-dW-"
      }
    },
    {
      "cell_type": "markdown",
      "source": [
        "\n",
        "### Problem 31\n",
        "In the United Kingdom the currency is made up of pound (£) and pence (p). There are eight coins in general circulation:\n",
        "\n",
        "1p, 2p, 5p, 10p, 20p, 50p, £1 (100p), and £2 (200p).\n",
        "\n",
        "It is possible to make £2 in the following way:\n",
        "\n",
        "1×£1 + 1×50p + 2×20p + 1×5p + 1×2p + 3×1p\n",
        "\n",
        "How many different ways can £2 be made using any number of coins?"
      ],
      "metadata": {
        "id": "br6DGjUN-oef"
      }
    },
    {
      "cell_type": "code",
      "source": [
        "import time\n",
        "start = time.time()\n",
        "\n",
        "counter = 0\n",
        "target = 200\n",
        "reminder = 200\n",
        "coins = [100,50,20,10,5,2,1]\n",
        "\n",
        "# number of 100p coins\n",
        "for a in range(3):\n",
        "  reminder = target - a*coins[0]\n",
        "  \n",
        "  for b in range(1+reminder//coins[1]):\n",
        "    reminder = target - a*coins[0] - b*coins[1]\n",
        "\n",
        "    for c in range(1+reminder//coins[2]):\n",
        "      reminder = target - a*coins[0] - b*coins[1] - c*coins[2]\n",
        "      \n",
        "      for d in range(1+reminder//coins[3]):\n",
        "        reminder = target - a*coins[0] - b*coins[1] - c*coins[2] - d*coins[3]\n",
        "        \n",
        "        for e in range(1+reminder//coins[4]):\n",
        "          reminder = target - a*coins[0] - b*coins[1] - c*coins[2] - d*coins[3] - e*coins[4]\n",
        "          \n",
        "          for f in range(1+reminder//coins[5]):\n",
        "            counter += 1\n",
        "\n",
        "end = time.time()\n",
        "print (\"The Answer is {} found in time {}\".format(counter+1, end - start))"
      ],
      "metadata": {
        "id": "ORFniehB9Dec"
      },
      "execution_count": null,
      "outputs": []
    },
    {
      "cell_type": "markdown",
      "source": [
        "##32.Pandigital products\n"
      ],
      "metadata": {
        "id": "Em51glvFCZlu"
      }
    },
    {
      "cell_type": "markdown",
      "source": [
        "\n",
        "###Problem 32\n",
        "We shall say that an n-digit number is pandigital if it makes use of all the digits 1 to n exactly once; for example, the 5-digit number, 15234, is 1 through 5 pandigital.\n",
        "\n",
        "The product 7254 is unusual, as the identity, 39 × 186 = 7254, containing multiplicand, multiplier, and product is 1 through 9 pandigital.\n",
        "\n",
        "Find the sum of all products whose multiplicand/multiplier/product identity can be written as a 1 through 9 pandigital.\n",
        "\n",
        "HINT: Some products can be obtained in more than one way so be sure to only include it once in your sum."
      ],
      "metadata": {
        "id": "zhM-b0dLCe3Y"
      }
    },
    {
      "cell_type": "code",
      "source": [
        "import time\n",
        "start = time.time()\n",
        "\n",
        "digits = ['1', '2', '3', '4', '5', '6', '7', '8', '9']\n",
        "panProds = []\n",
        "\n",
        "\n",
        "for i in range(1,100000):\n",
        "  for j in range(i,100000):\n",
        "    k = i*j\n",
        "    s = sorted(str(k)+str(i)+str(j))\n",
        "    if len(s)>9:\n",
        "      break\n",
        "    if s==digits:\n",
        "      if k not in panProds:\n",
        "        panProds.append(k)\n",
        "\n",
        "ans = sum(panProds)\n",
        "\n",
        "end = time.time()\n",
        "print (\"The Answer is {} found in time {}\".format(ans, end - start))"
      ],
      "metadata": {
        "id": "y4eSaTuj93dn"
      },
      "execution_count": null,
      "outputs": []
    },
    {
      "cell_type": "markdown",
      "source": [
        "##33.Digit cancelling fractions\n",
        " "
      ],
      "metadata": {
        "id": "wBU9TTWcqnmZ"
      }
    },
    {
      "cell_type": "markdown",
      "source": [
        "\n",
        "###Problem 33\n",
        "The fraction 49/98 is a curious fraction, as an inexperienced mathematician in attempting to simplify it may incorrectly believe that 49/98 = 4/8, which is correct, is obtained by cancelling the 9s.\n",
        "\n",
        "We shall consider fractions like, 30/50 = 3/5, to be trivial examples.\n",
        "\n",
        "There are exactly four non-trivial examples of this type of fraction, less than one in value, and containing two digits in the numerator and denominator.\n",
        "\n",
        "If the product of these four fractions is given in its lowest common terms, find the value of the denominator."
      ],
      "metadata": {
        "id": "WV31Grr7qxzy"
      }
    },
    {
      "cell_type": "code",
      "source": [
        "import time\n",
        "from fractions import Fraction\n",
        "start = time.time()\n",
        "\n",
        "def removeCharFromstring(s,c):\n",
        "  newS = ''\n",
        "  done = False\n",
        "  for i in s :\n",
        "    if i != c or done:\n",
        "      newS +=i\n",
        "    else :\n",
        "      done = True\n",
        "  return newS \n",
        "\n",
        "numerator  = 1\n",
        "demonator = 1\n",
        "\n",
        "for i in range(10,100):\n",
        "  nume = str(i)\n",
        "  for j in range(10,100):\n",
        "    if j <= i:\n",
        "      continue\n",
        "    dem = str(j)\n",
        "    for c_up in nume :\n",
        "      for c_down in dem:\n",
        "        if c_up == c_down:\n",
        "          newUp = int(removeCharFromstring(nume, c_up))\n",
        "          newDown = int(removeCharFromstring(dem, c_down))\n",
        "\n",
        "          if newDown == 0:\n",
        "            continue\n",
        "\n",
        "          if newUp/newDown == i/j and c_down != '0' :\n",
        "            numerator *= i\n",
        "            demonator *= j\n",
        "\n",
        "ans = Fraction(numerator, demonator).denominator\n",
        "end = time.time()\n",
        "print (\"The Answer is {} found in time {}\".format(ans, end - start))"
      ],
      "metadata": {
        "id": "UefcA0QelmgN"
      },
      "execution_count": null,
      "outputs": []
    },
    {
      "cell_type": "markdown",
      "source": [
        "##34.Digit factorials\n"
      ],
      "metadata": {
        "id": "pZm1Quidjg2V"
      }
    },
    {
      "cell_type": "markdown",
      "source": [
        "\n",
        "###Problem 34\n",
        "145 is a curious number, as 1! + 4! + 5! = 1 + 24 + 120 = 145.\n",
        "\n",
        "Find the sum of all numbers which are equal to the sum of the factorial of their digits.\n",
        "\n",
        "Note: As 1! = 1 and 2! = 2 are not sums they are not included."
      ],
      "metadata": {
        "id": "3Y4UdiG1j4dG"
      }
    },
    {
      "cell_type": "code",
      "source": [
        "import time\n",
        "start = time.time()\n",
        "\n",
        "from math import factorial\n",
        "total = 0\n",
        "for i in range(3,10000000):\n",
        "  s = str(i)\n",
        "  factSum = 0\n",
        "  for c in s:\n",
        "    d = int(c)\n",
        "    factSum += factorial(d)\n",
        "  if factSum == i:\n",
        "    total += i\n",
        "\n",
        "ans = total\n",
        "end = time.time()\n",
        "print (\"The Answer is {} found in time {}\".format(ans, end - start))"
      ],
      "metadata": {
        "id": "WIJKNzIVj5Pu"
      },
      "execution_count": null,
      "outputs": []
    },
    {
      "cell_type": "markdown",
      "source": [
        "## 35.Circular primes\n"
      ],
      "metadata": {
        "id": "8Cf18BS5zkcn"
      }
    },
    {
      "cell_type": "markdown",
      "source": [
        "\n",
        "### Problem 35\n",
        "The number, 197, is called a circular prime because all rotations of the digits: 197, 971, and 719, are themselves prime.\n",
        "\n",
        "There are thirteen such primes below 100: 2, 3, 5, 7, 11, 13, 17, 31, 37, 71, 73, 79, and 97.\n",
        "\n",
        "How many circular primes are there below one million?"
      ],
      "metadata": {
        "id": "jht_ChxVzt5M"
      }
    },
    {
      "cell_type": "code",
      "source": [
        "import time\n",
        "start = time.time()\n",
        "\n",
        "def checkPrime(n): \n",
        "  if n == 1:\n",
        "    return False\n",
        "  i = 2\n",
        "  while i*i <= n:\n",
        "    if n % i == 0:\n",
        "      return False\n",
        "    i += 1\n",
        "  return True\n",
        "\n",
        "def getCircularRotationsOfNumber(n):\n",
        "  s = str(n)\n",
        "  if len(s) == 1 :\n",
        "    return [n]\n",
        "  rots = []\n",
        "  for i in range(len(s)-1):\n",
        "    s = s[1:len(s)] + s[0]  \n",
        "    rots.append(int(s))\n",
        "  return rots\n",
        "\n",
        "counter = 0\n",
        "found = False\n",
        "for i in range(1,1000000):\n",
        "\n",
        "  if not checkPrime(i):\n",
        "    continue\n",
        "  \n",
        "  for p in getCircularRotationsOfNumber(i):\n",
        "    found = False\n",
        "    if not checkPrime(p):\n",
        "      break\n",
        "    found = True\n",
        "  if found :\n",
        "    counter += 1\n",
        "    \n",
        "\n",
        "ans = counter\n",
        "end = time.time()\n",
        "print (\"The Answer is {} found in time {}\".format(ans, end - start))"
      ],
      "metadata": {
        "id": "WCkdb049zVsQ"
      },
      "execution_count": null,
      "outputs": []
    },
    {
      "cell_type": "markdown",
      "source": [
        "##36. Double-base palindromes"
      ],
      "metadata": {
        "id": "CPple5afz46v"
      }
    },
    {
      "cell_type": "markdown",
      "source": [
        "### Problem 36\n",
        "\n",
        "The decimal number, 585 = 10010010012 (binary), is palindromic in both bases.\n",
        "\n",
        "Find the sum of all numbers, less than one million, which are palindromic in base 10 and base 2.\n",
        "\n",
        "(Please note that the palindromic number, in either base, may not include leading zeros.)"
      ],
      "metadata": {
        "id": "8SupxH9T0KqC"
      }
    },
    {
      "cell_type": "code",
      "source": [
        "import time\n",
        "start = time.time()\n",
        "\n",
        "def isPalindrom(s):\n",
        "  inv =''\n",
        "  for i in range(len(s)-1,-1,-1):\n",
        "    inv += s[i]\n",
        "  if inv == s:\n",
        "    return True\n",
        "  return False\n",
        "\n",
        "total = 0\n",
        "\n",
        "for i in range(1000000):\n",
        "  if isPalindrom(str(i)):\n",
        "    if isPalindrom(str(bin(i))[2:]):\n",
        "      total += i\n",
        "\n",
        "print()\n",
        "\n",
        "ans = total\n",
        "end = time.time()\n",
        "print (\"The Answer is {} found in time {}\".format(ans, end - start))"
      ],
      "metadata": {
        "id": "5fPYUHuLz4CF"
      },
      "execution_count": null,
      "outputs": []
    },
    {
      "cell_type": "markdown",
      "source": [
        "##37.Truncatable primes"
      ],
      "metadata": {
        "id": "ORviDCdj0bQV"
      }
    },
    {
      "cell_type": "markdown",
      "source": [
        "### Problem 37\n",
        "The number 3797 has an interesting property. Being prime itself, it is possible to continuously remove digits from left to right, and remain prime at each stage: 3797, 797, 97, and 7. Similarly we can work from right to left: 3797, 379, 37, and 3.\n",
        "\n",
        "Find the sum of the only eleven primes that are both truncatable from left to right and right to left.\n",
        "\n",
        "NOTE: 2, 3, 5, and 7 are not considered to be truncatable primes."
      ],
      "metadata": {
        "id": "Z9HAx0Gv0bQV"
      }
    },
    {
      "cell_type": "code",
      "source": [
        "import time\n",
        "start = time.time()\n",
        "\n",
        "def isPrime(n):\n",
        "  if n == 1 :\n",
        "    return False\n",
        "  i=2\n",
        "  while i*i <=n :\n",
        "    if n%i == 0:\n",
        "      return False\n",
        "    i +=1\n",
        "  return True\n",
        "\n",
        "def isTruncPrime(s):\n",
        "  for j in range(1, len(s)):\n",
        "    n = int(s[j:])\n",
        "    if not isPrime(n):\n",
        "      return False\n",
        "  return True\n",
        "\n",
        "def isTruncPrimeLeft(s):\n",
        "  for j in range(1,len(s)):\n",
        "    n = int(s[:j])\n",
        "    if not isPrime(n):\n",
        "      return False\n",
        "  return True\n",
        "\n",
        "count = 11\n",
        "total = 0\n",
        "i = 9\n",
        "\n",
        "while count > 0  :\n",
        "  i += 2\n",
        "  if isPrime(i):\n",
        "    if isTruncPrime(str(i)):\n",
        "      if isTruncPrimeLeft(str(i)):\n",
        "        total += i\n",
        "        count -= 1\n",
        "\n",
        "ans = total\n",
        "end = time.time()\n",
        "print (\"The Answer is {} found in time {}\".format(ans, end - start))"
      ],
      "metadata": {
        "id": "Q4dpFtIf0bQV"
      },
      "execution_count": null,
      "outputs": []
    },
    {
      "cell_type": "markdown",
      "source": [
        "##38.Pandigital multiples"
      ],
      "metadata": {
        "id": "FIGMSF510bS2"
      }
    },
    {
      "cell_type": "markdown",
      "source": [
        "### Problem 38\n",
        "Take the number 192 and multiply it by each of 1, 2, and 3:\n",
        "\n",
        "192 × 1 = 192\n",
        "\n",
        "192 × 2 = 384\n",
        "\n",
        "192 × 3 = 576\n",
        "\n",
        "By concatenating each product we get the 1 to 9 pandigital, 192384576. We will call 192384576 the concatenated product of 192 and (1,2,3)\n",
        "\n",
        "The same can be achieved by starting with 9 and multiplying by 1, 2, 3, 4, and 5, giving the pandigital, 918273645, which is the concatenated product of 9 and (1,2,3,4,5).\n",
        "\n",
        "What is the largest 1 to 9 pandigital 9-digit number that can be formed as the concatenated product of an integer with (1,2, ... , n) where n > 1?"
      ],
      "metadata": {
        "id": "bAEgtR_e0bS3"
      }
    },
    {
      "cell_type": "code",
      "source": [
        "import time\n",
        "start = time.time()\n",
        "\n",
        "def isPan(n):\n",
        "  s = str(n)\n",
        "  d = {}\n",
        "  for c in s :\n",
        "    if int(c) == 0:\n",
        "      return False\n",
        "    if int(c) in d:\n",
        "      return False\n",
        "    d[int(c)]= 1\n",
        "  return True\n",
        "\n",
        "def cN(i1,i2):\n",
        "  return int(str(i1)+str(i2)) \n",
        "\n",
        "i=0\n",
        "max = 0\n",
        "while(len(str(i)) <=4):\n",
        "  i += 1\n",
        "\n",
        "  current=i\n",
        "  if isPan(current):\n",
        "      \n",
        "    current= cN(current, i*2)\n",
        "    if isPan(current):\n",
        "      if len(str(current)) == 9:\n",
        "        if current > max :\n",
        "          max = current\n",
        "      \n",
        "      current=cN(current, i*3)\n",
        "      if isPan(current):\n",
        "        if len(str(current)) == 9:\n",
        "          if current > max :\n",
        "            max = current\n",
        "  \n",
        "        current=cN(current, i*4)\n",
        "        if isPan(current):\n",
        "          if len(str(current)) == 9:\n",
        "            if current > max :\n",
        "              max = current\n",
        "      \n",
        "          current=cN(current, i*5)\n",
        "          if isPan(current):\n",
        "            if len(str(current)) == 9:\n",
        "              if current > max :\n",
        "                max = current\n",
        "        \n",
        "            current=cN(current, i*6)\n",
        "            if isPan(current):\n",
        "              if len(str(current)) == 9:\n",
        "                if current > max :\n",
        "                  max = current\n",
        "          \n",
        "              current=cN(current, i*7)\n",
        "              if isPan(current):\n",
        "                if len(str(current)) == 9:\n",
        "                  if current > max :\n",
        "                    max = current\n",
        "            \n",
        "                current=cN(current, i*8)\n",
        "                if isPan(current):\n",
        "                  if len(str(current)) == 9:\n",
        "                    if current > max :\n",
        "                      max = current\n",
        "              \n",
        "                  current=cN(current, i*9)\n",
        "                  if isPan(current):\n",
        "                    if len(str(current)) == 9:\n",
        "                      if current > max :\n",
        "                        max = current    \n",
        "\n",
        "ans = max\n",
        "end = time.time()\n",
        "print (\"The Answer is {} found in time {}\".format(ans, end - start))"
      ],
      "metadata": {
        "id": "Uzd7LO1P0bS3"
      },
      "execution_count": null,
      "outputs": []
    },
    {
      "cell_type": "markdown",
      "source": [
        "##39.Integer right triangles"
      ],
      "metadata": {
        "id": "spElzb6V0bVy"
      }
    },
    {
      "cell_type": "markdown",
      "source": [
        "### Problem 39\n",
        "If p is the perimeter of a right angle triangle with integral length sides, {a,b,c}, there are exactly three solutions for p = 120.\n",
        "\n",
        "{20,48,52}, {24,45,51}, {30,40,50}\n",
        "\n",
        "For which value of p ≤ 1000, is the number of solutions maximised?"
      ],
      "metadata": {
        "id": "1sc4E7vA0bVy"
      }
    },
    {
      "cell_type": "code",
      "source": [
        "import time\n",
        "start = time.time()\n",
        "\n",
        "def triSides(p):\n",
        "  count  = 0\n",
        "\n",
        "  answers = []\n",
        "  a = 0\n",
        "  while a < p :\n",
        "    a+=1\n",
        "\n",
        "    b = 0\n",
        "    while a+b < p:\n",
        "      b+=1\n",
        "\n",
        "      c = p - a - b\n",
        "      if c*c == a*a + b*b :\n",
        "        if a in answers:\n",
        "          continue\n",
        "        answers.append(b)\n",
        "        count +=1\n",
        "\n",
        "  return count\n",
        "\n",
        "\n",
        "p = 0\n",
        "max = 0\n",
        "\n",
        "while p < 1000:\n",
        "  p+=1\n",
        "  n =triSides(p)\n",
        "  if n > max :\n",
        "    max = n\n",
        "    ans = p\n",
        "\n",
        "\n",
        "end = time.time()\n",
        "print (\"The Answer is {} found in time {}\".format(ans, end - start))"
      ],
      "metadata": {
        "id": "tk-gxoRt0bVz"
      },
      "execution_count": null,
      "outputs": []
    },
    {
      "cell_type": "markdown",
      "source": [
        "##40.Champernowne's constant"
      ],
      "metadata": {
        "id": "dGh4Yb_v0bYA"
      }
    },
    {
      "cell_type": "markdown",
      "source": [
        "### Problem 40\n",
        "An irrational decimal fraction is created by concatenating the positive integers:\n",
        "\n",
        "0.123456789101112131415161718192021...\n",
        "\n",
        "It can be seen that the 12th digit of the fractional part is 1.\n",
        "\n",
        "If dn represents the nth digit of the fractional part, find the value of the following expression.\n",
        "\n",
        "d1 × d10 × d100 × d1000 × d10000 × d100000 × d1000000"
      ],
      "metadata": {
        "id": "9MIxPaSZ0bYA"
      }
    },
    {
      "cell_type": "code",
      "source": [
        "import time\n",
        "start = time.time()\n",
        "\n",
        "i = 0\n",
        "s = ''\n",
        "while len(s) <= 1000000:\n",
        "  s += str(i)\n",
        "  i += 1\n",
        "\n",
        "\n",
        "ans = int(s[1])* int(s[10])* int(s[100])* int(s[1000])* int(s[10000])* int(s[100000])* int(s[1000000])\n",
        "end = time.time()\n",
        "print (\"The Answer is {} found in time {}\".format(ans, end - start))"
      ],
      "metadata": {
        "id": "VbgesEGl0bYA"
      },
      "execution_count": null,
      "outputs": []
    },
    {
      "cell_type": "markdown",
      "source": [
        "##41.Pandigital prime"
      ],
      "metadata": {
        "id": "Y2f9_Jql0bad"
      }
    },
    {
      "cell_type": "markdown",
      "source": [
        "### Problem 41\n",
        "We shall say that an n-digit number is pandigital if it makes use of all the digits 1 to n exactly once. For example, 2143 is a 4-digit pandigital and is also prime.\n",
        "\n",
        "What is the largest n-digit pandigital prime that exists?"
      ],
      "metadata": {
        "id": "WR8mBqbf0bad"
      }
    },
    {
      "cell_type": "code",
      "source": [
        "import time\n",
        "start = time.time()\n",
        "\n",
        "import math\n",
        "\n",
        "\n",
        "def isPrime(n):\n",
        "  if n == 2:\n",
        "    return True\n",
        "  i = 1\n",
        "  while i*i < n:\n",
        "    i+=1\n",
        "    if n%i == 0 :\n",
        "      return False\n",
        "  return True\n",
        "\n",
        "def isPan(n):\n",
        "  s = str(n)\n",
        "  l = len(s)\n",
        "  dic = {}\n",
        "  for c in s :\n",
        "    d = int(c)\n",
        "    if d == 0 or d > l or d in dic:\n",
        "      return False\n",
        "    dic[d] = 1\n",
        "  return True\n",
        "\n",
        "def genPrimes(limit):\n",
        "  i = 1\n",
        "  primes = [2]\n",
        "  while i < limit :\n",
        "    i+=2\n",
        "    for p in primes:\n",
        "      if p > math.sqrt(i):\n",
        "        primes.append(i)\n",
        "        break\n",
        "      if i%p == 0 :\n",
        "        break\n",
        "  return primes\n",
        "\n",
        "\n",
        "i = 1\n",
        "big = 0\n",
        "\n",
        "for i in genPrimes(7654321):\n",
        "  if isPan(i):\n",
        "    big = i\n",
        "\n",
        "\n",
        "ans = big\n",
        "end = time.time()\n",
        "print (\"The Answer is {} found in time {}\".format(ans, end - start))"
      ],
      "metadata": {
        "id": "V8Dn_Oxw0bad"
      },
      "execution_count": null,
      "outputs": []
    },
    {
      "cell_type": "markdown",
      "source": [
        "##42.Coded triangle numbers"
      ],
      "metadata": {
        "id": "Xdnh2goF0bdB"
      }
    },
    {
      "cell_type": "markdown",
      "source": [
        "### Problem 42\n",
        "The nth term of the sequence of triangle numbers is given by, tn = ½n(n+1); so the first ten triangle numbers are:\n",
        "\n",
        "1, 3, 6, 10, 15, 21, 28, 36, 45, 55, ...\n",
        "\n",
        "By converting each letter in a word to a number corresponding to its alphabetical position and adding these values we form a word value. For example, the word value for SKY is 19 + 11 + 25 = 55 = t10. If the word value is a triangle number then we shall call the word a triangle word.\n",
        "\n",
        "Using words.txt (right click and 'Save Link/Target As...'), a 16K text file containing nearly two-thousand common English words, how many are triangle words?"
      ],
      "metadata": {
        "id": "DdkqQALQ0bdC"
      }
    },
    {
      "cell_type": "code",
      "source": [
        "import time\n",
        "start = time.time()\n",
        "\n",
        "# !wget https://projecteuler.net/project/resources/p042_words.txt\n",
        "with open('p042_words.txt') as f:\n",
        "    lines = f.readlines()\n",
        "words = lines[0].replace('\"','').split(',')\n",
        "letters = '0,A,B,C,D,E,F,G,H,I,J,K,L,M,N,O,P,Q,R,S,T,U,V,W,X,Y,Z'.split(',')\n",
        "tri = [int((i+1)*(i/2)) for i in range(1,20)]\n",
        "count = 0\n",
        "\n",
        "for word in words:\n",
        "  i = 0\n",
        "  for c in word:\n",
        "    i += letters.index(c)\n",
        "  if i in tri:\n",
        "    count += 1\n",
        "\n",
        "\n",
        "ans = count\n",
        "end = time.time()\n",
        "print (\"The Answer is {} found in time {}\".format(ans, end - start))"
      ],
      "metadata": {
        "id": "VkMYFiD60bdC"
      },
      "execution_count": null,
      "outputs": []
    },
    {
      "cell_type": "markdown",
      "source": [
        "##43.Sub-string divisibility\n"
      ],
      "metadata": {
        "id": "TiP0Sn__0bfm"
      }
    },
    {
      "cell_type": "markdown",
      "source": [
        "### Problem 43\n",
        "The number, 1406357289, is a 0 to 9 pandigital number because it is made up of each of the digits 0 to 9 in some order, but it also has a rather interesting sub-string divisibility property.\n",
        "\n",
        "Let d<sub>1</sub> be the 1<sup>st</sup> digit, d<sub>2</sub> be the 2<sup>nd</sup> digit, and so on. In this way, we note the following:\n",
        "\n",
        "*  d<sub>2</sub>d<sub>3</sub>d<sub>4</sub>=406 is divisible by 2\n",
        "*  d<sub>3</sub>d<sub>4</sub>d<sub>5</sub>=063 is divisible by 3\n",
        "*  d<sub>4</sub>d<sub>5</sub>d<sub>6</sub>=063 is divisible by 5\n",
        "*  d<sub>5</sub>d<sub>6</sub>d<sub>7</sub>=063 is divisible by 7\n",
        "*  d<sub>6</sub>d<sub>7</sub>d<sub>8</sub>=063 is divisible by 11\n",
        "*  d<sub>7</sub>d<sub>8</sub>d<sub>9</sub>=063 is divisible by 13\n",
        "*  d<sub>8</sub>d<sub>9</sub>d<sub>10</sub>=063 is divisible by 17\n",
        "\n",
        "Find the sum of all 0 to 9 pandigital numbers with this property."
      ],
      "metadata": {
        "id": "Skqypnud0bfm"
      }
    },
    {
      "cell_type": "code",
      "source": [
        "import time\n",
        "start = time.time()\n",
        "\n",
        "from itertools import permutations\n",
        "from math import factorial\n",
        "\n",
        "s = '0123456789'\n",
        "pans = [\"\".join(i) for i in list(permutations(s))[factorial(len(s)-1):] ]\n",
        "total = 0\n",
        "\n",
        "for s in pans :\n",
        "  if int(s[1:4])%2 == 0 :\n",
        "    if int(s[2:5])%3 == 0:\n",
        "      if int(s[3:6])%5 == 0:\n",
        "        if int(s[4:7])%7 == 0:\n",
        "          if int(s[5:8])%11 == 0:\n",
        "            if int(s[6:9])%13 == 0:\n",
        "              if int(s[7:10])%17 == 0:\n",
        "                total += int(s)\n",
        "\n",
        "\n",
        "\n",
        "ans = total\n",
        "end = time.time()\n",
        "print (\"The Answer is {} found in time {}\".format(ans, end - start))"
      ],
      "metadata": {
        "id": "-tBSIZhH0bfn"
      },
      "execution_count": null,
      "outputs": []
    },
    {
      "cell_type": "markdown",
      "source": [
        "##44.Pentagon numbers"
      ],
      "metadata": {
        "id": "gHe3W1jg0bh_"
      }
    },
    {
      "cell_type": "markdown",
      "source": [
        "### Problem 44\n",
        "Pentagonal numbers are generated by the formula, Pn=n(3n−1)/2. The first ten pentagonal numbers are:\n",
        "\n",
        "1, 5, 12, 22, 35, 51, 70, 92, 117, 145, ...\n",
        "\n",
        "It can be seen that P4 + P7 = 22 + 70 = 92 = P8. However, their difference, 70 − 22 = 48, is not pentagonal.\n",
        "\n",
        "Find the pair of pentagonal numbers, Pj and Pk, for which their sum and difference are pentagonal and D = |Pk − Pj| is minimised; what is the value of D?"
      ],
      "metadata": {
        "id": "OIVT6t4I0bh_"
      }
    },
    {
      "cell_type": "code",
      "source": [
        "import time\n",
        "start = time.time()\n",
        "\n",
        "def getPen(n):\n",
        "  return n*(3*n-1)//2\n",
        "\n",
        "def is_pentagonal(n):\n",
        "    if (1+(24*n+1)**0.5) % 6 == 0:\n",
        "        return True\n",
        "    return False\n",
        "\n",
        "def tempSolve():\n",
        "  for i in range(1, 100000):\n",
        "    a= getPen(i)\n",
        "    for j in range(i+1,100000):\n",
        "      b= getPen(j)\n",
        "      if is_pentagonal(b+a):\n",
        "        if is_pentagonal(b-a):\n",
        "            return b-a\n",
        "\n",
        "\n",
        "\n",
        "\n",
        "ans = tempSolve()\n",
        "end = time.time()\n",
        "print (\"The Answer is {} found in time {}\".format(ans, end - start))"
      ],
      "metadata": {
        "id": "vbFk4dJL0bh_"
      },
      "execution_count": null,
      "outputs": []
    },
    {
      "cell_type": "markdown",
      "source": [
        "##45.Triangular, pentagonal, and hexagonal"
      ],
      "metadata": {
        "id": "RwneJtLf0bkW"
      }
    },
    {
      "cell_type": "markdown",
      "source": [
        "### Problem 45\n",
        "Triangle, pentagonal, and hexagonal numbers are generated by the following formulae:\n",
        "\n",
        "Triangle\t \tTn=n(n+1)/2\t \t1, 3, 6, 10, 15, ...\n",
        "\n",
        "Pentagonal\t \tPn=n(3n−1)/2\t \t1, 5, 12, 22, 35, ...\n",
        "\n",
        "Hexagonal\t \tHn=n(2n−1)\t \t1, 6, 15, 28, 45, ...\n",
        "\n",
        "It can be verified that T285 = P165 = H143 = 40755.\n",
        "\n",
        "Find the next triangle number that is also pentagonal and hexagonal."
      ],
      "metadata": {
        "id": "Af8ZwlSO0bkX"
      }
    },
    {
      "cell_type": "code",
      "source": [
        "import time\n",
        "start = time.time()\n",
        "\n",
        "def genTri(n):\n",
        "  return n*(n+1)//2\n",
        "\n",
        "def genPen(n):\n",
        "  return n*(3*n-1)//2\n",
        "\n",
        "def genHex(n):\n",
        "  return n*(2*n - 1)\n",
        "\n",
        "l = 100000\n",
        "\n",
        "tri = [genTri(n) for n in range(l)]\n",
        "pen = [genPen(n) for n in range(l)]\n",
        "hex = [genHex(n) for n in range(l)]\n",
        "for n in range(300, l):\n",
        "  t = tri[n]\n",
        "  if t in pen :\n",
        "    if t in hex:\n",
        "      break\n",
        "\n",
        "\n",
        "ans = t\n",
        "end = time.time()\n",
        "print (\"The Answer is {} found in time {}\".format(ans, end - start))"
      ],
      "metadata": {
        "id": "8OnH6af00bkX"
      },
      "execution_count": null,
      "outputs": []
    },
    {
      "cell_type": "markdown",
      "source": [
        "##46.Goldbach's other conjecture"
      ],
      "metadata": {
        "id": "-ukTexDC0bm1"
      }
    },
    {
      "cell_type": "markdown",
      "source": [
        "### Problem 46\n",
        "It was proposed by Christian Goldbach that every odd composite number can be written as the sum of a prime and twice a square.\n",
        "\n",
        "9 = 7 + 2×12\n",
        "\n",
        "15 = 7 + 2×22\n",
        "\n",
        "21 = 3 + 2×32\n",
        "\n",
        "25 = 7 + 2×32\n",
        "\n",
        "27 = 19 + 2×22\n",
        "\n",
        "33 = 31 + 2×12\n",
        "\n",
        "It turns out that the conjecture was false.\n",
        "\n",
        "What is the smallest odd composite that cannot be written as the sum of a prime and twice a square?"
      ],
      "metadata": {
        "id": "3OSQBch00bm1"
      }
    },
    {
      "cell_type": "code",
      "source": [
        "import time\n",
        "start = time.time()\n",
        "\n",
        "from math import sqrt\n",
        "\n",
        "def gbc():    \n",
        "  primes = [2]\n",
        "  found = False\n",
        "\n",
        "  for i in range(3, 10000, 2):\n",
        "    for j in primes:\n",
        "      if i%j == 0:\n",
        "        break\n",
        "      if sqrt(i) < j :\n",
        "        primes.append(i)\n",
        "        break\n",
        "  \n",
        "  i=1\n",
        "  while not found:\n",
        "    i += 2\n",
        "    for j in primes:\n",
        "      if i not in primes:\n",
        "        if j > i :\n",
        "          found = True\n",
        "          return i\n",
        "        if i > j :\n",
        "          if (i-j)% 2 == 0:\n",
        "            if sqrt((i-j)/2)%1 == 0 :\n",
        "              break\n",
        "\n",
        "ans = gbc()\n",
        "end = time.time()\n",
        "print (\"The Answer is {} found in time {}\".format(ans, end - start))"
      ],
      "metadata": {
        "id": "2i2R4XKB0bm2"
      },
      "execution_count": null,
      "outputs": []
    },
    {
      "cell_type": "markdown",
      "source": [
        "##47.Distinct primes factors"
      ],
      "metadata": {
        "id": "uHqjwJjU0bpF"
      }
    },
    {
      "cell_type": "markdown",
      "source": [
        "### Problem 47\n",
        "The first two consecutive numbers to have two distinct prime factors are:\n",
        "\n",
        "14 = 2 × 7\n",
        "\n",
        "15 = 3 × 5\n",
        "\n",
        "The first three consecutive numbers to have three distinct prime factors are:\n",
        "\n",
        "644 = 2² × 7 × 23\n",
        "\n",
        "645 = 3 × 5 × 43\n",
        "\n",
        "646 = 2 × 17 × 19.\n",
        "\n",
        "Find the first four consecutive integers to have four distinct prime factors each. What is the first of these numbers?"
      ],
      "metadata": {
        "id": "BrUc4Llg0bpG"
      }
    },
    {
      "cell_type": "code",
      "source": [
        "import time\n",
        "start = time.time()\n",
        "\n",
        "from math import sqrt\n",
        "import numpy as np\n",
        "\n",
        "primes = [2]\n",
        "\n",
        "for i in range(3, 700, 2):\n",
        "  for j in primes:\n",
        "    if  i%j == 0:\n",
        "      break\n",
        "    if sqrt(i) < j :\n",
        "      primes.append(i)\n",
        "      break\n",
        "\n",
        "def findPrimefactors(n, ps, fs):\n",
        "  if n == 1 :\n",
        "    return fs\n",
        "  for i in range(len(ps)):\n",
        "    p = ps[i]\n",
        "    if n%p == 0:\n",
        "      fs.append(p)\n",
        "      return findPrimefactors(n//p, ps[i:],fs)\n",
        "\n",
        "for n in range(2*3*5*7,10000000) :\n",
        "  if len( np.unique(findPrimefactors(n,primes,[])))==4:\n",
        "    if len( np.unique(findPrimefactors(n+1,primes,[])))==4:\n",
        "      if len( np.unique(findPrimefactors(n+2,primes,[])))==4:\n",
        "        if len( np.unique(findPrimefactors(n+3,primes,[])))==4:\n",
        "          break\n",
        "\n",
        "ans = n\n",
        "end = time.time()\n",
        "print (\"The Answer is {} found in time {}\".format(ans, end - start))"
      ],
      "metadata": {
        "id": "Nqw-yNV20bpG"
      },
      "execution_count": null,
      "outputs": []
    },
    {
      "cell_type": "markdown",
      "source": [
        "##48.Self powers"
      ],
      "metadata": {
        "id": "695UQb3f0brX"
      }
    },
    {
      "cell_type": "markdown",
      "source": [
        "### Problem 48\n",
        "The series, 11 + 22 + 33 + ... + 1010 = 10405071317.\n",
        "\n",
        "Find the last ten digits of the series, 11 + 22 + 33 + ... + 10001000."
      ],
      "metadata": {
        "id": "-QFbmHCk0brX"
      }
    },
    {
      "cell_type": "code",
      "source": [
        "import time\n",
        "start = time.time()\n",
        "\n",
        "total = 0\n",
        "for i in range(1,1001):\n",
        "  total += i**i\n",
        "\n",
        "s = str(total)\n",
        "l = len(s)\n",
        "\n",
        "ans = s[l-10:l]\n",
        "end = time.time()\n",
        "print (\"The Answer is {} found in time {}\".format(ans, end - start))"
      ],
      "metadata": {
        "id": "wadfBV4U0brX"
      },
      "execution_count": null,
      "outputs": []
    },
    {
      "cell_type": "markdown",
      "source": [
        "##49.Prime permutations"
      ],
      "metadata": {
        "id": "Gd99CD0B0btg"
      }
    },
    {
      "cell_type": "markdown",
      "source": [
        "###Problem 49\n",
        "The arithmetic sequence, 1487, 4817, 8147, in which each of the terms increases by 3330, is unusual in two ways: (i) each of the three terms are prime, and, (ii) each of the 4-digit numbers are permutations of one another.\n",
        "\n",
        "There are no arithmetic sequences made up of three 1-, 2-, or 3-digit primes, exhibiting this property, but there is one other 4-digit increasing sequence.\n",
        "\n",
        "What 12-digit number do you form by concatenating the three terms in this sequence?"
      ],
      "metadata": {
        "id": "qofBKdVs0btg"
      }
    },
    {
      "cell_type": "code",
      "source": [
        "import time\n",
        "start = time.time()\n",
        "\n",
        "from itertools import permutations\n",
        "\n",
        "primes = []\n",
        "for i in range (1489, 9999, 2):\n",
        "  j = 1\n",
        "  prime = True\n",
        "  while j*j < i :\n",
        "    j +=1\n",
        "    if i%j == 0:\n",
        "      prime = False\n",
        "      break\n",
        "  if prime :\n",
        "    primes.append(i)\n",
        "\n",
        "for p in primes:\n",
        "  if p + 3330 in primes:\n",
        "    if p + 6660 in primes:\n",
        "      if list(permutations(str(p)))[0] in list(permutations(str(3330+p))):\n",
        "        s = str(p)+str(p+3330)+str(p+6660)\n",
        "\n",
        "\n",
        "\n",
        "ans = s\n",
        "end = time.time()\n",
        "print (\"The Answer is {} found in time {}\".format(ans, end - start))"
      ],
      "metadata": {
        "id": "wI4OYUez0btg"
      },
      "execution_count": null,
      "outputs": []
    },
    {
      "cell_type": "markdown",
      "source": [
        "##50.Consecutive prime sum"
      ],
      "metadata": {
        "id": "dd3qOQTk0b5t"
      }
    },
    {
      "cell_type": "markdown",
      "source": [
        "### Problem 50\n",
        "The prime 41, can be written as the sum of six consecutive primes:\n",
        "\n",
        "41 = 2 + 3 + 5 + 7 + 11 + 13\n",
        "\n",
        "This is the longest sum of consecutive primes that adds to a prime below one-hundred.\n",
        "\n",
        "The longest sum of consecutive primes below one-thousand that adds to a prime, contains 21 terms, and is equal to 953.\n",
        "\n",
        "Which prime, below one-million, can be written as the sum of the most consecutive primes?"
      ],
      "metadata": {
        "id": "aEMpS-Mn0b5u"
      }
    },
    {
      "cell_type": "code",
      "source": [
        "import time\n",
        "start = time.time()\n",
        "\n",
        "from math import sqrt\n",
        "\n",
        "primes = [2]\n",
        "\n",
        "for i in range(3,1000000,2):\n",
        "  for j in primes:\n",
        "    if i%j == 0:\n",
        "      break\n",
        "    if sqrt(i) < j:\n",
        "      primes.append(i)\n",
        "      break\n",
        "\n",
        "end = False\n",
        "maxTotal = 0\n",
        "for m in range(21,100000, 2):\n",
        "  if end :\n",
        "    break\n",
        "  for p in range(len(primes)):\n",
        "\n",
        "    if p+m > len(primes):\n",
        "      break\n",
        "    \n",
        "    total = 0\n",
        "    cons = 0\n",
        "    \n",
        "    while cons < m :    \n",
        "      total += primes[p+cons]\n",
        "      cons += 1\n",
        "      \n",
        "    if total in primes:\n",
        "      maxTotal = total\n",
        "      break\n",
        "    if total > primes[len(primes)-1]:\n",
        "      if p == 0:\n",
        "        end = True\n",
        "      break\n",
        "\n",
        "ans = maxTotal\n",
        "end = time.time()\n",
        "print (\"The Answer is {} found in time {}\".format(ans, end - start))"
      ],
      "metadata": {
        "id": "2odDC9g_0b5u"
      },
      "execution_count": null,
      "outputs": []
    },
    {
      "cell_type": "markdown",
      "source": [
        "##51.Prime digit replacements\n"
      ],
      "metadata": {
        "id": "ADp_yo0y0b70"
      }
    },
    {
      "cell_type": "markdown",
      "source": [
        "### Problem 51\n",
        "By replacing the 1st digit of the 2-digit number *3, it turns out that six of the nine possible values: 13, 23, 43, 53, 73, and 83, are all prime.\n",
        "\n",
        "By replacing the 3rd and 4th digits of 56**3 with the same digit, this 5-digit number is the first example having seven primes among the ten generated numbers, yielding the family: 56003, 56113, 56333, 56443, 56663, 56773, and 56993. Consequently 56003, being the first member of this family, is the smallest prime with this property.\n",
        "\n",
        "Find the smallest prime which, by replacing part of the number (not necessarily adjacent digits) with the same digit, is part of an eight prime value family."
      ],
      "metadata": {
        "id": "JSAf73q60b71"
      }
    },
    {
      "cell_type": "code",
      "source": [
        "import time\n",
        "from itertools import combinations\n",
        "start = time.time()\n",
        "\n",
        "primes = [2]\n",
        "\n",
        "for i in range(3,9999999,2):\n",
        "  for j in primes:\n",
        "    if i%j == 0:\n",
        "      break\n",
        "    if j*j > i :\n",
        "      primes.append(i)\n",
        "      break\n",
        "\n",
        "def insert_to_string(s, idxs, val):\n",
        "  s2 = ''\n",
        "  for i in range(len(s)):\n",
        "    if i in idxs:\n",
        "      s2+= val\n",
        "      continue\n",
        "    s2 += s[i]\n",
        "  return s2\n",
        "\n",
        "def has_doubles(n):\n",
        "    return len(set(str(n)))+1 < len(str(n))\n",
        "\n",
        "def get_family(n):\n",
        "  s = str(n)\n",
        "  l = len(s)\n",
        "  digits = '0123456789'\n",
        "  longest_fam = []\n",
        "  longest_k =(0,1)\n",
        "  for i in range(1,l):\n",
        "    if i in [1,2,4]:\n",
        "      continue\n",
        "    combs = list(combinations(range(l),i))\n",
        "    for k in combs:\n",
        "      skip = False\n",
        "      temp = s[k[0]]\n",
        "      for c1 in k :\n",
        "        if temp != s[c1]:\n",
        "          skip = True\n",
        "          break\n",
        "      if skip :\n",
        "        continue\n",
        "      fam = []\n",
        "      for d in digits:\n",
        "        if k[0]==0 and d == '0':\n",
        "          continue\n",
        "        if k[i-1]==l and d in ['0','2','4','5','6','8']:\n",
        "          continue\n",
        "        s2 = insert_to_string(s, k, d)\n",
        "        if int(s2) in primes:\n",
        "          fam.append(s2)\n",
        "      if len(fam) > len(longest_fam):\n",
        "        longest_fam = fam\n",
        "        longest_k = k\n",
        "        # print(f'family == {longest_fam}\\nlen == {len(longest_fam)}\\ncomb == {longest_k}\\n\\n')\n",
        "  return longest_fam, len(longest_fam), longest_k\n",
        "\n",
        "max = 8\n",
        "checked = []\n",
        "for p in primes[5780:]:\n",
        "  if str(p) in checked:\n",
        "    continue\n",
        "  if has_doubles(p):\n",
        "    f, n, k = get_family(p)\n",
        "    checked.extend(f)\n",
        "    if n >= max:\n",
        "      break\n",
        "\n",
        "\n",
        "ans = p\n",
        "end = time.time()\n",
        "print (\"The Answer is {} found in time {}\".format(ans, end - start))"
      ],
      "metadata": {
        "id": "dVN99FTB0b71"
      },
      "execution_count": null,
      "outputs": []
    },
    {
      "cell_type": "markdown",
      "source": [
        "##52.Permuted multiples\n"
      ],
      "metadata": {
        "id": "Xn-3Szfx0b-X"
      }
    },
    {
      "cell_type": "markdown",
      "source": [
        "### Problem 52\n",
        "It can be seen that the number, 125874, and its double, 251748, contain exactly the same digits, but in a different order.\n",
        "\n",
        "Find the smallest positive integer, x, such that 2x, 3x, 4x, 5x, and 6x, contain the same digits.\n",
        "\n"
      ],
      "metadata": {
        "id": "p59GUT3C0b-Y"
      }
    },
    {
      "cell_type": "code",
      "source": [
        "import time\n",
        "start = time.time()\n",
        "\n",
        "from itertools import permutations\n",
        "\n",
        "for i in range(125874,10000000000000000000):\n",
        "  if str(i)[0] != '1':\n",
        "    continue\n",
        "  x = list(permutations(str(i)))[0] \n",
        "  if x in list( permutations( str( i*2 ) ) ):\n",
        "    if x in list( permutations( str( i*3 ) ) ):\n",
        "      if x in list( permutations( str( i*4 ) ) ):\n",
        "        if x in list( permutations( str( i*5 ) ) ):\n",
        "          if x in list( permutations( str( i*6 ) ) ):\n",
        "            break\n",
        "\n",
        "ans = i\n",
        "end = time.time()\n",
        "print (\"The Answer is {} found in time {}\".format(ans, end - start))"
      ],
      "metadata": {
        "id": "1zCNwaxp0b-Y"
      },
      "execution_count": null,
      "outputs": []
    },
    {
      "cell_type": "markdown",
      "source": [
        "##53.Combinatoric selections"
      ],
      "metadata": {
        "id": "qAewMR-_0cAm"
      }
    },
    {
      "cell_type": "markdown",
      "source": [
        "### Problem 53\n",
        "<img src=\"https://drive.google.com/uc?id=1ZDQiY4cK2v7_0X7BDW9uof1bPib1xind\">"
      ],
      "metadata": {
        "id": "1LMsIeTG0cAm"
      }
    },
    {
      "cell_type": "code",
      "source": [
        "import time\n",
        "start = time.time()\n",
        "\n",
        "from math import factorial\n",
        "\n",
        "def numberOfCombs(n,r):\n",
        "  return (factorial(n)) / ( (factorial(r)) * (factorial(n-r)) )\n",
        "\n",
        "counter = 0\n",
        "for n in range(23,101):\n",
        "  n_counter = 0\n",
        "  for r in range(1,n):\n",
        "    if numberOfCombs(n,r) > 1000000:\n",
        "      counter += 1\n",
        "\n",
        "ans = counter\n",
        "end = time.time()\n",
        "print (\"The Answer is {} found in time {}\".format(ans, end - start))"
      ],
      "metadata": {
        "id": "NKgJqoMk0cAn"
      },
      "execution_count": null,
      "outputs": []
    },
    {
      "cell_type": "markdown",
      "source": [
        "## 54.Poker Hands"
      ],
      "metadata": {
        "id": "ziT97vdxlEn-"
      }
    },
    {
      "cell_type": "markdown",
      "source": [
        "### Problem 54\n",
        "\n",
        "<img src=\"https://drive.google.com/uc?id=1cluPbHfotVObpKbUuuD9y-5LTfx-3o2F\">"
      ],
      "metadata": {
        "id": "PDIg9NMQlJ_4"
      }
    },
    {
      "cell_type": "code",
      "source": [
        "# !wget https://projecteuler.net/project/resources/p054_poker.txt\n",
        "import time\n",
        "start = time.time()\n",
        "\n",
        "with open('p054_poker.txt') as f:\n",
        "    lines = f.readlines()\n",
        "games = [c[0:29] for c in lines]\n",
        "def getBiggestCard(nums):\n",
        "  ids = ['2', '3', '4', '5', '6', '7', '8', '9', 'T', 'J', 'Q', 'K', 'A']\n",
        "  order = []\n",
        "  for n in nums:\n",
        "    order.append(ids.index(n))\n",
        "  order = sorted(order)\n",
        "  return order[4]\n",
        "def getPairValue(nums):\n",
        "  ids = ['2', '3', '4', '5', '6', '7', '8', '9', 'T', 'J', 'Q', 'K', 'A']\n",
        "  nums = sorted(nums)\n",
        "  if nums[0] == nums[1]:\n",
        "    return ids.index(nums[0])\n",
        "  if nums[1] == nums[2]:\n",
        "    return ids.index(nums[1])\n",
        "  if nums[2] == nums[3]:\n",
        "    return ids.index(nums[2])\n",
        "  if nums[3] == nums[4]:\n",
        "    return ids.index(nums[3])\n",
        "def getHandNums(hand):\n",
        "  nums =[]\n",
        "  for card in hand:\n",
        "    nums.append(card[0])\n",
        "  return nums\n",
        "def getHandSuits(hand):\n",
        "  suits =[]\n",
        "  for card in hand:\n",
        "    suits.append(card[1])\n",
        "  return suits\n",
        "def numsAreSorted(nums):\n",
        "  ids = ['2', '3', '4', '5', '6', '7', '8', '9', 'T', 'J', 'Q', 'K', 'A']\n",
        "  order = []\n",
        "  for n in nums:\n",
        "    order.append(ids.index(n))\n",
        "  order = sorted(order)\n",
        "  for i in range(4):\n",
        "    if order[i] != order[i+1] - 1:\n",
        "      return False\n",
        "  return True\n",
        "def isRoyalFlush(hand):\n",
        "  nums = getHandNums(hand)\n",
        "  if not numsAreSorted(nums):\n",
        "    return False\n",
        "  suits = getHandSuits(hand)\n",
        "  targetNums = ['A', 'J', 'K', 'Q', 'T']\n",
        "  if suits[0] == suits[1] == suits[2] == suits[3] == suits[4]:\n",
        "    if sorted(nums) == targetNums:\n",
        "      return True\n",
        "  return False\n",
        "def isStraightFlush(hand):\n",
        "  nums = getHandNums(hand)\n",
        "  if not numsAreSorted(nums):\n",
        "    return False\n",
        "  suits = getHandSuits(hand)\n",
        "  if suits[0] == suits[1] == suits[2] == suits[3] == suits[4]:\n",
        "      return True\n",
        "  return False\n",
        "def isFourOfAKind(hand):\n",
        "  nums = getHandNums(hand)\n",
        "  nums = sorted(nums)\n",
        "  if nums[0] == nums[1] == nums[2] == nums[3]:\n",
        "    return True\n",
        "  if nums[4] == nums[1] == nums[2] == nums[3]:\n",
        "    return True\n",
        "  return False\n",
        "def isFullHouse(hand):\n",
        "  nums = getHandNums(hand)\n",
        "  nums = sorted(nums)\n",
        "  if nums[0] == nums[1] == nums[2]:\n",
        "    if nums[3] == nums[4]:\n",
        "      return True\n",
        "  if nums[0] == nums[1] :\n",
        "    if nums[2] == nums[3] == nums[4]:\n",
        "      return True   \n",
        "  return False\n",
        "def isFlush(hand):\n",
        "  suits = getHandSuits(hand)\n",
        "  if suits[0] == suits[1] == suits[2] == suits[3] == suits[4]:\n",
        "    return True\n",
        "  return False\n",
        "def isStraight(hand):\n",
        "  nums = getHandNums(hand)\n",
        "  if numsAreSorted(nums):\n",
        "    return True\n",
        "  return False\n",
        "def isThreeOfAKind(hand):\n",
        "  nums = getHandNums(hand)\n",
        "  nums = sorted(nums)\n",
        "  if nums[0] == nums[1] == nums[2]:\n",
        "    return True\n",
        "  if nums[1] == nums[2] == nums[3]:\n",
        "    return True\n",
        "  if nums[2] == nums[3] == nums[4]:\n",
        "    return True\n",
        "  return False\n",
        "def isTwoPairs(hand):\n",
        "  nums = getHandNums(hand)\n",
        "  nums = sorted(nums)\n",
        "  if nums[0] == nums[1]:\n",
        "    if nums[2] == nums[3]:\n",
        "      if nums[2] != nums[0]:\n",
        "        return True\n",
        "    if nums[3] == nums[4]:\n",
        "      if nums[3] != nums[0]:\n",
        "        return True\n",
        "  if nums[1] == nums[2]:\n",
        "    if nums[3] == nums[4]:\n",
        "      if nums[2] != nums[1]:\n",
        "        return True\n",
        "  return False\n",
        "def isOnePair(hand):\n",
        "  nums = getHandNums(hand)\n",
        "  nums = sorted(nums)\n",
        "  if nums[0] == nums[1]:\n",
        "    return True\n",
        "  if nums[1] == nums[2]:\n",
        "    return True\n",
        "  if nums[2] == nums[3]:\n",
        "    return True\n",
        "  if nums[3] == nums[4]:\n",
        "    return True\n",
        "  return False\n",
        "\n",
        "p1_wins = []\n",
        "p2_wins = []\n",
        "draws={}\n",
        "for i in range(len(games)):\n",
        "  if i in p1_wins:\n",
        "    continue\n",
        "  if i in p2_wins:\n",
        "    continue\n",
        "  if i in draws:\n",
        "    continue\n",
        "  p1_hand = games[i] .split(' ')[:5]\n",
        "  p2_hand = games[i] .split(' ')[5:]\n",
        "  if isRoyalFlush(p1_hand) and not isRoyalFlush(p2_hand):\n",
        "    p1_wins.append(i)\n",
        "    continue\n",
        "  if not isRoyalFlush(p1_hand) and  isRoyalFlush(p2_hand):\n",
        "    p2_wins.append(i)\n",
        "    continue\n",
        "  if isRoyalFlush(p1_hand) and  isRoyalFlush(p2_hand):\n",
        "    draws[i] = 'isRoyalFlush'\n",
        "for i in range(len(games)):\n",
        "  if i in p1_wins:\n",
        "    continue\n",
        "  if i in p2_wins:\n",
        "    continue\n",
        "  if i in draws:\n",
        "    continue\n",
        "  p1_hand = games[i] .split(' ')[:5]\n",
        "  p2_hand = games[i] .split(' ')[5:]\n",
        "  if isStraightFlush(p1_hand) and not isStraightFlush(p2_hand):\n",
        "    p1_wins.append(i)\n",
        "    continue\n",
        "  if not isStraightFlush(p1_hand) and  isStraightFlush(p2_hand):\n",
        "    p2_wins.append(i)\n",
        "    continue\n",
        "  if isStraightFlush(p1_hand) and  isStraightFlush(p2_hand):\n",
        "    draws[i] = 'isStraightFlush'\n",
        "for i in range(len(games)):\n",
        "  if i in p1_wins:\n",
        "    continue\n",
        "  if i in p2_wins:\n",
        "    continue\n",
        "  if i in draws:\n",
        "    continue\n",
        "  p1_hand = games[i] .split(' ')[:5]\n",
        "  p2_hand = games[i] .split(' ')[5:]\n",
        "  if isFourOfAKind(p1_hand) and not isFourOfAKind(p2_hand):\n",
        "    p1_wins.append(i)\n",
        "    continue\n",
        "  if not isFourOfAKind(p1_hand) and  isFourOfAKind(p2_hand):\n",
        "    p2_wins.append(i)\n",
        "    continue\n",
        "  if isFourOfAKind(p1_hand) and  isFourOfAKind(p2_hand):\n",
        "    draws[i] = 'isFourOfAKind'\n",
        "for i in range(len(games)):\n",
        "  if i in p1_wins:\n",
        "    continue\n",
        "  if i in p2_wins:\n",
        "    continue\n",
        "  if i in draws:\n",
        "    continue\n",
        "  p1_hand = games[i] .split(' ')[:5]\n",
        "  p2_hand = games[i] .split(' ')[5:]\n",
        "  if isFullHouse(p1_hand) and not isFullHouse(p2_hand):\n",
        "    p1_wins.append(i)\n",
        "    continue\n",
        "  if not isFullHouse(p1_hand) and  isFullHouse(p2_hand):\n",
        "    p2_wins.append(i)\n",
        "    continue\n",
        "  if isFullHouse(p1_hand) and  isFullHouse(p2_hand):\n",
        "    draws[i] = 'isFullHouse'\n",
        "for i in range(len(games)):\n",
        "  if i in p1_wins:\n",
        "    continue\n",
        "  if i in p2_wins:\n",
        "    continue\n",
        "  if i in draws:\n",
        "    continue\n",
        "  p1_hand = games[i] .split(' ')[:5]\n",
        "  p2_hand = games[i] .split(' ')[5:]\n",
        "  if isFlush(p1_hand) and not isFlush(p2_hand):\n",
        "    p1_wins.append(i)\n",
        "    continue\n",
        "  if not isFlush(p1_hand) and  isFlush(p2_hand):\n",
        "    p2_wins.append(i)\n",
        "    continue\n",
        "  if isFlush(p1_hand) and  isFlush(p2_hand):\n",
        "    draws[i] = 'isFlush'\n",
        "for i in range(len(games)):\n",
        "  if i in p1_wins:\n",
        "    continue\n",
        "  if i in p2_wins:\n",
        "    continue\n",
        "  if i in draws:\n",
        "    continue\n",
        "  p1_hand = games[i] .split(' ')[:5]\n",
        "  p2_hand = games[i] .split(' ')[5:]\n",
        "  if isStraight(p1_hand) and not isStraight(p2_hand):\n",
        "    p1_wins.append(i)\n",
        "    continue\n",
        "  if not isStraight(p1_hand) and  isStraight(p2_hand):\n",
        "    p2_wins.append(i)\n",
        "    continue\n",
        "  if isStraight(p1_hand) and  isStraight(p2_hand):\n",
        "    draws[i] = 'isThreeOfAKind'\n",
        "for i in range(len(games)):\n",
        "  if i in p1_wins:\n",
        "    continue\n",
        "  if i in p2_wins:\n",
        "    continue\n",
        "  if i in draws:\n",
        "    continue\n",
        "  p1_hand = games[i] .split(' ')[:5]\n",
        "  p2_hand = games[i] .split(' ')[5:]\n",
        "  if isThreeOfAKind(p1_hand) and not isThreeOfAKind(p2_hand):\n",
        "    p1_wins.append(i)\n",
        "    continue\n",
        "  if not isThreeOfAKind(p1_hand) and  isThreeOfAKind(p2_hand):\n",
        "    p2_wins.append(i)\n",
        "    continue\n",
        "  if isThreeOfAKind(p1_hand) and  isThreeOfAKind(p2_hand):\n",
        "    draws[i] = 'isThreeOfAKind'\n",
        "for i in range(len(games)):\n",
        "  if i in p1_wins:\n",
        "    continue\n",
        "  if i in p2_wins:\n",
        "    continue\n",
        "  if i in draws:\n",
        "    continue\n",
        "  p1_hand = games[i] .split(' ')[:5]\n",
        "  p2_hand = games[i] .split(' ')[5:]\n",
        "  if isTwoPairs(p1_hand) and not isTwoPairs(p2_hand):\n",
        "    p1_wins.append(i)\n",
        "    continue\n",
        "  if not isTwoPairs(p1_hand) and  isTwoPairs(p2_hand):\n",
        "    p2_wins.append(i)\n",
        "    continue\n",
        "  if isTwoPairs(p1_hand) and  isTwoPairs(p2_hand):\n",
        "    draws[i] = 'isTwoPairs'\n",
        "for i in range(len(games)):\n",
        "  if i in p1_wins:\n",
        "    continue\n",
        "  if i in p2_wins:\n",
        "    continue\n",
        "  if i in draws:\n",
        "    continue\n",
        "  p1_hand = games[i] .split(' ')[:5]\n",
        "  p2_hand = games[i] .split(' ')[5:]\n",
        "  if isOnePair(p1_hand) and not isOnePair(p2_hand):\n",
        "    p1_wins.append(i)\n",
        "    continue\n",
        "  if not isOnePair(p1_hand) and  isOnePair(p2_hand):\n",
        "    p2_wins.append(i)\n",
        "    continue\n",
        "  if isOnePair(p1_hand) and  isOnePair(p2_hand):\n",
        "    draws[i] = 'isOnePair'\n",
        "for i in range(len(games)):\n",
        "  if i in p1_wins:\n",
        "    continue\n",
        "  if i in p2_wins:\n",
        "    continue\n",
        "  if i in draws:\n",
        "    continue\n",
        "  p1_hand = games[i] .split(' ')[:5]\n",
        "  p2_hand = games[i] .split(' ')[5:]\n",
        "  p1_max = getBiggestCard(getHandNums(p1_hand))\n",
        "  p2_max = getBiggestCard(getHandNums(p2_hand))\n",
        "  if p1_max > p2_max:\n",
        "    p1_wins.append(i)\n",
        "    continue\n",
        "  if p1_max < p2_max:\n",
        "    p2_wins.append(i)\n",
        "    continue\n",
        "  if p1_max == p2_max:\n",
        "    draws[i] = 'Draw'\n",
        "for i in draws.keys():\n",
        "  p1_hand = games[i].split(' ')[:5]\n",
        "  p2_hand = games[i].split(' ')[5:]\n",
        "  p1_max = getPairValue(getHandNums(p1_hand))\n",
        "  p2_max = getPairValue(getHandNums(p2_hand))\n",
        "  if p1_max > p2_max:\n",
        "    p1_wins.append(i)\n",
        "    continue\n",
        "  if p1_max < p2_max:\n",
        "    p2_wins.append(i)\n",
        "    continue\n",
        "  if p1_max == p2_max:\n",
        "    p1_max2 = getBiggestCard(getHandNums(p1_hand))\n",
        "    p2_max2 = getBiggestCard(getHandNums(p2_hand))\n",
        "    if p1_max2 > p2_max2:\n",
        "      p1_wins.append(i)\n",
        "      continue\n",
        "    if p1_max2 < p2_max2:\n",
        "      p2_wins.append(i)\n",
        "      continue\n",
        "\n",
        "\n",
        "ans = len(p1_wins)\n",
        "end = time.time()\n",
        "print (\"The Answer is {} found in time {}\".format(ans, end - start))"
      ],
      "metadata": {
        "id": "ywtPROrMlJU7"
      },
      "execution_count": null,
      "outputs": []
    },
    {
      "cell_type": "markdown",
      "source": [
        "## 55.Lychrel numbers\n"
      ],
      "metadata": {
        "id": "tCR7ph4jm4Z_"
      }
    },
    {
      "cell_type": "markdown",
      "source": [
        "\n",
        "### Problem 55\n",
        "If we take 47, reverse and add, 47 + 74 = 121, which is palindromic.\n",
        "\n",
        "Not all numbers produce palindromes so quickly. For example,\n",
        "\n",
        "349 + 943 = 1292,\n",
        "\n",
        "1292 + 2921 = 4213\n",
        "\n",
        "4213 + 3124 = 7337\n",
        "\n",
        "That is, 349 took three iterations to arrive at a palindrome.\n",
        "\n",
        "Although no one has proved it yet, it is thought that some numbers, like 196, never produce a palindrome. A number that never forms a palindrome through the reverse and add process is called a Lychrel number. Due to the theoretical nature of these numbers, and for the purpose of this problem, we shall assume that a number is Lychrel until proven otherwise. In addition you are given that for every number below ten-thousand, it will either (i) become a palindrome in less than fifty iterations, or, (ii) no one, with all the computing power that exists, has managed so far to map it to a palindrome. In fact, 10677 is the first number to be shown to require over fifty iterations before producing a palindrome: 4668731596684224866951378664 (53 iterations, 28-digits).\n",
        "\n",
        "Surprisingly, there are palindromic numbers that are themselves Lychrel numbers; the first example is 4994.\n",
        "\n",
        "How many Lychrel numbers are there below ten-thousand?\n",
        "\n",
        "NOTE: Wording was modified slightly on 24 April 2007 to emphasise the theoretical nature of Lychrel numbers."
      ],
      "metadata": {
        "id": "g1YNZOMFnBKG"
      }
    },
    {
      "cell_type": "code",
      "source": [
        "import time\n",
        "start = time.time()\n",
        "\n",
        "def isPal(n):\n",
        "  s = str(n)\n",
        "  if s == s[::-1]:\n",
        "    return True\n",
        "  return False\n",
        "\n",
        "n_p_count = 0\n",
        "\n",
        "for i in range(1,10000):\n",
        "  counter = 0\n",
        "  n = i\n",
        "  pali = False\n",
        "  while counter < 50 :\n",
        "    \n",
        "    counter += 1\n",
        "    rev = int(str(n)[::-1])    \n",
        "    n = n + rev\n",
        "    \n",
        "    if isPal(n):\n",
        "      pali = True\n",
        "      break\n",
        "\n",
        "  if not pali:\n",
        "    n_p_count += 1\n",
        "\n",
        "ans = n_p_count\n",
        "end = time.time()\n",
        "print (\"The Answer is {} found in time {}\".format(ans, end - start))"
      ],
      "metadata": {
        "id": "Ye_2XXcnnFT_"
      },
      "execution_count": null,
      "outputs": []
    },
    {
      "cell_type": "markdown",
      "source": [
        "## 56.Powerful digit sum\n"
      ],
      "metadata": {
        "id": "GB_093XOdUwC"
      }
    },
    {
      "cell_type": "markdown",
      "source": [
        "\n",
        "### Problem 56\n",
        "A googol (10100) is a massive number: one followed by one-hundred zeros; 100100 is almost unimaginably large: one followed by two-hundred zeros. Despite their size, the sum of the digits in each number is only 1.\n",
        "\n",
        "Considering natural numbers of the form, ab, where a, b < 100, what is the maximum digital sum?"
      ],
      "metadata": {
        "id": "3STEz0NudfO2"
      }
    },
    {
      "cell_type": "code",
      "source": [
        "import time\n",
        "start = time.time()\n",
        "\n",
        "def digSum(n):\n",
        "  s = str(n)\n",
        "  t = 0\n",
        "  for c in s:\n",
        "    d = int(c)\n",
        "    t += d\n",
        "  return t\n",
        "\n",
        "maxSum = 0\n",
        "\n",
        "for a in range(100):\n",
        "  for b in range(100):\n",
        "    t = digSum(a**b)\n",
        "    if t > maxSum :\n",
        "      maxSum = t\n",
        "\n",
        "ans = maxSum\n",
        "end = time.time()\n",
        "print (\"The Answer is {} found in time {}\".format(ans, end - start))"
      ],
      "metadata": {
        "id": "WOzIuKmHdgvU"
      },
      "execution_count": null,
      "outputs": []
    },
    {
      "cell_type": "markdown",
      "source": [
        "## 57.Square root convergents\n"
      ],
      "metadata": {
        "id": "x8uIpDut5hZX"
      }
    },
    {
      "cell_type": "markdown",
      "source": [
        "### Problem 57\n",
        "<img src=\"https://drive.google.com/uc?id=1LyelwzWvDIAx9BGLUl8FhSHJ7tO8uBZK\">"
      ],
      "metadata": {
        "id": "ljzJ0IE45zt0"
      }
    },
    {
      "cell_type": "code",
      "source": [
        "import time\n",
        "start = time.time()\n",
        "\n",
        "from fractions import Fraction\n",
        "\n",
        "def addFracs(n1,d1,n2,d2):\n",
        "  dCommon = d1 * d2\n",
        "  nTotal = d1*n2 + d2*n1\n",
        "  return nTotal, dCommon\n",
        "\n",
        "counter = 0\n",
        "\n",
        "for i in range(8, 1000):\n",
        "  k=1\n",
        "  a,b = addFracs(2,1,1,2)\n",
        "  while k < i-1 :\n",
        "    k += 1\n",
        "    a,b = addFracs(2,1, b,a)\n",
        "  a, b = addFracs(1,1,b,a)\n",
        "  f = Fraction(a,b)\n",
        "  n = f.numerator\n",
        "  d = f.denominator\n",
        "  if len(str(n)) > len(str(d)):\n",
        "    counter += 1\n",
        "\n",
        "\n",
        "ans = counter\n",
        "end = time.time()\n",
        "print (\"The Answer is {} found in time {}\".format(ans, end - start))\n"
      ],
      "metadata": {
        "id": "U5yfLhuD4g1h"
      },
      "execution_count": null,
      "outputs": []
    },
    {
      "cell_type": "markdown",
      "source": [
        "## 58.Spiral primes"
      ],
      "metadata": {
        "id": "w1T_RAJs6zck"
      }
    },
    {
      "cell_type": "markdown",
      "source": [
        "### Problem 58\n",
        "<img src=\"https://drive.google.com/uc?id=12jZDuARArGxTCDQ-IIG-e6i48aOTqR48\">"
      ],
      "metadata": {
        "id": "FSVTIVnk6zck"
      }
    },
    {
      "cell_type": "code",
      "source": [
        "import time\n",
        "start = time.time()\n",
        "\n",
        "def isPrime(n):\n",
        "  for j in range(2,n):\n",
        "    if j*j > n :\n",
        "      return True\n",
        "    if n%j ==0: \n",
        "      return False\n",
        "\n",
        "total =0 \n",
        "for size in range(3,50000,2):\n",
        "  \n",
        "  d1 = size*size - ((size*2)-2)\n",
        "  d2 = d1 - size + 1\n",
        "  d3 = d1 + size - 1\n",
        "  \n",
        "  if isPrime(d1):\n",
        "    total +=1\n",
        "  if isPrime(d2):\n",
        "    total +=1\n",
        "  if isPrime(d3):\n",
        "    total +=1\n",
        "  if total/(size*2-1)*100 <= 10 :\n",
        "    break\n",
        "\n",
        "ans = size\n",
        "end = time.time()\n",
        "print (\"The Answer is {} found in time {}\".format(ans, end - start))\n"
      ],
      "metadata": {
        "id": "JwP3zdB16zcl"
      },
      "execution_count": null,
      "outputs": []
    },
    {
      "cell_type": "markdown",
      "source": [
        "## 59.XOR decryption\n"
      ],
      "metadata": {
        "id": "JEfpzb4V6zio"
      }
    },
    {
      "cell_type": "markdown",
      "source": [
        "### Problem 59\n",
        "Each character on a computer is assigned a unique code and the preferred standard is ASCII (American Standard Code for Information Interchange). For example, uppercase A = 65, asterisk (*) = 42, and lowercase k = 107.\n",
        "\n",
        "A modern encryption method is to take a text file, convert the bytes to ASCII, then XOR each byte with a given value, taken from a secret key. The advantage with the XOR function is that using the same encryption key on the cipher text, restores the plain text; for example, 65 XOR 42 = 107, then 107 XOR 42 = 65.\n",
        "\n",
        "For unbreakable encryption, the key is the same length as the plain text message, and the key is made up of random bytes. The user would keep the encrypted message and the encryption key in different locations, and without both \"halves\", it is impossible to decrypt the message.\n",
        "\n",
        "Unfortunately, this method is impractical for most users, so the modified method is to use a password as a key. If the password is shorter than the message, which is likely, the key is repeated cyclically throughout the message. The balance for this method is using a sufficiently long password key for security, but short enough to be memorable.\n",
        "\n",
        "Your task has been made easy, as the encryption key consists of three lower case characters. Using p059_cipher.txt (right click and 'Save Link/Target As...'), a file containing the encrypted ASCII codes, and the knowledge that the plain text must contain common English words, decrypt the message and find the sum of the ASCII values in the original text.\n"
      ],
      "metadata": {
        "id": "t44Dry0y6zio"
      }
    },
    {
      "cell_type": "code",
      "source": [
        "import time\n",
        "start = time.time()\n",
        "\n",
        "from itertools import combinations \n",
        "\n",
        "cipher_ASCII = [36,22,80,0,0,4,23,25,19,17,88,4,4,19,21,11,88,22,23,23,29,69,12,24,0,88,25,11,12,2,10,28,5,6,12,25,10,22,80,10,30,80,10,22,21,69,23,22,69,61,5,9,29,2,66,11,80,8,23,3,17,88,19,0,20,21,7,10,17,17,29,20,69,8,17,21,29,2,22,84,80,71,60,21,69,11,5,8,21,25,22,88,3,0,10,25,0,10,5,8,88,2,0,27,25,21,10,31,6,25,2,16,21,82,69,35,63,11,88,4,13,29,80,22,13,29,22,88,31,3,88,3,0,10,25,0,11,80,10,30,80,23,29,19,12,8,2,10,27,17,9,11,45,95,88,57,69,16,17,19,29,80,23,29,19,0,22,4,9,1,80,3,23,5,11,28,92,69,9,5,12,12,21,69,13,30,0,0,0,0,27,4,0,28,28,28,84,80,4,22,80,0,20,21,2,25,30,17,88,21,29,8,2,0,11,3,12,23,30,69,30,31,23,88,4,13,29,80,0,22,4,12,10,21,69,11,5,8,88,31,3,88,4,13,17,3,69,11,21,23,17,21,22,88,65,69,83,80,84,87,68,69,83,80,84,87,73,69,83,80,84,87,65,83,88,91,69,29,4,6,86,92,69,15,24,12,27,24,69,28,21,21,29,30,1,11,80,10,22,80,17,16,21,69,9,5,4,28,2,4,12,5,23,29,80,10,30,80,17,16,21,69,27,25,23,27,28,0,84,80,22,23,80,17,16,17,17,88,25,3,88,4,13,29,80,17,10,5,0,88,3,16,21,80,10,30,80,17,16,25,22,88,3,0,10,25,0,11,80,12,11,80,10,26,4,4,17,30,0,28,92,69,30,2,10,21,80,12,12,80,4,12,80,10,22,19,0,88,4,13,29,80,20,13,17,1,10,17,17,13,2,0,88,31,3,88,4,13,29,80,6,17,2,6,20,21,69,30,31,9,20,31,18,11,94,69,54,17,8,29,28,28,84,80,44,88,24,4,14,21,69,30,31,16,22,20,69,12,24,4,12,80,17,16,21,69,11,5,8,88,31,3,88,4,13,17,3,69,11,21,23,17,21,22,88,25,22,88,17,69,11,25,29,12,24,69,8,17,23,12,80,10,30,80,17,16,21,69,11,1,16,25,2,0,88,31,3,88,4,13,29,80,21,29,2,12,21,21,17,29,2,69,23,22,69,12,24,0,88,19,12,10,19,9,29,80,18,16,31,22,29,80,1,17,17,8,29,4,0,10,80,12,11,80,84,67,80,10,10,80,7,1,80,21,13,4,17,17,30,2,88,4,13,29,80,22,13,29,69,23,22,69,12,24,12,11,80,22,29,2,12,29,3,69,29,1,16,25,28,69,12,31,69,11,92,69,17,4,69,16,17,22,88,4,13,29,80,23,25,4,12,23,80,22,9,2,17,80,70,76,88,29,16,20,4,12,8,28,12,29,20,69,26,9,69,11,80,17,23,80,84,88,31,3,88,4,13,29,80,21,29,2,12,21,21,17,29,2,69,12,31,69,12,24,0,88,20,12,25,29,0,12,21,23,86,80,44,88,7,12,20,28,69,11,31,10,22,80,22,16,31,18,88,4,13,25,4,69,12,24,0,88,3,16,21,80,10,30,80,17,16,25,22,88,3,0,10,25,0,11,80,17,23,80,7,29,80,4,8,0,23,23,8,12,21,17,17,29,28,28,88,65,75,78,68,81,65,67,81,72,70,83,64,68,87,74,70,81,75,70,81,67,80,4,22,20,69,30,2,10,21,80,8,13,28,17,17,0,9,1,25,11,31,80,17,16,25,22,88,30,16,21,18,0,10,80,7,1,80,22,17,8,73,88,17,11,28,80,17,16,21,11,88,4,4,19,25,11,31,80,17,16,21,69,11,1,16,25,2,0,88,2,10,23,4,73,88,4,13,29,80,11,13,29,7,29,2,69,75,94,84,76,65,80,65,66,83,77,67,80,64,73,82,65,67,87,75,72,69,17,3,69,17,30,1,29,21,1,88,0,23,23,20,16,27,21,1,84,80,18,16,25,6,16,80,0,0,0,23,29,3,22,29,3,69,12,24,0,88,0,0,10,25,8,29,4,0,10,80,10,30,80,4,88,19,12,10,19,9,29,80,18,16,31,22,29,80,1,17,17,8,29,4,0,10,80,12,11,80,84,86,80,35,23,28,9,23,7,12,22,23,69,25,23,4,17,30,69,12,24,0,88,3,4,21,21,69,11,4,0,8,3,69,26,9,69,15,24,12,27,24,69,49,80,13,25,20,69,25,2,23,17,6,0,28,80,4,12,80,17,16,25,22,88,3,16,21,92,69,49,80,13,25,6,0,88,20,12,11,19,10,14,21,23,29,20,69,12,24,4,12,80,17,16,21,69,11,5,8,88,31,3,88,4,13,29,80,22,29,2,12,29,3,69,73,80,78,88,65,74,73,70,69,83,80,84,87,72,84,88,91,69,73,95,87,77,70,69,83,80,84,87,70,87,77,80,78,88,21,17,27,94,69,25,28,22,23,80,1,29,0,0,22,20,22,88,31,11,88,4,13,29,80,20,13,17,1,10,17,17,13,2,0,88,31,3,88,4,13,29,80,6,17,2,6,20,21,75,88,62,4,21,21,9,1,92,69,12,24,0,88,3,16,21,80,10,30,80,17,16,25,22,88,29,16,20,4,12,8,28,12,29,20,69,26,9,69,65,64,69,31,25,19,29,3,69,12,24,0,88,18,12,9,5,4,28,2,4,12,21,69,80,22,10,13,2,17,16,80,21,23,7,0,10,89,69,23,22,69,12,24,0,88,19,12,10,19,16,21,22,0,10,21,11,27,21,69,23,22,69,12,24,0,88,0,0,10,25,8,29,4,0,10,80,10,30,80,4,88,19,12,10,19,9,29,80,18,16,31,22,29,80,1,17,17,8,29,4,0,10,80,12,11,80,84,86,80,36,22,20,69,26,9,69,11,25,8,17,28,4,10,80,23,29,17,22,23,30,12,22,23,69,49,80,13,25,6,0,88,28,12,19,21,18,17,3,0,88,18,0,29,30,69,25,18,9,29,80,17,23,80,1,29,4,0,10,29,12,22,21,69,12,24,0,88,3,16,21,3,69,23,22,69,12,24,0,88,3,16,26,3,0,9,5,0,22,4,69,11,21,23,17,21,22,88,25,11,88,7,13,17,19,13,88,4,13,29,80,0,0,0,10,22,21,11,12,3,69,25,2,0,88,21,19,29,30,69,22,5,8,26,21,23,11,94]\n",
        "keys = [97, 98, 99, 100, 101, 102, 103, 104, 105, 106, 107, 108, 109, 110, 111, 112, 113, 114, 115, 116, 117, 118, 119, 120, 121, 122]\n",
        "all  = [97, 98, 99, 100, 101, 102, 103, 104, 105, 106, 107, 108, 109, 110, 111, 112, 113, 114, 115, 116, 117, 118, 119, 120, 121, 122, 32, 10, 65, 66, 67, 68, 69, 70, 71, 72, 73, 74, 75, 76, 77, 78, 79, 80, 81, 82, 83, 84, 85, 86, 87, 88, 89, 90]\n",
        "total =0\n",
        "keysPerms = list(permutations(keys,3))\n",
        "for k in keysPerms:\n",
        "  newList = []\n",
        "  for i in range(0, 10, 3):\n",
        "    if cipher_ASCII[i]^k[0]  in all:\n",
        "      newList.append(chr(cipher_ASCII[i]^k[0]))\n",
        "    if cipher_ASCII[i+1]^k[1]  in all:\n",
        "      newList.append(chr(cipher_ASCII[i+1]^k[1]))\n",
        "    if cipher_ASCII[i+2]^k[2]  in all:\n",
        "      newList.append(chr(cipher_ASCII[i+2]^k[2]))\n",
        "  a = ''.join(newList)\n",
        "  if 'extract' in a :\n",
        "    index = 0\n",
        "    ss = ''\n",
        "    while index < len(x):\n",
        "      ss += chr(x[index]^k[0]) + chr(x[index+1]^k[1]) + chr(x[index+2]^k[2])\n",
        "      index +=3\n",
        "    break\n",
        "\n",
        "ans = sum([ord(c) for c in ss])\n",
        "end = time.time()\n",
        "print (\"The Answer is {} found in time {}\".format(ans, end - start))\n"
      ],
      "metadata": {
        "id": "iVALJkFk6zio"
      },
      "execution_count": null,
      "outputs": []
    },
    {
      "cell_type": "markdown",
      "source": [
        "## 60.Prime pair sets\n",
        "\n"
      ],
      "metadata": {
        "id": "A8etZ6da6zrI"
      }
    },
    {
      "cell_type": "markdown",
      "source": [
        "### Problem 60\n",
        "The primes 3, 7, 109, and 673, are quite remarkable. By taking any two primes and concatenating them in any order the result will always be prime. For example, taking 7 and 109, both 7109 and 1097 are prime. The sum of these four primes, 792, represents the lowest sum for a set of four primes with this property.\n",
        "\n",
        "Find the lowest sum for a set of five primes for which any two primes concatenate to produce another prime."
      ],
      "metadata": {
        "id": "1J1XCGCz6zrI"
      }
    },
    {
      "cell_type": "code",
      "source": [
        "import time\n",
        "start = time.time()\n",
        "\n",
        "ans = 0\n",
        "end = time.time()\n",
        "print (\"The Answer is {} found in time {}\".format(ans, end - start))\n"
      ],
      "metadata": {
        "id": "tfnAsUr66zrI"
      },
      "execution_count": null,
      "outputs": []
    },
    {
      "cell_type": "code",
      "source": [
        "from itertools import permutations, combinations\n",
        "allPrimes = [2]\n",
        "\n",
        "for i in range(3,700000):\n",
        "  for j in allPrimes:\n",
        "    if i%j == 0 :\n",
        "      break\n",
        "    if j*j > i :\n",
        "      allPrimes.append(i)\n",
        "      break\n",
        "allPrimes = allPrimes[1:]"
      ],
      "metadata": {
        "id": "6O-Yz2wqRLJx"
      },
      "execution_count": null,
      "outputs": []
    },
    {
      "cell_type": "code",
      "source": [
        "def f():\n",
        "  for p1 in allPrimes:\n",
        "    print(p1)\n",
        "\n",
        "    for p2 in allPrimes:\n",
        "      if checkPairs([p1,p2]):\n",
        "        print(p1,p2)\n",
        "        \n",
        "        for p3 in allPrimes:\n",
        "          if checkPairs([p1,p2,p3]):\n",
        "            print(p1,p2,p3)\n",
        "            \n",
        "            \n",
        "            for p4 in allPrimes:\n",
        "              if checkPairs([p1,p2,p3,p4]):\n",
        "                print(p1,p2,p3,p4)\n",
        "\n",
        "                for p5 in allPrimes:\n",
        "                  if checkPairs([p1,p2,p3,p4,p5]):\n",
        "                    print(p1,p2,p3,p4,p5)\n",
        "                    return p1+p2+p3+p4+p5\n",
        "print('>>',f())"
      ],
      "metadata": {
        "id": "EkzHDIX8U40k"
      },
      "execution_count": null,
      "outputs": []
    },
    {
      "cell_type": "code",
      "source": [
        "for comb in list(combinations(allPrimes, 5)):\n",
        "  if checkPairs(comb):\n",
        "    print (comb)\n",
        "    break"
      ],
      "metadata": {
        "id": "xS9fr6jQTaRn"
      },
      "execution_count": null,
      "outputs": []
    },
    {
      "cell_type": "code",
      "source": [
        "for pair in list(permutations(p4,2)):\n",
        "  p = int(str(pair[0])+str(pair[1]))\n",
        "  if p not in allPrimes:\n",
        "        print(pair)"
      ],
      "metadata": {
        "id": "smbuX_UvaNyw"
      },
      "execution_count": null,
      "outputs": []
    },
    {
      "cell_type": "code",
      "source": [
        "p4 = [3, 7, 73, 331, 547]\n",
        "def checkPairs(primesFour):\n",
        "  for p1 in range(len(primesFour)):\n",
        "    for p2 in range(len(primesFour)):\n",
        "      if p2 == p1 :\n",
        "        continue\n",
        "      p = int(str(primesFour[p1])+str(primesFour[p2]))\n",
        "      if p not in allPrimes:\n",
        "        return False\n",
        "  return True\n",
        "checkPairs(p4)"
      ],
      "metadata": {
        "id": "eD_RJig9RtM_"
      },
      "execution_count": null,
      "outputs": []
    },
    {
      "cell_type": "markdown",
      "source": [
        "## 61.Cyclical figurate numbers\n"
      ],
      "metadata": {
        "id": "GIkwLaP-6zxc"
      }
    },
    {
      "cell_type": "markdown",
      "source": [
        "### Problem 61\n",
        "Triangle, square, pentagonal, hexagonal, heptagonal, and octagonal numbers are all figurate (polygonal) numbers and are generated by the following formulae:\n",
        "\n",
        "Triangle\t \tP3,n=n(n+1)/2\t \t1, 3, 6, 10, 15, ...\n",
        "Square\t \tP4,n=n2\t \t1, 4, 9, 16, 25, ...\n",
        "Pentagonal\t \tP5,n=n(3n−1)/2\t \t1, 5, 12, 22, 35, ...\n",
        "Hexagonal\t \tP6,n=n(2n−1)\t \t1, 6, 15, 28, 45, ...\n",
        "Heptagonal\t \tP7,n=n(5n−3)/2\t \t1, 7, 18, 34, 55, ...\n",
        "Octagonal\t \tP8,n=n(3n−2)\t \t1, 8, 21, 40, 65, ...\n",
        "The ordered set of three 4-digit numbers: 8128, 2882, 8281, has three interesting properties.\n",
        "\n",
        "The set is cyclic, in that the last two digits of each number is the first two digits of the next number (including the last number with the first).\n",
        "Each polygonal type: triangle (P3,127=8128), square (P4,91=8281), and pentagonal (P5,44=2882), is represented by a different number in the set.\n",
        "This is the only set of 4-digit numbers with this property.\n",
        "Find the sum of the only ordered set of six cyclic 4-digit numbers for which each polygonal type: triangle, square, pentagonal, hexagonal, heptagonal, and octagonal, is represented by a different number in the set."
      ],
      "metadata": {
        "id": "yhP7h0iY6zxd"
      }
    },
    {
      "cell_type": "code",
      "source": [
        "import time\n",
        "start = time.time()\n",
        "\n",
        "from itertools import permutations\n",
        "\n",
        "def tri(n):\n",
        "  return int(n*(n+1)/2)\n",
        "def squ(n):\n",
        "  return n*n\n",
        "def pen(n):\n",
        "  return int(n*(3*n-1)/2)\n",
        "def hexa(n):\n",
        "  return n*(2*n-1)\n",
        "def hep(n):\n",
        "  return int(n*(5*n-3)/2)\n",
        "def octa(n):\n",
        "  return n*(3*n-2)\n",
        "\n",
        "tris = [tri(i) for i in range(18,141)]\n",
        "squs = [squ(i) for i in range(18,141)]\n",
        "pens = [pen(i) for i in range(18,141)]\n",
        "hexs = [hexa(i) for i in range(18,141)]\n",
        "heps = [hep(i) for i in range(18,141)]\n",
        "octs = [octa(i) for i in range(19,59)]\n",
        "all = [tris,squs,pens,hexs,heps]\n",
        "\n",
        "def findAns ():\n",
        "  for l in list(permutations(all)):\n",
        "    tris = l[0]\n",
        "    squs = l[1]\n",
        "    pens = l[2]\n",
        "    hexs = l[3]\n",
        "    heps = l[4]\n",
        "    for oct in octs:\n",
        "      oct_s = str(oct)\n",
        "      if oct_s[2] == '0':\n",
        "        continue\n",
        "      digits = [str(i) for i in range(10,100)]\n",
        "      beg_hep = oct_s[2:4]\n",
        "      is_heps = []\n",
        "      for end_hep in digits:\n",
        "        is_hep = int(beg_hep+end_hep)\n",
        "        if is_hep in heps:\n",
        "          is_heps.append(is_hep)\n",
        "          beg_hex = str(is_hep)[2:4]\n",
        "          for end_hex in digits:\n",
        "            is_hex = int(beg_hex+end_hex)\n",
        "            if is_hex in hexs:\n",
        "              beg_pen = str(is_hex)[2:4]\n",
        "              for end_pen in digits:\n",
        "                is_pen = int(beg_pen+end_pen)\n",
        "                if is_pen in pens:\n",
        "                  beg_squ = str(is_pen)[2:4]\n",
        "                  for end_squ in digits:\n",
        "                    is_squ = int(beg_squ+end_squ)\n",
        "                    if is_squ in squs:\n",
        "                      beg_tri = str(is_squ)[2:4]\n",
        "                      for end_tri in digits:\n",
        "                        is_tri = int(beg_tri+end_tri)\n",
        "                        if is_tri in tris:\n",
        "                          if str(is_tri)[2:4] == oct_s[0:2]:\n",
        "                            return oct+ is_hep+ is_hex+ is_pen+ is_squ+ is_tri\n",
        "\n",
        "\n",
        "\n",
        "ans = findAns()\n",
        "end = time.time()\n",
        "print (\"The Answer is {} found in time {}\".format(ans, end - start))\n"
      ],
      "metadata": {
        "id": "7Hf9Jrqu6zxd"
      },
      "execution_count": null,
      "outputs": []
    },
    {
      "cell_type": "markdown",
      "source": [
        "## 62.Cubic permutations"
      ],
      "metadata": {
        "id": "2DAekvxk6z4m"
      }
    },
    {
      "cell_type": "markdown",
      "source": [
        "### Problem 62\n",
        "The cube, 41063625 (3453), can be permuted to produce two other cubes: 56623104 (3843) and 66430125 (4053). In fact, 41063625 is the smallest cube which has exactly three permutations of its digits which are also cube.\n",
        "\n",
        "Find the smallest cube for which exactly five permutations of its digits are cube.\n"
      ],
      "metadata": {
        "id": "VEdotFzF6z4n"
      }
    },
    {
      "cell_type": "code",
      "source": [
        "import time\n",
        "start = time.time()\n",
        "\n",
        "def isPermutaion(a,b):\n",
        "  s1 = str(a)\n",
        "  s2 = str(b)\n",
        "  if len(s1)!=len(s2):\n",
        "    return False\n",
        "  if s1== s2:\n",
        "    return False\n",
        "  for c in s1:\n",
        "    if c not in s2:\n",
        "      return False\n",
        "    s2 =  s2.replace(c,'',1)\n",
        "  return True\n",
        "\n",
        "cubes = []\n",
        "for i in range(1, 10000):\n",
        "  cubes.append(i*i*i)\n",
        "\n",
        "for cube1 in cubes:\n",
        "  l = [cube1]\n",
        "  for cube2 in cubes:\n",
        "    if isPermutaion(cube1,cube2):\n",
        "      l.append(cube2)\n",
        "  if len(l)==5:\n",
        "    break\n",
        "\n",
        "ans = cube1\n",
        "end = time.time()\n",
        "print (\"The Answer is {} found in time {}\".format(ans, end - start))\n"
      ],
      "metadata": {
        "id": "pvm8XcfI6z4n"
      },
      "execution_count": null,
      "outputs": []
    },
    {
      "cell_type": "markdown",
      "source": [
        "## 63.Powerful digit counts\n"
      ],
      "metadata": {
        "id": "sQYZnTOz6z-A"
      }
    },
    {
      "cell_type": "markdown",
      "source": [
        "### Problem 63\n",
        "The 5-digit number, 16807=75, is also a fifth power. Similarly, the 9-digit number, 134217728=89, is a ninth power.\n",
        "\n",
        "How many n-digit positive integers exist which are also an nth power?\n"
      ],
      "metadata": {
        "id": "Ah48EZNm6z-B"
      }
    },
    {
      "cell_type": "code",
      "source": [
        "import time\n",
        "start = time.time()\n",
        "\n",
        "counter = 0\n",
        "for p in range(1,50):\n",
        "  for n in range(1,1000):\n",
        "    x = n**p\n",
        "    l = len(str(x))\n",
        "    if l == p :\n",
        "      counter += 1\n",
        "    if l > p :\n",
        "      break\n",
        "\n",
        "ans = counter\n",
        "end = time.time()\n",
        "print (\"The Answer is {} found in time {}\".format(ans, end - start))\n"
      ],
      "metadata": {
        "id": "yxMEUlTY6z-B"
      },
      "execution_count": null,
      "outputs": []
    },
    {
      "cell_type": "markdown",
      "source": [
        "## 64.Odd period square roots\n"
      ],
      "metadata": {
        "id": "vmI7P_TX60DF"
      }
    },
    {
      "cell_type": "markdown",
      "source": [
        "### Problem 64\n",
        "<img src=\"https://drive.google.com/uc?id=1c6g5p1nV1Yxqh5RbyEQcPub8_eqESt2n\">\n"
      ],
      "metadata": {
        "id": "vkkdzLpM60DG"
      }
    },
    {
      "cell_type": "code",
      "source": [
        "import time\n",
        "start = time.time()\n",
        "\n",
        "ans = 0\n",
        "end = time.time()\n",
        "print (\"The Answer is {} found in time {}\".format(ans, end - start))\n"
      ],
      "metadata": {
        "id": "Uv9Cb_nN60DG"
      },
      "execution_count": null,
      "outputs": []
    },
    {
      "cell_type": "markdown",
      "source": [
        "## 65.Convergents of e\n"
      ],
      "metadata": {
        "id": "Qi1BiIA460Hv"
      }
    },
    {
      "cell_type": "markdown",
      "source": [
        "### Problem 65\n",
        "<img src=\"https://drive.google.com/uc?id=1FFbZi5rxys023x2MdtldHe0aKYJ6dKH8\">"
      ],
      "metadata": {
        "id": "WUD7cGkU60Hw"
      }
    },
    {
      "cell_type": "code",
      "source": [
        "import time\n",
        "start = time.time()\n",
        "\n",
        "ans = 0\n",
        "end = time.time()\n",
        "print (\"The Answer is {} found in time {}\".format(ans, end - start))\n"
      ],
      "metadata": {
        "id": "yyoHZ5zU60Hw"
      },
      "execution_count": null,
      "outputs": []
    },
    {
      "cell_type": "markdown",
      "source": [
        "## 66.Diophantine equation\n"
      ],
      "metadata": {
        "id": "ZIttxdRg60Lx"
      }
    },
    {
      "cell_type": "markdown",
      "source": [
        "### Problem 66\n",
        "<img src=\"https://drive.google.com/uc?id=1MaSsnEJO9OylZUJFNTB2-wDkkuU3ApUs\">"
      ],
      "metadata": {
        "id": "4vkWRCju60Lx"
      }
    },
    {
      "cell_type": "code",
      "source": [
        "import time\n",
        "start = time.time()\n",
        "\n",
        "ans = 0\n",
        "end = time.time()\n",
        "print (\"The Answer is {} found in time {}\".format(ans, end - start))\n"
      ],
      "metadata": {
        "id": "kBGm7zhn60Ly"
      },
      "execution_count": null,
      "outputs": []
    },
    {
      "cell_type": "markdown",
      "source": [
        "## 67.Maximum path sum II\n"
      ],
      "metadata": {
        "id": "DhiGycLx60PH"
      }
    },
    {
      "cell_type": "markdown",
      "source": [
        "### Problem 67\n",
        "<img src=\"https://drive.google.com/uc?id=1ytb6QbxKjZFdM1lE1-ZZavasiBxdVeCe\">"
      ],
      "metadata": {
        "id": "ikiQrPbJ60PI"
      }
    },
    {
      "cell_type": "code",
      "source": [
        "import time\n",
        "start = time.time()\n",
        "\n",
        "!wget https://projecteuler.net/project/resources/p067_triangle.txt\n",
        "with open('p067_triangle.txt') as f:\n",
        "    lines = [''.join(line).split(' ') for line in f.readlines() ]\n",
        "\n",
        "index = 0\n",
        "total = 0\n",
        "totals = []\n",
        "last = [int(lines[0][0])]\n",
        "\n",
        "for i in range(1, len(lines)):\n",
        "  current = []\n",
        "  line = lines[i]\n",
        "  for j in range(len(line)):\n",
        "    element = int(line[j])\n",
        "    if j == 0 :\n",
        "      current.append(element + last[0])\n",
        "    elif j+1 == len(line):\n",
        "      current.append(element + last[len(last)-1])\n",
        "    else:\n",
        "      current.append(element + max(last[j], last[j-1]))\n",
        "  last =current\n",
        "\n",
        "\n",
        "ans = max(last)\n",
        "end = time.time()\n",
        "print (\"The Answer is {} found in time {}\".format(ans, end - start))\n"
      ],
      "metadata": {
        "id": "UUIGXD2360PI"
      },
      "execution_count": null,
      "outputs": []
    },
    {
      "cell_type": "markdown",
      "source": [
        "## 68.Magic 5-gon ring\n"
      ],
      "metadata": {
        "id": "8JMGfQr060SO"
      }
    },
    {
      "cell_type": "markdown",
      "source": [
        "### Problem 68\n",
        "<img src=\"https://drive.google.com/uc?id=1x4faJnPVVYGAeLCYcI_DmO41EeEAJdy3\">"
      ],
      "metadata": {
        "id": "p2NznvsK60SO"
      }
    },
    {
      "cell_type": "code",
      "source": [
        "import time\n",
        "start = time.time()\n",
        "\n",
        "ans = 0\n",
        "end = time.time()\n",
        "print (\"The Answer is {} found in time {}\".format(ans, end - start))\n"
      ],
      "metadata": {
        "id": "bEZmAcDP60SP"
      },
      "execution_count": null,
      "outputs": []
    },
    {
      "cell_type": "markdown",
      "source": [
        "## 69.Totient maximum\n"
      ],
      "metadata": {
        "id": "d3iu2EBc60VM"
      }
    },
    {
      "cell_type": "markdown",
      "source": [
        "### Problem 69\n",
        "<img src=\"https://drive.google.com/uc?id=1QsaimmpXz0NWEzCk-wvlGqkItd1aedb2\">"
      ],
      "metadata": {
        "id": "Aekkp2bJ60VM"
      }
    },
    {
      "cell_type": "code",
      "source": [
        "import time\n",
        "start = time.time()\n",
        "\n",
        "ans = 0\n",
        "end = time.time()\n",
        "print (\"The Answer is {} found in time {}\".format(ans, end - start))\n"
      ],
      "metadata": {
        "id": "o9YgCZai60VM"
      },
      "execution_count": null,
      "outputs": []
    },
    {
      "cell_type": "code",
      "source": [
        "primes = [2]\n",
        "\n",
        "for n in range(3,1000000):\n",
        "  for p in primes:\n",
        "    if n%p == 0:\n",
        "      break\n",
        "    if p*p > n:\n",
        "      primes.append(n)\n",
        "      break"
      ],
      "metadata": {
        "id": "kym2h-GOFOMU"
      },
      "execution_count": null,
      "outputs": []
    },
    {
      "cell_type": "code",
      "source": [
        "a = 2\n",
        "step =1\n",
        "maxPhi = 0\n",
        "max\n",
        "while a<20:\n",
        "  counter = 1\n",
        "  for p in primes:\n",
        "    if p > a:\n",
        "      break\n",
        "    if a%p != 0:\n",
        "      counter +=1\n",
        "  if maxPhi < a/counter:\n",
        "    maxPhi = a/counter\n",
        "    print(a, '--', maxPhi)\n",
        "  a+=step\n"
      ],
      "metadata": {
        "id": "e9jWEhwmRC_-"
      },
      "execution_count": null,
      "outputs": []
    },
    {
      "cell_type": "code",
      "source": [
        "max(primes)"
      ],
      "metadata": {
        "id": "Sr2iW5KPQ7Lm"
      },
      "execution_count": null,
      "outputs": []
    },
    {
      "cell_type": "code",
      "source": [
        "def r_prime(a,b):\n",
        "  if b > a :\n",
        "    c = a\n",
        "    a = b\n",
        "    b = c\n",
        "  if a%b == 0:\n",
        "    return False\n",
        "\n",
        "  for i in primes:\n",
        "    if i > a :\n",
        "      break\n",
        "    if b%i == 0:\n",
        "      if a%i == 0:\n",
        "        return False\n",
        "  return True\n",
        "\n",
        "maxPhi =0\n",
        "step = 1\n",
        "a= 5\n",
        "latest = 1\n",
        "while a < 1000000:\n",
        "  bs=[]\n",
        "  a += step\n",
        "  update = True\n",
        "  counter = 1\n",
        "  for b in range(2,a):\n",
        "    if r_prime(a,b):\n",
        "      counter += 1\n",
        "      bs.append(b)\n",
        "      phi = a/counter\n",
        "      if phi<=maxPhi:\n",
        "        update = False\n",
        "        break\n",
        "  if update:\n",
        "    maxPhi = phi\n",
        "    step = a\n",
        "    latest = counter\n",
        "    print('a={}, phi= {}, latest= {}, bs={}'.format(a, maxPhi, latest, bs))"
      ],
      "metadata": {
        "id": "e8iqLYRdBEi0"
      },
      "execution_count": null,
      "outputs": []
    },
    {
      "cell_type": "code",
      "source": [
        "12/5"
      ],
      "metadata": {
        "id": "Em_tmYotNBhi"
      },
      "execution_count": null,
      "outputs": []
    },
    {
      "cell_type": "code",
      "source": [
        "r_prime(8,3)"
      ],
      "metadata": {
        "id": "YtSvusm0Jb4s"
      },
      "execution_count": null,
      "outputs": []
    },
    {
      "cell_type": "markdown",
      "source": [
        "## 57.Square root convergents\n"
      ],
      "metadata": {
        "id": "7-9Fca5660oO"
      }
    },
    {
      "cell_type": "markdown",
      "source": [
        "### Problem 57\n",
        "<img src=\"https://drive.google.com/uc?id=1LyelwzWvDIAx9BGLUl8FhSHJ7tO8uBZK\">"
      ],
      "metadata": {
        "id": "Lrtot28M60oO"
      }
    },
    {
      "cell_type": "code",
      "source": [
        "import time\n",
        "start = time.time()\n",
        "\n",
        "ans = 0\n",
        "end = time.time()\n",
        "print (\"The Answer is {} found in time {}\".format(ans, end - start))\n"
      ],
      "metadata": {
        "id": "twHDDyUy60oO"
      },
      "execution_count": null,
      "outputs": []
    },
    {
      "cell_type": "markdown",
      "source": [
        "## 76.Counting summations\n"
      ],
      "metadata": {
        "id": "LGvY7Jri60rL"
      }
    },
    {
      "cell_type": "markdown",
      "source": [
        "### Problem 76\n",
        "It is possible to write five as a sum in exactly six different ways:\n",
        "\n",
        "4 + 1\n",
        "\n",
        "3 + 2\n",
        "\n",
        "3 + 1 + 1\n",
        "\n",
        "2 + 2 + 1\n",
        "\n",
        "2 + 1 + 1 + 1\n",
        "\n",
        "1 + 1 + 1 + 1 + 1\n",
        "\n",
        "How many different ways can one hundred be written as a sum of at least two positive integers?"
      ],
      "metadata": {
        "id": "GQ6Ih7kk60rM"
      }
    },
    {
      "cell_type": "code",
      "source": [
        "n = 5\n",
        "for i in range(2,n+1):\n",
        "  for j in range(1, n//i):\n",
        "    print(i, j)\n",
        "  print('------------')"
      ],
      "metadata": {
        "colab": {
          "base_uri": "https://localhost:8080/"
        },
        "id": "RP8C43uKws7A",
        "outputId": "dad07c28-09f9-4f6d-defa-a6eaf8c6264b"
      },
      "execution_count": null,
      "outputs": [
        {
          "output_type": "stream",
          "name": "stdout",
          "text": [
            "2 1\n",
            "------------\n",
            "------------\n",
            "------------\n",
            "------------\n"
          ]
        }
      ]
    },
    {
      "cell_type": "code",
      "source": [
        "import time\n",
        "start = time.time()\n",
        "\n",
        "ans = 0\n",
        "end = time.time()\n",
        "print (\"The Answer is {} found in time {}\".format(ans, end - start))\n"
      ],
      "metadata": {
        "id": "IA1ZkBp260rM",
        "colab": {
          "base_uri": "https://localhost:8080/"
        },
        "outputId": "5eeab12e-4c6e-4052-abbd-5d29a1b7aa39"
      },
      "execution_count": null,
      "outputs": [
        {
          "output_type": "stream",
          "name": "stdout",
          "text": [
            "The Answer is 0 found in time 3.123283386230469e-05\n"
          ]
        }
      ]
    },
    {
      "cell_type": "markdown",
      "source": [
        "## 71.Ordered fractions"
      ],
      "metadata": {
        "id": "tgb48YPk60t1"
      }
    },
    {
      "cell_type": "markdown",
      "source": [
        "### Problem 71\n",
        "Consider the fraction, n/d, where n and d are positive integers. If n<d and HCF(n,d)=1, it is called a reduced proper fraction.\n",
        "\n",
        "If we list the set of reduced proper fractions for d ≤ 8 in ascending order of size, we get:\n",
        "\n",
        "1/8, 1/7, 1/6, 1/5, 1/4, 2/7, 1/3, 3/8, 2/5, 3/7, 1/2, 4/7, 3/5, 5/8, 2/3, 5/7, 3/4, 4/5, 5/6, 6/7, 7/8\n",
        "\n",
        "It can be seen that 2/5 is the fraction immediately to the left of 3/7.\n",
        "\n",
        "By listing the set of reduced proper fractions for d ≤ 1,000,000 in ascending order of size, find the numerator of the fraction immediately to the left of 3/7."
      ],
      "metadata": {
        "id": "Fln4Fu2E60t1"
      }
    },
    {
      "cell_type": "code",
      "source": [
        "import time\n",
        "start = time.time()\n",
        "\n",
        "ans = 0\n",
        "end = time.time()\n",
        "print (\"The Answer is {} found in time {}\".format(ans, end - start))\n"
      ],
      "metadata": {
        "id": "WPuC5S7d60t2",
        "colab": {
          "base_uri": "https://localhost:8080/"
        },
        "outputId": "6fef67d9-4027-4d5c-f513-94be1d49f7e4"
      },
      "execution_count": null,
      "outputs": [
        {
          "output_type": "stream",
          "name": "stdout",
          "text": [
            "The Answer is 0 found in time 4.7206878662109375e-05\n"
          ]
        }
      ]
    },
    {
      "cell_type": "code",
      "source": [
        ""
      ],
      "metadata": {
        "id": "wQPmumeubE2V"
      },
      "execution_count": null,
      "outputs": []
    },
    {
      "cell_type": "code",
      "source": [
        "target"
      ],
      "metadata": {
        "colab": {
          "base_uri": "https://localhost:8080/"
        },
        "id": "iZIww9gEbLG6",
        "outputId": "ac9ae5a6-3da7-4faf-a82c-a270a5461239"
      },
      "execution_count": null,
      "outputs": [
        {
          "output_type": "execute_result",
          "data": {
            "text/plain": [
              "Fraction(3, 7)"
            ]
          },
          "metadata": {},
          "execution_count": 13
        }
      ]
    },
    {
      "cell_type": "code",
      "source": [
        "from fractions import Fraction\n",
        "target = Fraction(3,7)\n",
        "hcf = []\n",
        "for d in range(2,50):\n",
        "  if d%1000 == 0 :\n",
        "    print(d)\n",
        "  for n in range(1,d):\n",
        "    x = Fraction(n, d)\n",
        "    if x >= target :\n",
        "      break\n",
        "    if n == x.numerator:\n",
        "      hcf.append(x)\n",
        "shift = 1000000-3\n",
        "hcf.sort()\n",
        "print(hcf)"
      ],
      "metadata": {
        "colab": {
          "base_uri": "https://localhost:8080/"
        },
        "id": "pAHfHZeCYuFj",
        "outputId": "e4223772-9dae-4943-c064-92bc5cf5291c"
      },
      "execution_count": null,
      "outputs": [
        {
          "output_type": "stream",
          "name": "stdout",
          "text": [
            "[Fraction(1, 49), Fraction(1, 48), Fraction(1, 47), Fraction(1, 46), Fraction(1, 45), Fraction(1, 44), Fraction(1, 43), Fraction(1, 42), Fraction(1, 41), Fraction(1, 40), Fraction(1, 39), Fraction(1, 38), Fraction(1, 37), Fraction(1, 36), Fraction(1, 35), Fraction(1, 34), Fraction(1, 33), Fraction(1, 32), Fraction(1, 31), Fraction(1, 30), Fraction(1, 29), Fraction(1, 28), Fraction(1, 27), Fraction(1, 26), Fraction(1, 25), Fraction(2, 49), Fraction(1, 24), Fraction(2, 47), Fraction(1, 23), Fraction(2, 45), Fraction(1, 22), Fraction(2, 43), Fraction(1, 21), Fraction(2, 41), Fraction(1, 20), Fraction(2, 39), Fraction(1, 19), Fraction(2, 37), Fraction(1, 18), Fraction(2, 35), Fraction(1, 17), Fraction(2, 33), Fraction(3, 49), Fraction(1, 16), Fraction(3, 47), Fraction(2, 31), Fraction(3, 46), Fraction(1, 15), Fraction(3, 44), Fraction(2, 29), Fraction(3, 43), Fraction(1, 14), Fraction(3, 41), Fraction(2, 27), Fraction(3, 40), Fraction(1, 13), Fraction(3, 38), Fraction(2, 25), Fraction(3, 37), Fraction(4, 49), Fraction(1, 12), Fraction(4, 47), Fraction(3, 35), Fraction(2, 23), Fraction(3, 34), Fraction(4, 45), Fraction(1, 11), Fraction(4, 43), Fraction(3, 32), Fraction(2, 21), Fraction(3, 31), Fraction(4, 41), Fraction(1, 10), Fraction(5, 49), Fraction(4, 39), Fraction(3, 29), Fraction(5, 48), Fraction(2, 19), Fraction(5, 47), Fraction(3, 28), Fraction(4, 37), Fraction(5, 46), Fraction(1, 9), Fraction(5, 44), Fraction(4, 35), Fraction(3, 26), Fraction(5, 43), Fraction(2, 17), Fraction(5, 42), Fraction(3, 25), Fraction(4, 33), Fraction(5, 41), Fraction(6, 49), Fraction(1, 8), Fraction(6, 47), Fraction(5, 39), Fraction(4, 31), Fraction(3, 23), Fraction(5, 38), Fraction(2, 15), Fraction(5, 37), Fraction(3, 22), Fraction(4, 29), Fraction(5, 36), Fraction(6, 43), Fraction(1, 7), Fraction(7, 48), Fraction(6, 41), Fraction(5, 34), Fraction(4, 27), Fraction(7, 47), Fraction(3, 20), Fraction(5, 33), Fraction(7, 46), Fraction(2, 13), Fraction(7, 45), Fraction(5, 32), Fraction(3, 19), Fraction(7, 44), Fraction(4, 25), Fraction(5, 31), Fraction(6, 37), Fraction(7, 43), Fraction(8, 49), Fraction(1, 6), Fraction(8, 47), Fraction(7, 41), Fraction(6, 35), Fraction(5, 29), Fraction(4, 23), Fraction(7, 40), Fraction(3, 17), Fraction(8, 45), Fraction(5, 28), Fraction(7, 39), Fraction(2, 11), Fraction(9, 49), Fraction(7, 38), Fraction(5, 27), Fraction(8, 43), Fraction(3, 16), Fraction(7, 37), Fraction(4, 21), Fraction(9, 47), Fraction(5, 26), Fraction(6, 31), Fraction(7, 36), Fraction(8, 41), Fraction(9, 46), Fraction(1, 5), Fraction(10, 49), Fraction(9, 44), Fraction(8, 39), Fraction(7, 34), Fraction(6, 29), Fraction(5, 24), Fraction(9, 43), Fraction(4, 19), Fraction(7, 33), Fraction(10, 47), Fraction(3, 14), Fraction(8, 37), Fraction(5, 23), Fraction(7, 32), Fraction(9, 41), Fraction(2, 9), Fraction(11, 49), Fraction(9, 40), Fraction(7, 31), Fraction(5, 22), Fraction(8, 35), Fraction(11, 48), Fraction(3, 13), Fraction(10, 43), Fraction(7, 30), Fraction(11, 47), Fraction(4, 17), Fraction(9, 38), Fraction(5, 21), Fraction(11, 46), Fraction(6, 25), Fraction(7, 29), Fraction(8, 33), Fraction(9, 37), Fraction(10, 41), Fraction(11, 45), Fraction(12, 49), Fraction(1, 4), Fraction(12, 47), Fraction(11, 43), Fraction(10, 39), Fraction(9, 35), Fraction(8, 31), Fraction(7, 27), Fraction(6, 23), Fraction(11, 42), Fraction(5, 19), Fraction(9, 34), Fraction(13, 49), Fraction(4, 15), Fraction(11, 41), Fraction(7, 26), Fraction(10, 37), Fraction(13, 48), Fraction(3, 11), Fraction(11, 40), Fraction(8, 29), Fraction(13, 47), Fraction(5, 18), Fraction(12, 43), Fraction(7, 25), Fraction(9, 32), Fraction(11, 39), Fraction(13, 46), Fraction(2, 7), Fraction(13, 45), Fraction(11, 38), Fraction(9, 31), Fraction(7, 24), Fraction(12, 41), Fraction(5, 17), Fraction(13, 44), Fraction(8, 27), Fraction(11, 37), Fraction(14, 47), Fraction(3, 10), Fraction(13, 43), Fraction(10, 33), Fraction(7, 23), Fraction(11, 36), Fraction(15, 49), Fraction(4, 13), Fraction(13, 42), Fraction(9, 29), Fraction(14, 45), Fraction(5, 16), Fraction(11, 35), Fraction(6, 19), Fraction(13, 41), Fraction(7, 22), Fraction(15, 47), Fraction(8, 25), Fraction(9, 28), Fraction(10, 31), Fraction(11, 34), Fraction(12, 37), Fraction(13, 40), Fraction(14, 43), Fraction(15, 46), Fraction(16, 49), Fraction(1, 3), Fraction(16, 47), Fraction(15, 44), Fraction(14, 41), Fraction(13, 38), Fraction(12, 35), Fraction(11, 32), Fraction(10, 29), Fraction(9, 26), Fraction(17, 49), Fraction(8, 23), Fraction(15, 43), Fraction(7, 20), Fraction(13, 37), Fraction(6, 17), Fraction(17, 48), Fraction(11, 31), Fraction(16, 45), Fraction(5, 14), Fraction(14, 39), Fraction(9, 25), Fraction(13, 36), Fraction(17, 47), Fraction(4, 11), Fraction(15, 41), Fraction(11, 30), Fraction(18, 49), Fraction(7, 19), Fraction(17, 46), Fraction(10, 27), Fraction(13, 35), Fraction(16, 43), Fraction(3, 8), Fraction(17, 45), Fraction(14, 37), Fraction(11, 29), Fraction(8, 21), Fraction(13, 34), Fraction(18, 47), Fraction(5, 13), Fraction(17, 44), Fraction(12, 31), Fraction(19, 49), Fraction(7, 18), Fraction(16, 41), Fraction(9, 23), Fraction(11, 28), Fraction(13, 33), Fraction(15, 38), Fraction(17, 43), Fraction(19, 48), Fraction(2, 5), Fraction(19, 47), Fraction(17, 42), Fraction(15, 37), Fraction(13, 32), Fraction(11, 27), Fraction(20, 49), Fraction(9, 22), Fraction(16, 39), Fraction(7, 17), Fraction(19, 46), Fraction(12, 29), Fraction(17, 41), Fraction(5, 12), Fraction(18, 43), Fraction(13, 31), Fraction(8, 19), Fraction(19, 45), Fraction(11, 26), Fraction(14, 33), Fraction(17, 40), Fraction(20, 47)]\n"
          ]
        }
      ]
    },
    {
      "cell_type": "code",
      "source": [
        "n=1 -- d=3 -- s=1\n",
        "n=2 -- d=2 -- s=2\n",
        "n=3 -- d=8 -- s=3\n",
        "n=4 -- d=11 -- s=3\n"
      ],
      "metadata": {
        "id": "lwit0VLZduuY"
      },
      "execution_count": null,
      "outputs": []
    },
    {
      "cell_type": "code",
      "source": [
        "21%7"
      ],
      "metadata": {
        "colab": {
          "base_uri": "https://localhost:8080/"
        },
        "id": "mtQc3-9Ey2VV",
        "outputId": "61750810-eae0-4ced-ef99-2ab291a245b5"
      },
      "execution_count": null,
      "outputs": [
        {
          "output_type": "execute_result",
          "data": {
            "text/plain": [
              "0"
            ]
          },
          "metadata": {},
          "execution_count": 55
        }
      ]
    },
    {
      "cell_type": "code",
      "source": [
        "limit = 100000\n",
        "for n in range(1,limit):\n",
        "  start = False\n",
        "  counter = 0\n",
        "  for d in range(n+1,limit):\n",
        "    if Fraction(n/d) < target:\n",
        "      start = True\n",
        "    if start:\n",
        "      s =0\n",
        "      # for c in range(d, limit):\n",
        "      #   if not comDev(n,c):\n",
        "      #     s +=1\n",
        "      # if limit%n != 0:\n",
        "      #   s -=1\n",
        "      if n%1000 == 0 :\n",
        "        print('{}: sum={}'.format(n,s))\n",
        "      break\n",
        "    "
      ],
      "metadata": {
        "colab": {
          "base_uri": "https://localhost:8080/",
          "height": 426
        },
        "id": "JdNPu5LcekM2",
        "outputId": "4035fbc0-991e-41c0-a1b4-74a989472fd4"
      },
      "execution_count": null,
      "outputs": [
        {
          "output_type": "stream",
          "name": "stdout",
          "text": [
            "1000: sum=0\n",
            "2000: sum=0\n",
            "3000: sum=0\n"
          ]
        },
        {
          "output_type": "error",
          "ename": "KeyboardInterrupt",
          "evalue": "ignored",
          "traceback": [
            "\u001b[0;31m---------------------------------------------------------------------------\u001b[0m",
            "\u001b[0;31mKeyboardInterrupt\u001b[0m                         Traceback (most recent call last)",
            "\u001b[0;32m<ipython-input-7-b447c613fe62>\u001b[0m in \u001b[0;36m<module>\u001b[0;34m()\u001b[0m\n\u001b[1;32m      4\u001b[0m   \u001b[0mcounter\u001b[0m \u001b[0;34m=\u001b[0m \u001b[0;36m0\u001b[0m\u001b[0;34m\u001b[0m\u001b[0;34m\u001b[0m\u001b[0m\n\u001b[1;32m      5\u001b[0m   \u001b[0;32mfor\u001b[0m \u001b[0md\u001b[0m \u001b[0;32min\u001b[0m \u001b[0mrange\u001b[0m\u001b[0;34m(\u001b[0m\u001b[0mn\u001b[0m\u001b[0;34m+\u001b[0m\u001b[0;36m1\u001b[0m\u001b[0;34m,\u001b[0m\u001b[0mlimit\u001b[0m\u001b[0;34m)\u001b[0m\u001b[0;34m:\u001b[0m\u001b[0;34m\u001b[0m\u001b[0;34m\u001b[0m\u001b[0m\n\u001b[0;32m----> 6\u001b[0;31m     \u001b[0;32mif\u001b[0m \u001b[0mFraction\u001b[0m\u001b[0;34m(\u001b[0m\u001b[0mn\u001b[0m\u001b[0;34m/\u001b[0m\u001b[0md\u001b[0m\u001b[0;34m)\u001b[0m \u001b[0;34m<\u001b[0m \u001b[0mtarget\u001b[0m\u001b[0;34m:\u001b[0m\u001b[0;34m\u001b[0m\u001b[0;34m\u001b[0m\u001b[0m\n\u001b[0m\u001b[1;32m      7\u001b[0m       \u001b[0mstart\u001b[0m \u001b[0;34m=\u001b[0m \u001b[0;32mTrue\u001b[0m\u001b[0;34m\u001b[0m\u001b[0;34m\u001b[0m\u001b[0m\n\u001b[1;32m      8\u001b[0m     \u001b[0;32mif\u001b[0m \u001b[0mstart\u001b[0m\u001b[0;34m:\u001b[0m\u001b[0;34m\u001b[0m\u001b[0;34m\u001b[0m\u001b[0m\n",
            "\u001b[0;32m/usr/lib/python3.7/fractions.py\u001b[0m in \u001b[0;36m__new__\u001b[0;34m(cls, numerator, denominator, _normalize)\u001b[0m\n\u001b[1;32m    128\u001b[0m             \u001b[0;32melif\u001b[0m \u001b[0misinstance\u001b[0m\u001b[0;34m(\u001b[0m\u001b[0mnumerator\u001b[0m\u001b[0;34m,\u001b[0m \u001b[0;34m(\u001b[0m\u001b[0mfloat\u001b[0m\u001b[0;34m,\u001b[0m \u001b[0mDecimal\u001b[0m\u001b[0;34m)\u001b[0m\u001b[0;34m)\u001b[0m\u001b[0;34m:\u001b[0m\u001b[0;34m\u001b[0m\u001b[0;34m\u001b[0m\u001b[0m\n\u001b[1;32m    129\u001b[0m                 \u001b[0;31m# Exact conversion\u001b[0m\u001b[0;34m\u001b[0m\u001b[0;34m\u001b[0m\u001b[0;34m\u001b[0m\u001b[0m\n\u001b[0;32m--> 130\u001b[0;31m                 \u001b[0mself\u001b[0m\u001b[0;34m.\u001b[0m\u001b[0m_numerator\u001b[0m\u001b[0;34m,\u001b[0m \u001b[0mself\u001b[0m\u001b[0;34m.\u001b[0m\u001b[0m_denominator\u001b[0m \u001b[0;34m=\u001b[0m \u001b[0mnumerator\u001b[0m\u001b[0;34m.\u001b[0m\u001b[0mas_integer_ratio\u001b[0m\u001b[0;34m(\u001b[0m\u001b[0;34m)\u001b[0m\u001b[0;34m\u001b[0m\u001b[0;34m\u001b[0m\u001b[0m\n\u001b[0m\u001b[1;32m    131\u001b[0m                 \u001b[0;32mreturn\u001b[0m \u001b[0mself\u001b[0m\u001b[0;34m\u001b[0m\u001b[0;34m\u001b[0m\u001b[0m\n\u001b[1;32m    132\u001b[0m \u001b[0;34m\u001b[0m\u001b[0m\n",
            "\u001b[0;31mKeyboardInterrupt\u001b[0m: "
          ]
        }
      ]
    },
    {
      "cell_type": "code",
      "source": [
        "for x_n in range(1,21):\n",
        "  count = 0\n",
        "  for i in hcf:\n",
        "    if i.numerator == x_n:\n",
        "      count +=1\n",
        "  print('{}: sum={}'.format(x_n, count))"
      ],
      "metadata": {
        "colab": {
          "base_uri": "https://localhost:8080/"
        },
        "id": "DQ3BmFPkZ-AK",
        "outputId": "d119e7bc-5319-467a-c1cf-05a1adeba3e0"
      },
      "execution_count": null,
      "outputs": [
        {
          "output_type": "stream",
          "name": "stdout",
          "text": [
            "1: sum=47\n",
            "2: sum=23\n",
            "3: sum=28\n",
            "4: sum=20\n",
            "5: sum=31\n",
            "6: sum=12\n",
            "7: sum=28\n",
            "8: sum=16\n",
            "9: sum=19\n",
            "10: sum=10\n",
            "11: sum=22\n",
            "12: sum=8\n",
            "13: sum=18\n",
            "14: sum=7\n",
            "15: sum=8\n",
            "16: sum=6\n",
            "17: sum=10\n",
            "18: sum=3\n",
            "19: sum=5\n",
            "20: sum=2\n"
          ]
        }
      ]
    },
    {
      "cell_type": "code",
      "source": [
        "50 - x_d - ((50 - x_d+(x_d%2)+1)//2) "
      ],
      "metadata": {
        "colab": {
          "base_uri": "https://localhost:8080/"
        },
        "id": "Fbf7ordW22ef",
        "outputId": "ffdc5237-b481-4c08-ce2c-b24d448cd129"
      },
      "execution_count": null,
      "outputs": [
        {
          "output_type": "execute_result",
          "data": {
            "text/plain": [
              "11"
            ]
          },
          "metadata": {},
          "execution_count": 95
        }
      ]
    },
    {
      "cell_type": "code",
      "source": [
        "\n",
        "def comDev(a, b):\n",
        "  for i in range(2, min(a, b)+1):\n",
        "    if a%i==b%i==0:\n",
        "      return True\n",
        "  return False\n",
        "\n",
        "for a in range(2,10):\n",
        "  for b in range(2,10):\n",
        "    print('{}-{}:{}'.format(a,b,comDev(a,b)))"
      ],
      "metadata": {
        "colab": {
          "base_uri": "https://localhost:8080/"
        },
        "id": "nT49UQBI3w-e",
        "outputId": "13276533-5444-4fc9-84d9-bded46ccca07"
      },
      "execution_count": null,
      "outputs": [
        {
          "output_type": "stream",
          "name": "stdout",
          "text": [
            "2-2:True\n",
            "2-3:False\n",
            "2-4:True\n",
            "2-5:False\n",
            "2-6:True\n",
            "2-7:False\n",
            "2-8:True\n",
            "2-9:False\n",
            "3-2:False\n",
            "3-3:True\n",
            "3-4:False\n",
            "3-5:False\n",
            "3-6:True\n",
            "3-7:False\n",
            "3-8:False\n",
            "3-9:True\n",
            "4-2:True\n",
            "4-3:False\n",
            "4-4:True\n",
            "4-5:False\n",
            "4-6:True\n",
            "4-7:False\n",
            "4-8:True\n",
            "4-9:False\n",
            "5-2:False\n",
            "5-3:False\n",
            "5-4:False\n",
            "5-5:True\n",
            "5-6:False\n",
            "5-7:False\n",
            "5-8:False\n",
            "5-9:False\n",
            "6-2:True\n",
            "6-3:True\n",
            "6-4:True\n",
            "6-5:False\n",
            "6-6:True\n",
            "6-7:False\n",
            "6-8:True\n",
            "6-9:True\n",
            "7-2:False\n",
            "7-3:False\n",
            "7-4:False\n",
            "7-5:False\n",
            "7-6:False\n",
            "7-7:True\n",
            "7-8:False\n",
            "7-9:False\n",
            "8-2:True\n",
            "8-3:False\n",
            "8-4:True\n",
            "8-5:False\n",
            "8-6:True\n",
            "8-7:False\n",
            "8-8:True\n",
            "8-9:False\n",
            "9-2:False\n",
            "9-3:True\n",
            "9-4:False\n",
            "9-5:False\n",
            "9-6:True\n",
            "9-7:False\n",
            "9-8:False\n",
            "9-9:True\n"
          ]
        }
      ]
    },
    {
      "cell_type": "code",
      "source": [
        "50%7"
      ],
      "metadata": {
        "colab": {
          "base_uri": "https://localhost:8080/"
        },
        "id": "k6moovXa3LXZ",
        "outputId": "76f2582b-3e2d-48b9-a0ae-7afc88254d8d"
      },
      "execution_count": null,
      "outputs": [
        {
          "output_type": "execute_result",
          "data": {
            "text/plain": [
              "1"
            ]
          },
          "metadata": {},
          "execution_count": 81
        }
      ]
    },
    {
      "cell_type": "code",
      "source": [
        "17%7"
      ],
      "metadata": {
        "colab": {
          "base_uri": "https://localhost:8080/"
        },
        "id": "okt0d6kR2yVZ",
        "outputId": "82eae50a-5af8-4d44-c061-1d31b6e50fa9"
      },
      "execution_count": null,
      "outputs": [
        {
          "output_type": "execute_result",
          "data": {
            "text/plain": [
              "3"
            ]
          },
          "metadata": {},
          "execution_count": 77
        }
      ]
    },
    {
      "cell_type": "code",
      "source": [
        "hcf"
      ],
      "metadata": {
        "colab": {
          "base_uri": "https://localhost:8080/"
        },
        "id": "_smaxH8HaOV3",
        "outputId": "4b93e73d-7bf3-4911-84c6-78bb1ead2a8b"
      },
      "execution_count": null,
      "outputs": [
        {
          "output_type": "execute_result",
          "data": {
            "text/plain": [
              "[Fraction(1, 8),\n",
              " Fraction(1, 7),\n",
              " Fraction(1, 6),\n",
              " Fraction(1, 5),\n",
              " Fraction(1, 4),\n",
              " Fraction(2, 7),\n",
              " Fraction(1, 3),\n",
              " Fraction(3, 8),\n",
              " Fraction(2, 5),\n",
              " Fraction(3, 7),\n",
              " Fraction(1, 2),\n",
              " Fraction(4, 7),\n",
              " Fraction(3, 5),\n",
              " Fraction(5, 8),\n",
              " Fraction(2, 3),\n",
              " Fraction(5, 7),\n",
              " Fraction(3, 4),\n",
              " Fraction(4, 5),\n",
              " Fraction(5, 6),\n",
              " Fraction(6, 7),\n",
              " Fraction(7, 8)]"
            ]
          },
          "metadata": {},
          "execution_count": 10
        }
      ]
    },
    {
      "cell_type": "code",
      "source": [
        "Fraction(10, 18).numerator"
      ],
      "metadata": {
        "colab": {
          "base_uri": "https://localhost:8080/"
        },
        "id": "nkZpm7cdZTLS",
        "outputId": "dcfa9f6b-09ab-4a91-c5a1-7c5c86c68058"
      },
      "execution_count": null,
      "outputs": [
        {
          "output_type": "execute_result",
          "data": {
            "text/plain": [
              "5"
            ]
          },
          "metadata": {},
          "execution_count": 4
        }
      ]
    },
    {
      "cell_type": "markdown",
      "source": [
        "## 79.Passcode derivation\n"
      ],
      "metadata": {
        "id": "PVQO9c6U60wh"
      }
    },
    {
      "cell_type": "markdown",
      "source": [
        "### Problem 79\n",
        "A common security method used for online banking is to ask the user for three random characters from a passcode. For example, if the passcode was 531278, they may ask for the 2nd, 3rd, and 5th characters; the expected reply would be: 317.\n",
        "\n",
        "The text file, keylog.txt, contains fifty successful login attempts.\n",
        "\n",
        "Given that the three characters are always asked for in order, analyse the file so as to determine the shortest possible secret passcode of unknown length."
      ],
      "metadata": {
        "id": "BX_4GYWo60wh"
      }
    },
    {
      "cell_type": "code",
      "source": [
        "import time\n",
        "start = time.time()\n",
        "\n",
        "import numpy as np\n",
        "\n",
        "shortCodes = [319,680,180,690,129,620,762,689,762,318,368,710,720,710,629,168,160,689,716,731,736,729,316,729,729,710,769,290,719,680,318,389,162,289,162,718,729,319,790,680,890,362,319,760,316,729,380,319,728,716]\n",
        "n = np.unique(shortCodes)\n",
        "order = ['0','1','2', '3', '6', '7', '8', '9']\n",
        "\n",
        "done = False\n",
        "while not done:\n",
        "  done = True\n",
        "  for sc  in n:\n",
        "    s = str(sc)\n",
        "    i1 = order.index(s[0])\n",
        "    i2 = order.index(s[1])\n",
        "    i3 = order.index(s[2])\n",
        "    if i1>i2:\n",
        "      t1 = order[i1]\n",
        "      t2 = order[i2]\n",
        "      order[i1] = t2\n",
        "      order[i2] = t1\n",
        "      done = False\n",
        "    i1 = order.index(s[0])\n",
        "    i2 = order.index(s[1])\n",
        "    i3 = order.index(s[2])\n",
        "    if i2>i3:\n",
        "      t2 = order[i2]\n",
        "      t3 = order[i3]\n",
        "      order[i2] = t3\n",
        "      order[i3] = t2\n",
        "      done = False\n",
        "    i1 = order.index(s[0])\n",
        "    i2 = order.index(s[1])\n",
        "    i3 = order.index(s[2])\n",
        "    if i1>i3:\n",
        "      t1 = order[i1]\n",
        "      t3 = order[i3]\n",
        "      order[i1] = t3\n",
        "      order[i3] = t1\n",
        "      done = False\n",
        "\n",
        "ans = ''.join(order)\n",
        "end = time.time()\n",
        "print (\"The Answer is {} found in time {}\".format(ans, end - start))\n"
      ],
      "metadata": {
        "id": "85iihU9t60wh"
      },
      "execution_count": null,
      "outputs": []
    },
    {
      "cell_type": "code",
      "source": [
        ""
      ],
      "metadata": {
        "id": "QLRJxHWhLZWv"
      },
      "execution_count": null,
      "outputs": []
    },
    {
      "cell_type": "code",
      "source": [
        ""
      ],
      "metadata": {
        "id": "698l76l0MDYF"
      },
      "execution_count": null,
      "outputs": []
    },
    {
      "cell_type": "code",
      "source": [
        "order.index('6')"
      ],
      "metadata": {
        "id": "Oz8EZSs8PwVF"
      },
      "execution_count": null,
      "outputs": []
    },
    {
      "cell_type": "code",
      "source": [
        "n"
      ],
      "metadata": {
        "id": "w1Y9iBlQRCc3"
      },
      "execution_count": null,
      "outputs": []
    },
    {
      "cell_type": "code",
      "source": [
        ""
      ],
      "metadata": {
        "id": "JYw4DYhbMGhB"
      },
      "execution_count": null,
      "outputs": []
    },
    {
      "cell_type": "code",
      "source": [
        "''.join(order)"
      ],
      "metadata": {
        "id": "3V_qJnRqNBn6"
      },
      "execution_count": null,
      "outputs": []
    },
    {
      "cell_type": "code",
      "source": [
        ""
      ],
      "metadata": {
        "id": "ckbhoWDSOL06"
      },
      "execution_count": null,
      "outputs": []
    },
    {
      "cell_type": "code",
      "source": [
        "for i in range(10):\n",
        "  print(i ,' : ',sum(d[i]))"
      ],
      "metadata": {
        "id": "6JZLU-e1OR2v"
      },
      "execution_count": null,
      "outputs": []
    },
    {
      "cell_type": "code",
      "source": [
        ""
      ],
      "metadata": {
        "id": "pU1i6vp2PGZk"
      },
      "execution_count": null,
      "outputs": []
    },
    {
      "cell_type": "markdown",
      "source": [
        "## 97.Large non-Mersenne prime"
      ],
      "metadata": {
        "id": "LVjH9uc5zE0n"
      }
    },
    {
      "cell_type": "markdown",
      "source": [
        "### Problem 97\n",
        "The first known prime found to exceed one million digits was discovered in 1999, and is a Mersenne prime of the form 26972593−1; it contains exactly 2,098,960 digits. Subsequently other Mersenne primes, of the form 2p−1, have been found which contain more digits.\n",
        "\n",
        "However, in 2004 there was found a massive non-Mersenne prime which contains 2,357,207 digits: 28433×27830457+1.\n",
        "\n",
        "Find the last ten digits of this prime number."
      ],
      "metadata": {
        "id": "UWe2s9LmzJ24"
      }
    },
    {
      "cell_type": "code",
      "source": [
        " 28433*2**(7830457)"
      ],
      "metadata": {
        "id": "9nsRQiV2zDOv"
      },
      "execution_count": null,
      "outputs": []
    },
    {
      "cell_type": "code",
      "source": [
        "s =''\n",
        "for i in range(1,31):\n",
        "  s +=  str(2**i)[0]\n",
        "  if i%10 == 0 :\n",
        "    print(i,s)\n",
        "    s=''"
      ],
      "metadata": {
        "id": "QGxcJHHVzpCE"
      },
      "execution_count": null,
      "outputs": []
    },
    {
      "cell_type": "code",
      "source": [
        "for i in range(4, 701):\n",
        "  c = str(2**i)[0:2]\n",
        "  if c == '16':\n",
        "    print(i, c , '----------------')\n",
        "    continue\n",
        "  print(i, c)"
      ],
      "metadata": {
        "id": "kd2rvQNE1oc3"
      },
      "execution_count": null,
      "outputs": []
    },
    {
      "cell_type": "code",
      "source": [
        "1000000000/28433"
      ],
      "metadata": {
        "id": "b2MUcWDy0OSs"
      },
      "execution_count": null,
      "outputs": []
    },
    {
      "cell_type": "code",
      "source": [
        ""
      ],
      "metadata": {
        "id": "Rz6EcXLg1nRs"
      },
      "execution_count": null,
      "outputs": []
    }
  ]
}