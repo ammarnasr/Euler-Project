{
  "nbformat": 4,
  "nbformat_minor": 0,
  "metadata": {
    "colab": {
      "name": "Project-Euler.ipynb",
      "provenance": [],
      "collapsed_sections": [
        "9-s5noUBf4mG",
        "Fz8_IAG77AFB",
        "6Zc_z78ckKBy",
        "ddK3clJE7CjH",
        "-H9L3qUqlYhi",
        "xC7dQrG-ni6x",
        "_sAzlgbL7F3o",
        "q-8VZSmUt_qn",
        "L6pE7rGK7Kwa",
        "DCDkzSc47js_",
        "pqN3MttK7p_G",
        "xw-lm6vT3v6O",
        "zfaw4r_U7L9m",
        "7mC5LYvS8DGM",
        "76Pc51Jc_ysh",
        "reXRK5u18LKk",
        "IeLVxkWP9Ebt",
        "CzfRrPck9I9g",
        "ulYAq6do9alS",
        "dOlLQ8839hfB",
        "OV-ojn3a9s9A",
        "pqWqLLG1-I5z",
        "GUvdAG2a-OJc",
        "uHxOKxnN-Uqn",
        "ZXb-ZGeZCTbA",
        "NzSA8vMXCaFo",
        "wOvEOteTDnC5",
        "M0WIKJPhD9pz",
        "W6THG7qd1IRF",
        "LFuxvhFA1axm",
        "fWtMJHxKD0i8",
        "sUaP4nPID7hz",
        "LxW8aHwzI_gU",
        "9tmRMfGuQrgK",
        "Tlb01eFXJpdR",
        "DsRARdvUOZET",
        "oLpMM5GoVTvp",
        "pLv5BCRkU-mR",
        "mY0HSyjIpwVv",
        "HKRaT08j73bT",
        "Fsk2OI1cfXja",
        "682cecwp8RDQ",
        "bTNviucL-dW-",
        "Em51glvFCZlu",
        "wBU9TTWcqnmZ",
        "pZm1Quidjg2V",
        "8Cf18BS5zkcn",
        "CPple5afz46v",
        "ORviDCdj0bQV",
        "FIGMSF510bS2",
        "spElzb6V0bVy",
        "dGh4Yb_v0bYA",
        "Y2f9_Jql0bad",
        "Xdnh2goF0bdB",
        "TiP0Sn__0bfm",
        "gHe3W1jg0bh_",
        "RwneJtLf0bkW",
        "-ukTexDC0bm1",
        "uHqjwJjU0bpF",
        "695UQb3f0brX",
        "Gd99CD0B0btg",
        "dd3qOQTk0b5t",
        "ADp_yo0y0b70",
        "Xn-3Szfx0b-X",
        "qAewMR-_0cAm"
      ],
      "authorship_tag": "ABX9TyOu5fdmHafy3D+gWLcFkf6X",
      "include_colab_link": true
    },
    "kernelspec": {
      "name": "python3",
      "display_name": "Python 3"
    },
    "language_info": {
      "name": "python"
    }
  },
  "cells": [
    {
      "cell_type": "markdown",
      "metadata": {
        "id": "view-in-github",
        "colab_type": "text"
      },
      "source": [
        "<a href=\"https://colab.research.google.com/github/ammarnasr/Euler-Project/blob/main/Project_Euler.ipynb\" target=\"_parent\"><img src=\"https://colab.research.google.com/assets/colab-badge.svg\" alt=\"Open In Colab\"/></a>"
      ]
    },
    {
      "cell_type": "markdown",
      "source": [
        "## 5.Smallest multiple\n"
      ],
      "metadata": {
        "id": "9-s5noUBf4mG"
      }
    },
    {
      "cell_type": "markdown",
      "source": [
        "\n",
        "### Problem 5\n",
        "2520 is the smallest number that can be divided by each of the numbers from 1 to 10 without any remainder.\n",
        "\n",
        "What is the smallest positive number that is evenly divisible by all of the numbers from 1 to 20?"
      ],
      "metadata": {
        "id": "Fz8_IAG77AFB"
      }
    },
    {
      "cell_type": "code",
      "execution_count": null,
      "metadata": {
        "id": "GOT4UJ-Zfyae"
      },
      "outputs": [],
      "source": [
        "i= 0\n",
        "done = False\n",
        "while not done:\n",
        "  for j in range(19,0,-1):\n",
        "    if i%j != 0:\n",
        "      break\n",
        "    if j == 1 and i !=0 :\n",
        "      done = True\n",
        "  i += 20\n",
        "  \n",
        "print('The Answer is: ', i)"
      ]
    },
    {
      "cell_type": "markdown",
      "source": [
        "## 6.Sum square difference\n"
      ],
      "metadata": {
        "id": "6Zc_z78ckKBy"
      }
    },
    {
      "cell_type": "markdown",
      "source": [
        "\n",
        "### Problem 6\n",
        "The sum of the squares of the first ten natural numbers is,\n",
        "\n",
        "The square of the sum of the first ten natural numbers is,\n",
        "\n",
        "Hence the difference between the sum of the squares of the first ten natural numbers and the square of the sum is .\n",
        "\n",
        "Find the difference between the sum of the squares of the first one hundred natural numbers and the square of the sum."
      ],
      "metadata": {
        "id": "ddK3clJE7CjH"
      }
    },
    {
      "cell_type": "code",
      "source": [
        "sumOfSquares = 0\n",
        "sum = 0\n",
        "for i in range(101):\n",
        "  sum +=i\n",
        "  sumOfSquares += i*i\n",
        "print((sum*sum) - sumOfSquares)"
      ],
      "metadata": {
        "colab": {
          "base_uri": "https://localhost:8080/"
        },
        "id": "5p9fRchEgkoF",
        "outputId": "1f5a9543-9bde-479a-eddc-9586c21d3cbb"
      },
      "execution_count": null,
      "outputs": [
        {
          "output_type": "stream",
          "name": "stdout",
          "text": [
            "25164150\n"
          ]
        }
      ]
    },
    {
      "cell_type": "markdown",
      "source": [
        "## 7.10001st prime\n",
        " "
      ],
      "metadata": {
        "id": "-H9L3qUqlYhi"
      }
    },
    {
      "cell_type": "markdown",
      "source": [
        "\n",
        "### Problem 7\n",
        "\n",
        "By listing the first six prime numbers: 2, 3, 5, 7, 11, and 13, we can see that the 6th prime is 13.\n",
        "\n",
        "What is the 10001st prime number?"
      ],
      "metadata": {
        "id": "I-Zg5Ni-7EF0"
      }
    },
    {
      "cell_type": "code",
      "source": [
        "def checkPrime(n):\n",
        "  for i in range(2, n):\n",
        "    if n%i == 0:\n",
        "      return False\n",
        "  return True\n",
        "\n",
        "sum = 1\n",
        "i = 3\n",
        "while sum < 10001 :\n",
        "  if checkPrime(i):\n",
        "    sum += 1\n",
        "    print('Found Prime: ', i, \"Sum is Now :\", sum)\n",
        "  i += 2\n"
      ],
      "metadata": {
        "id": "hNySdd5skT1q"
      },
      "execution_count": null,
      "outputs": []
    },
    {
      "cell_type": "markdown",
      "source": [
        "## 8.Largest product in a series\n",
        " "
      ],
      "metadata": {
        "id": "xC7dQrG-ni6x"
      }
    },
    {
      "cell_type": "markdown",
      "source": [
        "\n",
        "### Problem 8\n",
        "\n",
        "The four adjacent digits in the 1000-digit number that have the greatest product are 9 × 9 × 8 × 9 = 5832.\n",
        "\n",
        "73167176531330624919225119674426574742355349194934\n",
        "96983520312774506326239578318016984801869478851843\n",
        "85861560789112949495459501737958331952853208805511\n",
        "12540698747158523863050715693290963295227443043557\n",
        "66896648950445244523161731856403098711121722383113\n",
        "62229893423380308135336276614282806444486645238749\n",
        "30358907296290491560440772390713810515859307960866\n",
        "70172427121883998797908792274921901699720888093776\n",
        "65727333001053367881220235421809751254540594752243\n",
        "52584907711670556013604839586446706324415722155397\n",
        "53697817977846174064955149290862569321978468622482\n",
        "83972241375657056057490261407972968652414535100474\n",
        "82166370484403199890008895243450658541227588666881\n",
        "16427171479924442928230863465674813919123162824586\n",
        "17866458359124566529476545682848912883142607690042\n",
        "24219022671055626321111109370544217506941658960408\n",
        "07198403850962455444362981230987879927244284909188\n",
        "84580156166097919133875499200524063689912560717606\n",
        "05886116467109405077541002256983155200055935729725\n",
        "71636269561882670428252483600823257530420752963450\n",
        "\n",
        "Find the thirteen adjacent digits in the 1000-digit number that have the greatest product. What is the value of this product?"
      ],
      "metadata": {
        "id": "_sAzlgbL7F3o"
      }
    },
    {
      "cell_type": "code",
      "source": [
        "s = '7316717653133062491922511967442657474235534919493496983520312774506326239578318016984801869478851843858615607891129494954595017379583319528532088055111254069874715852386305071569329096329522744304355766896648950445244523161731856403098711121722383113622298934233803081353362766142828064444866452387493035890729629049156044077239071381051585930796086670172427121883998797908792274921901699720888093776657273330010533678812202354218097512545405947522435258490771167055601360483958644670632441572215539753697817977846174064955149290862569321978468622482839722413756570560574902614079729686524145351004748216637048440319989000889524345065854122758866688116427171479924442928230863465674813919123162824586178664583591245665294765456828489128831426076900422421902267105562632111110937054421750694165896040807198403850962455444362981230987879927244284909188845801561660979191338754992005240636899125607176060588611646710940507754100225698315520005593572972571636269561882670428252483600823257530420752963450'\n",
        "digits = []\n",
        "for c in s :\n",
        "  digits.append(int(c))\n",
        "\n",
        "startPoint = 0\n",
        "endPoint = 12\n",
        "shift = 0\n",
        "maxProduct = 0\n",
        "while shift < 1000-12:\n",
        "\n",
        "  if digits[endPoint+shift] == 0:\n",
        "    shift +=13\n",
        "    if  shift >= 1000-12:\n",
        "      break\n",
        "  \n",
        "  localProduct = 1\n",
        "  for i in range (startPoint+shift, endPoint+shift+1):\n",
        "    localProduct = localProduct * digits[i]\n",
        "\n",
        "  if localProduct > maxProduct:\n",
        "    maxProduct = localProduct\n",
        "    print(\"New Max Product of:\", maxProduct, \"At shift: \", shift)\n",
        "  \n",
        "  shift +=1\n",
        "\n",
        "\n",
        "print(\"Max Product is:\", maxProduct)"
      ],
      "metadata": {
        "id": "AtoeHjn2l_Le"
      },
      "execution_count": null,
      "outputs": []
    },
    {
      "cell_type": "markdown",
      "source": [
        "## 9.Special Pythagorean triplet\n",
        " "
      ],
      "metadata": {
        "id": "q-8VZSmUt_qn"
      }
    },
    {
      "cell_type": "markdown",
      "source": [
        "\n",
        "### Problem 9\n",
        "A Pythagorean triplet is a set of three natural numbers, a < b < c, for which,\n",
        "\n",
        "a2 + b2 = c2\n",
        "\n",
        "For example,\n",
        "\n",
        "   32 + 42 = 9 + 16 = 25 = 52.\n",
        "\n",
        "There exists exactly one Pythagorean triplet for which a + b + c = 1000.\n",
        "Find the product abc."
      ],
      "metadata": {
        "id": "L6pE7rGK7Kwa"
      }
    },
    {
      "cell_type": "code",
      "source": [
        "import math\n",
        "\n",
        "def checkSqure(a,b):\n",
        "  c_sqaured= (a*a)+(b*b)\n",
        "  if math.sqrt(c_sqaured)%1 ==0 :\n",
        "    return math.sqrt(c_sqaured)\n",
        "  return -1\n",
        "\n",
        "a = 1\n",
        "b = 1\n",
        "c = 2\n",
        "\n",
        "for b in range(2, 1000):\n",
        "  for a in range(1, 1000):\n",
        "    c = checkSqure(a,b)\n",
        "    sum = a+b+c\n",
        "    if c != -1 :\n",
        "      if sum == 1000:\n",
        "        print(\"Found: \", a, b, c, \"sum = \", sum, \"abc = \", a*b*c)\n",
        "    if sum > 1000:\n",
        "      break\n",
        "\n"
      ],
      "metadata": {
        "id": "yPPmTSiZoJ0u"
      },
      "execution_count": null,
      "outputs": []
    },
    {
      "cell_type": "markdown",
      "source": [
        "## 10.Summation of primes\n"
      ],
      "metadata": {
        "id": "LGxqFQOZW_2K"
      }
    },
    {
      "cell_type": "markdown",
      "source": [
        "\n",
        "### Problem 10\n",
        "The sum of the primes below 10 is 2 + 3 + 5 + 7 = 17.\n",
        "\n",
        "Find the sum of all the primes below two million."
      ],
      "metadata": {
        "id": "Y10adFdS7N_D"
      }
    },
    {
      "cell_type": "code",
      "source": [
        "import math\n",
        "primes = [2]\n",
        "for i in range (3, 2000000, 2):\n",
        "  for j in primes:\n",
        "    if j > math.sqrt(i):\n",
        "      primes.append(i)\n",
        "      print('Found Prime: ', i, 'Sum: ', sum(primes))\n",
        "      break\n",
        "    if i%j == 0 :\n",
        "      break"
      ],
      "metadata": {
        "id": "OcO8ReIRv-dk"
      },
      "execution_count": null,
      "outputs": []
    },
    {
      "cell_type": "markdown",
      "source": [
        "## 11.Largest product in a grid\n"
      ],
      "metadata": {
        "id": "DCDkzSc47js_"
      }
    },
    {
      "cell_type": "markdown",
      "source": [
        "\n",
        "###Problem 11\n",
        "\n",
        "In the 20×20 grid below, four numbers along a diagonal line have been marked in red.\n",
        "\n",
        "08 02 22 97 38 15 00 40 00 75 04 05 07 78 52 12 50 77 91 08 49 49 99 40 17 81 18 57 60 87 17 40 98 43 69 48 04 56 62 00 81 49 31 73 55 79 14 29 93 71 40 67 53 88 30 03 49 13 36 65 52 70 95 23 04 60 11 42 69 24 68 56 01 32 56 71 37 02 36 91 22 31 16 71 51 67 63 89 41 92 36 54 22 40 40 28 66 33 13 80 24 47 32 60 99 03 45 02 44 75 33 53 78 36 84 20 35 17 12 50 32 98 81 28 64 23 67 10 26 38 40 67 59 54 70 66 18 38 64 70 67 26 20 68 02 62 12 20 95 63 94 39 63 08 40 91 66 49 94 21 24 55 58 05 66 73 99 26 97 17 78 78 96 83 14 88 34 89 63 72 21 36 23 09 75 00 76 44 20 45 35 14 00 61 33 97 34 31 33 95 78 17 53 28 22 75 31 67 15 94 03 80 04 62 16 14 09 53 56 92 16 39 05 42 96 35 31 47 55 58 88 24 00 17 54 24 36 29 85 57 86 56 00 48 35 71 89 07 05 44 44 37 44 60 21 58 51 54 17 58 19 80 81 68 05 94 47 69 28 73 92 13 86 52 17 77 04 89 55 40 04 52 08 83 97 35 99 16 07 97 57 32 16 26 26 79 33 27 98 66 88 36 68 87 57 62 20 72 03 46 33 67 46 55 12 32 63 93 53 69 04 42 16 73 38 25 39 11 24 94 72 18 08 46 29 32 40 62 76 36 20 69 36 41 72 30 23 88 34 62 99 69 82 67 59 85 74 04 36 16 20 73 35 29 78 31 90 01 74 31 49 71 48 86 81 16 23 57 05 54 01 70 54 71 83 51 54 69 16 92 33 48 61 43 52 01 89 19 67 48\n",
        "\n",
        "The product of these numbers is 26 × 63 × 78 × 14 = 1788696.\n",
        "\n",
        "What is the greatest product of four adjacent numbers in the same direction (up, down, left, right, or diagonally) in the 20×20 grid?"
      ],
      "metadata": {
        "id": "pqN3MttK7p_G"
      }
    },
    {
      "cell_type": "code",
      "source": [
        "s = \"08022297381500400075040507785212507791084949994017811857608717409843694804566200814931735579142993714067538830034913366552709523046011426924685601325671370236912231167151676389419236542240402866331380244732609903450244753353783684203517125032988128642367102638406759547066183864706726206802621220956394396308409166499421245558056673992697177878968314883489637221362309750076442045351400613397343133957817532822753167159403800462161409535692163905429635314755588824001754243629855786560048357189070544443744602158515417581980816805944769287392138652177704895540045208839735991607975732162626793327986688366887576220720346336746551232639353690442167338253911249472180846293240627636206936417230238834629969826759857404361620733529783190017431497148868116235705540170547183515469169233486143520189196748\"\n",
        "grid = []\n",
        "row = []\n",
        "for c in range(0, len(s), 2):\n",
        "  row.append(int(s[c]+s[c+1]))\n",
        "  if len(row) == 20:\n",
        "    grid.append(row)\n",
        "    row = []\n",
        "print(grid)\n",
        "\n",
        "prod = 1\n",
        "#left\n",
        "for row in range(len(grid)):\n",
        "  for col in range(20):\n",
        "    localProd = 1\n",
        "    if col > 16 :\n",
        "      break\n",
        "    for j in range(4):\n",
        "      localProd = localProd * grid[row][col+j]\n",
        "    if localProd > prod:\n",
        "      prod = localProd\n",
        "print(prod)\n",
        "\n",
        "prod = 1\n",
        "#right\n",
        "for row in range(len(grid)):\n",
        "  for col in range(19,-1,-1):\n",
        "    localProd = 1\n",
        "    if col <= 3 :\n",
        "      break\n",
        "    for j in range(4):\n",
        "      localProd = localProd * grid[row][col-j]\n",
        "    if localProd > prod:\n",
        "      prod = localProd\n",
        "print(prod)\n",
        "\n",
        "prod = 1\n",
        "#Down\n",
        "for row in range(len(grid)):\n",
        "  for col in range(20):\n",
        "    localProd = 1\n",
        "    if row > 16 :\n",
        "      break\n",
        "    for j in range(4):\n",
        "      localProd = localProd * grid[row+j][col]\n",
        "    if localProd > prod:\n",
        "      prod = localProd\n",
        "print(prod)\n",
        "\n",
        "prod = 1\n",
        "#Up\n",
        "for row in range(19,-1,-1):\n",
        "  for col in range(20):\n",
        "    localProd = 1\n",
        "    if row <= 3 :\n",
        "      break\n",
        "    for j in range(4):\n",
        "      localProd = localProd * grid[row-j][col]\n",
        "    if localProd > prod:\n",
        "      prod = localProd\n",
        "print(prod)\n",
        "\n",
        "prod = 1\n",
        "#RL\n",
        "for row in range(20):\n",
        "  for col in range(20):\n",
        "    localProd = 1\n",
        "    if row >16  :\n",
        "      break\n",
        "    if col >16  :\n",
        "      break\n",
        "    for j in range(4):\n",
        "      localProd = localProd * grid[row+j][col+j]\n",
        "    if localProd > prod:\n",
        "      prod = localProd\n",
        "print(prod)\n",
        "\n",
        "prod = 1\n",
        "#-R-L\n",
        "for row in range(19,-1,-1):\n",
        "  for col in range(19,-1,-1):\n",
        "    localProd = 1\n",
        "    if row <= 3  :\n",
        "      break\n",
        "    if col <= 3  :\n",
        "      break\n",
        "    for j in range(4):\n",
        "      localProd = localProd * grid[row-j][col-j]\n",
        "    if localProd > prod:\n",
        "      prod = localProd\n",
        "print(prod)\n",
        "\n",
        "\n",
        "prod = 1\n",
        "#R-L\n",
        "for row in range(20):\n",
        "  for col in range(19,-1,-1):\n",
        "    localProd = 1\n",
        "    if row >16  :\n",
        "      break\n",
        "    if col <=3  :\n",
        "      break\n",
        "    for j in range(4):\n",
        "      localProd = localProd * grid[row+j][col-j]\n",
        "    if localProd > prod:\n",
        "      prod = localProd\n",
        "print(prod)"
      ],
      "metadata": {
        "id": "FjAWJZk47rlw"
      },
      "execution_count": null,
      "outputs": []
    },
    {
      "cell_type": "markdown",
      "source": [
        "## 12.Highly divisible triangular number\n"
      ],
      "metadata": {
        "id": "xw-lm6vT3v6O"
      }
    },
    {
      "cell_type": "markdown",
      "source": [
        "\n",
        "### Problem 12\n",
        "The sequence of triangle numbers is generated by adding the natural numbers. So the 7th triangle number would be 1 + 2 + 3 + 4 + 5 + 6 + 7 = 28. The first ten terms would be:\n",
        "\n",
        "1, 3, 6, 10, 15, 21, 28, 36, 45, 55, ...\n",
        "\n",
        "Let us list the factors of the first seven triangle numbers:\n",
        "\n",
        " 1: 1\n",
        "\n",
        " 3: 1,3\n",
        " \n",
        " 6: 1,2,3,6\n",
        "\n",
        "10: 1,2,5,10\n",
        "\n",
        "15: 1,3,5,15\n",
        "\n",
        "21: 1,3,7,21\n",
        "\n",
        "28: 1,2,4,7,14,28\n",
        "\n",
        "We can see that 28 is the first triangle number to have over five divisors.\n",
        "\n",
        "What is the value of the first triangle number to have over five hundred divisors?"
      ],
      "metadata": {
        "id": "G7eTZG2c7RX3"
      }
    },
    {
      "cell_type": "code",
      "source": [
        "def numberOfDivisors(n):\n",
        "  divs = []\n",
        "  for i in range(1, n+1):\n",
        "    if n%i == 0:\n",
        "      if i in divs:\n",
        "        return divs\n",
        "      divs.append(i)\n",
        "      divs.append(n//i)\n",
        "  return divs\n",
        "\n",
        "numberOfDivisors(28)\n",
        "\n",
        "n = 1\n",
        "k= 1\n",
        "\n",
        "while len(numberOfDivisors(k)) < 500:\n",
        "  n = n+1\n",
        "  k = k+n\n",
        "\n",
        "print('The answer is: ', k)"
      ],
      "metadata": {
        "id": "lcdAHw3a4BQo"
      },
      "execution_count": null,
      "outputs": []
    },
    {
      "cell_type": "markdown",
      "source": [
        "## 13.Large sum\n"
      ],
      "metadata": {
        "id": "zfaw4r_U7L9m"
      }
    },
    {
      "cell_type": "markdown",
      "source": [
        "\n",
        "### Problem 13\n",
        "Work out the first ten digits of the sum of the following one-hundred 50-digit numbers.\n",
        "\n",
        "37107287533902102798797998220837590246510135740250\n",
        "46376937677490009712648124896970078050417018260538\n",
        "74324986199524741059474233309513058123726617309629\n",
        "91942213363574161572522430563301811072406154908250\n",
        "23067588207539346171171980310421047513778063246676\n",
        "89261670696623633820136378418383684178734361726757\n",
        "28112879812849979408065481931592621691275889832738\n",
        "44274228917432520321923589422876796487670272189318\n",
        "47451445736001306439091167216856844588711603153276\n",
        "70386486105843025439939619828917593665686757934951\n",
        "62176457141856560629502157223196586755079324193331\n",
        "64906352462741904929101432445813822663347944758178\n",
        "92575867718337217661963751590579239728245598838407\n",
        "58203565325359399008402633568948830189458628227828\n",
        "80181199384826282014278194139940567587151170094390\n",
        "35398664372827112653829987240784473053190104293586\n",
        "86515506006295864861532075273371959191420517255829\n",
        "71693888707715466499115593487603532921714970056938\n",
        "54370070576826684624621495650076471787294438377604\n",
        "53282654108756828443191190634694037855217779295145\n",
        "36123272525000296071075082563815656710885258350721\n",
        "45876576172410976447339110607218265236877223636045\n",
        "17423706905851860660448207621209813287860733969412\n",
        "81142660418086830619328460811191061556940512689692\n",
        "51934325451728388641918047049293215058642563049483\n",
        "62467221648435076201727918039944693004732956340691\n",
        "15732444386908125794514089057706229429197107928209\n",
        "55037687525678773091862540744969844508330393682126\n",
        "18336384825330154686196124348767681297534375946515\n",
        "80386287592878490201521685554828717201219257766954\n",
        "78182833757993103614740356856449095527097864797581\n",
        "16726320100436897842553539920931837441497806860984\n",
        "48403098129077791799088218795327364475675590848030\n",
        "87086987551392711854517078544161852424320693150332\n",
        "59959406895756536782107074926966537676326235447210\n",
        "69793950679652694742597709739166693763042633987085\n",
        "41052684708299085211399427365734116182760315001271\n",
        "65378607361501080857009149939512557028198746004375\n",
        "35829035317434717326932123578154982629742552737307\n",
        "94953759765105305946966067683156574377167401875275\n",
        "88902802571733229619176668713819931811048770190271\n",
        "25267680276078003013678680992525463401061632866526\n",
        "36270218540497705585629946580636237993140746255962\n",
        "24074486908231174977792365466257246923322810917141\n",
        "91430288197103288597806669760892938638285025333403\n",
        "34413065578016127815921815005561868836468420090470\n",
        "23053081172816430487623791969842487255036638784583\n",
        "11487696932154902810424020138335124462181441773470\n",
        "63783299490636259666498587618221225225512486764533\n",
        "67720186971698544312419572409913959008952310058822\n",
        "95548255300263520781532296796249481641953868218774\n",
        "76085327132285723110424803456124867697064507995236\n",
        "37774242535411291684276865538926205024910326572967\n",
        "23701913275725675285653248258265463092207058596522\n",
        "29798860272258331913126375147341994889534765745501\n",
        "18495701454879288984856827726077713721403798879715\n",
        "38298203783031473527721580348144513491373226651381\n",
        "34829543829199918180278916522431027392251122869539\n",
        "40957953066405232632538044100059654939159879593635\n",
        "29746152185502371307642255121183693803580388584903\n",
        "41698116222072977186158236678424689157993532961922\n",
        "62467957194401269043877107275048102390895523597457\n",
        "23189706772547915061505504953922979530901129967519\n",
        "86188088225875314529584099251203829009407770775672\n",
        "11306739708304724483816533873502340845647058077308\n",
        "82959174767140363198008187129011875491310547126581\n",
        "97623331044818386269515456334926366572897563400500\n",
        "42846280183517070527831839425882145521227251250327\n",
        "55121603546981200581762165212827652751691296897789\n",
        "32238195734329339946437501907836945765883352399886\n",
        "75506164965184775180738168837861091527357929701337\n",
        "62177842752192623401942399639168044983993173312731\n",
        "32924185707147349566916674687634660915035914677504\n",
        "99518671430235219628894890102423325116913619626622\n",
        "73267460800591547471830798392868535206946944540724\n",
        "76841822524674417161514036427982273348055556214818\n",
        "97142617910342598647204516893989422179826088076852\n",
        "87783646182799346313767754307809363333018982642090\n",
        "10848802521674670883215120185883543223812876952786\n",
        "71329612474782464538636993009049310363619763878039\n",
        "62184073572399794223406235393808339651327408011116\n",
        "66627891981488087797941876876144230030984490851411\n",
        "60661826293682836764744779239180335110989069790714\n",
        "85786944089552990653640447425576083659976645795096\n",
        "66024396409905389607120198219976047599490197230297\n",
        "64913982680032973156037120041377903785566085089252\n",
        "16730939319872750275468906903707539413042652315011\n",
        "94809377245048795150954100921645863754710598436791\n",
        "78639167021187492431995700641917969777599028300699\n",
        "15368713711936614952811305876380278410754449733078\n",
        "40789923115535562561142322423255033685442488917353\n",
        "44889911501440648020369068063960672322193204149535\n",
        "41503128880339536053299340368006977710650566631954\n",
        "81234880673210146739058568557934581403627822703280\n",
        "82616570773948327592232845941706525094512325230608\n",
        "22918802058777319719839450180888072429661980811197\n",
        "77158542502016545090413245809786882778948721859617\n",
        "72107838435069186155435662884062257473692284509516\n",
        "20849603980134001723930671666823555245252804609722\n",
        "53503534226472524250874054075591789781264330331690"
      ],
      "metadata": {
        "id": "7mC5LYvS8DGM"
      }
    },
    {
      "cell_type": "code",
      "source": [
        "s = '37107287533902102798797998220837590246510135740250,46376937677490009712648124896970078050417018260538,74324986199524741059474233309513058123726617309629,91942213363574161572522430563301811072406154908250,23067588207539346171171980310421047513778063246676,89261670696623633820136378418383684178734361726757,28112879812849979408065481931592621691275889832738,44274228917432520321923589422876796487670272189318,47451445736001306439091167216856844588711603153276,70386486105843025439939619828917593665686757934951,62176457141856560629502157223196586755079324193331,64906352462741904929101432445813822663347944758178,92575867718337217661963751590579239728245598838407,58203565325359399008402633568948830189458628227828,80181199384826282014278194139940567587151170094390,35398664372827112653829987240784473053190104293586,86515506006295864861532075273371959191420517255829,71693888707715466499115593487603532921714970056938,54370070576826684624621495650076471787294438377604,53282654108756828443191190634694037855217779295145,36123272525000296071075082563815656710885258350721,45876576172410976447339110607218265236877223636045,17423706905851860660448207621209813287860733969412,81142660418086830619328460811191061556940512689692,51934325451728388641918047049293215058642563049483,62467221648435076201727918039944693004732956340691,15732444386908125794514089057706229429197107928209,55037687525678773091862540744969844508330393682126,18336384825330154686196124348767681297534375946515,80386287592878490201521685554828717201219257766954,78182833757993103614740356856449095527097864797581,16726320100436897842553539920931837441497806860984,48403098129077791799088218795327364475675590848030,87086987551392711854517078544161852424320693150332,59959406895756536782107074926966537676326235447210,69793950679652694742597709739166693763042633987085,41052684708299085211399427365734116182760315001271,65378607361501080857009149939512557028198746004375,35829035317434717326932123578154982629742552737307,94953759765105305946966067683156574377167401875275,88902802571733229619176668713819931811048770190271,25267680276078003013678680992525463401061632866526,36270218540497705585629946580636237993140746255962,24074486908231174977792365466257246923322810917141,91430288197103288597806669760892938638285025333403,34413065578016127815921815005561868836468420090470,23053081172816430487623791969842487255036638784583,11487696932154902810424020138335124462181441773470,63783299490636259666498587618221225225512486764533,67720186971698544312419572409913959008952310058822,95548255300263520781532296796249481641953868218774,76085327132285723110424803456124867697064507995236,37774242535411291684276865538926205024910326572967,23701913275725675285653248258265463092207058596522,29798860272258331913126375147341994889534765745501,18495701454879288984856827726077713721403798879715,38298203783031473527721580348144513491373226651381,34829543829199918180278916522431027392251122869539,40957953066405232632538044100059654939159879593635,29746152185502371307642255121183693803580388584903,41698116222072977186158236678424689157993532961922,62467957194401269043877107275048102390895523597457,23189706772547915061505504953922979530901129967519,86188088225875314529584099251203829009407770775672,11306739708304724483816533873502340845647058077308,82959174767140363198008187129011875491310547126581,97623331044818386269515456334926366572897563400500,42846280183517070527831839425882145521227251250327,55121603546981200581762165212827652751691296897789,32238195734329339946437501907836945765883352399886,75506164965184775180738168837861091527357929701337,62177842752192623401942399639168044983993173312731,32924185707147349566916674687634660915035914677504,99518671430235219628894890102423325116913619626622,73267460800591547471830798392868535206946944540724,76841822524674417161514036427982273348055556214818,97142617910342598647204516893989422179826088076852,87783646182799346313767754307809363333018982642090,10848802521674670883215120185883543223812876952786,71329612474782464538636993009049310363619763878039,62184073572399794223406235393808339651327408011116,66627891981488087797941876876144230030984490851411,60661826293682836764744779239180335110989069790714,85786944089552990653640447425576083659976645795096,66024396409905389607120198219976047599490197230297,64913982680032973156037120041377903785566085089252,16730939319872750275468906903707539413042652315011,94809377245048795150954100921645863754710598436791,78639167021187492431995700641917969777599028300699,15368713711936614952811305876380278410754449733078,40789923115535562561142322423255033685442488917353,44889911501440648020369068063960672322193204149535,41503128880339536053299340368006977710650566631954,81234880673210146739058568557934581403627822703280,82616570773948327592232845941706525094512325230608,22918802058777319719839450180888072429661980811197,77158542502016545090413245809786882778948721859617,72107838435069186155435662884062257473692284509516,20849603980134001723930671666823555245252804609722,53503534226472524250874054075591789781264330331690'\n",
        "l = s.split(',')\n",
        "sum = 0\n",
        "\n",
        "for number in l:\n",
        "  sum += int(number)\n",
        "print(\"Sum: \", sum)\n",
        "print(\"FirstDigits: \", str(sum)[0:10])"
      ],
      "metadata": {
        "id": "bBkLBVpX78Ym"
      },
      "execution_count": null,
      "outputs": []
    },
    {
      "cell_type": "markdown",
      "source": [
        "## 14.Longest Collatz sequence\n"
      ],
      "metadata": {
        "id": "76Pc51Jc_ysh"
      }
    },
    {
      "cell_type": "markdown",
      "source": [
        "\n",
        "### Problem 14\n",
        "The following iterative sequence is defined for the set of positive integers:\n",
        "\n",
        "n → n/2 (n is even)\n",
        "\n",
        "n → 3n + 1 (n is odd)\n",
        "\n",
        "Using the rule above and starting with 13, we generate the following sequence:\n",
        "\n",
        "13 → 40 → 20 → 10 → 5 → 16 → 8 → 4 → 2 → 1\n",
        "\n",
        "It can be seen that this sequence (starting at 13 and finishing at 1) contains 10 terms. Although it has not been proved yet (Collatz Problem), it is thought that all starting numbers finish at 1.\n",
        "\n",
        "Which starting number, under one million, produces the longest chain?\n",
        "\n",
        "NOTE: Once the chain starts the terms are allowed to go above one million."
      ],
      "metadata": {
        "id": "reXRK5u18LKk"
      }
    },
    {
      "cell_type": "code",
      "source": [
        "def collatz(n, seq=[]):\n",
        "  seq.append(n)\n",
        "  if n == 1:\n",
        "    return seq\n",
        "  if n%2 == 0:\n",
        "    return collatz(n//2, seq)\n",
        "  return collatz(3*n+1, seq)\n",
        "\n",
        "n=0\n",
        "maxLength = 0\n",
        "while n < 1000000:\n",
        "  n = n+1\n",
        "  l = len(collatz(n,[]))\n",
        "  if l > maxLength:\n",
        "    maxLength = l\n",
        "    print('New Max Length at: ', n , \" of: \", maxLength)\n"
      ],
      "metadata": {
        "id": "MEgNyox6A-QB"
      },
      "execution_count": null,
      "outputs": []
    },
    {
      "cell_type": "markdown",
      "source": [
        "## 15.Lattice paths "
      ],
      "metadata": {
        "id": "IeLVxkWP9Ebt"
      }
    },
    {
      "cell_type": "markdown",
      "source": [
        "\n",
        "###Problem 15\n",
        "Starting in the top left corner of a 2×2 grid, and only being able to move to the right and down, there are exactly 6 routes to the bottom right corner.\n",
        "\n",
        "![p015.png](data:image/png;base64,iVBORw0KGgoAAAANSUhEUgAAANAAAACXAQMAAABeN0fjAAAABlBMVEVsAGUAAADWqXHfAAAAAXRSTlMAQObYZgAAAAlwSFlzAAAuIwAALiMBeKU/dgAAAAd0SU1FB+MDCREdAmoqMqEAAAAkdEVYdENvbW1lbnQAVWxlYWQgR0lGIFNtYXJ0U2F2ZXIgVmVyIDIuMLqaStoAAAGnSURBVEjH7dexboMwEAbgQ45Eh6p0zBT3QSrxWtlg6INZyot4yAN49GDhGuy7BptzKrVqpIpbkvBhMOJs/QHAarz34/JNem/nz97P5SIpJFdQHCjToUgTjRpx1KFGbwCvAKdAACJS+P2+006/QbFFv0GhRU2k28bGFu1i98ZRehnVzxro6faCenUvojC95pHUhdlHmqe4opZoKMkRqTUJor4kSzSuqSGSJRmi/LmIupI00pTTgNSWpJDcXToS9WMiYSOdeJIjkqSXYhJpnizSCxKkVyknnvxHomcihS16LXZs9bVjb1dXJctQuKjmaWRpApYsT5on9lbz+uDqCHv9o4qdHvqnpc18SD0fl1pYLC2uWTgvhw477fR3tGpRdY+GJZ0gTbeNfU479orogk95PBAPphRFtqitkeNI1Mhy1NTIsM9VI83SUCF1jy5EeRQRF4V0Ksgg5VFEXByRzskTZVEkkEKaCjJIWRQJkdjR3nvd+vM4bEWROgGSzckBZpssH4h59WxHEUHnzsEzIzxX5oFIUGyRJieallQ5GTalCMWmFPHzlPIJSygqFqlA3XYAAAAASUVORK5CYII=)\n",
        "\n",
        "How many such routes are there through a 20×20 grid?\n"
      ],
      "metadata": {
        "id": "CzfRrPck9I9g"
      }
    },
    {
      "cell_type": "code",
      "source": [
        "gridSize = 2\n",
        "grid = [[0 for r in range (gridSize+1)]for c in range (gridSize+1)]\n",
        "\n",
        "Queue = [(gridSize, gridSize)]\n",
        "grid[Queue[0][0]][Queue[0][1]] = 1\n",
        "\n",
        "while len(Queue)!= 0 :\n",
        "\n",
        "  element = Queue.pop()\n",
        "  \n",
        "  if element[1]-1 >= 0 :\n",
        "    grid[element[0]][element[1]-1] += grid[element[0]][element[1]]\n",
        "    Queue.append((element[0], element[1]-1))\n",
        "\n",
        "  if element[0]-1 >= 0 :\n",
        "    grid[element[0]-1][element[1]] += grid[element[0]][element[1]]\n",
        "    Queue.append((element[0]-1, element[1]))\n",
        "\n",
        "  if element != (0,0):\n",
        "    grid[element[0]][element[1]] -= grid[element[0]][element[1]]\n",
        "\n",
        "print(grid[element[0]][element[1]])\n",
        "\n",
        "def findLattecPaths(size):\n",
        "  import math\n",
        "\n",
        "  ans = (math.factorial(size*2)) / ( (math.factorial(size)) * (math.factorial(size)))\n",
        "\n",
        "  print('For ', size, 'x', size ,'grid; The answer is: ', ans)\n",
        "\n",
        "\n",
        "findLattecPaths(20)"
      ],
      "metadata": {
        "id": "QNo9_QiG5tjO"
      },
      "execution_count": null,
      "outputs": []
    },
    {
      "cell_type": "markdown",
      "source": [
        "## 16.Power digit sum\n"
      ],
      "metadata": {
        "id": "ulYAq6do9alS"
      }
    },
    {
      "cell_type": "markdown",
      "source": [
        "\n",
        "### Problem 16\n",
        "2^15 = 32768 and the sum of its digits is 3 + 2 + 7 + 6 + 8 = 26.\n",
        "\n",
        "What is the sum of the digits of the number 2^1000?\n",
        "\n"
      ],
      "metadata": {
        "id": "dOlLQ8839hfB"
      }
    },
    {
      "cell_type": "code",
      "source": [
        "x = 2**1000\n",
        "s = str(x)\n",
        "sum = 0 \n",
        "for c in s :\n",
        "  sum += int(c)\n",
        "\n",
        "print('Sum = ', sum)\n"
      ],
      "metadata": {
        "id": "2Rqqz62g9XYb"
      },
      "execution_count": null,
      "outputs": []
    },
    {
      "cell_type": "markdown",
      "source": [
        "## 17.Number letter counts\n"
      ],
      "metadata": {
        "id": "OV-ojn3a9s9A"
      }
    },
    {
      "cell_type": "markdown",
      "source": [
        "\n",
        "### Problem 17\n",
        "If the numbers 1 to 5 are written out in words: one, two, three, four, five, then there are 3 + 3 + 5 + 4 + 4 = 19 letters used in total.\n",
        "\n",
        "If all the numbers from 1 to 1000 (one thousand) inclusive were written out in words, how many letters would be used?\n",
        "\n",
        "NOTE: Do not count spaces or hyphens. For example, 342 (three hundred and forty-two) contains 23 letters and 115 (one hundred and fifteen) contains 20 letters. The use of \"and\" when writing out numbers is in compliance with British usage."
      ],
      "metadata": {
        "id": "pqWqLLG1-I5z"
      }
    },
    {
      "cell_type": "code",
      "source": [
        "num2words = {1: 'One', 2: 'Two', 3: 'Three', 4: 'Four', 5: 'Five', \\\n",
        "             6: 'Six', 7: 'Seven', 8: 'Eight', 9: 'Nine', 10: 'Ten', \\\n",
        "            11: 'Eleven', 12: 'Twelve', 13: 'Thirteen', 14: 'Fourteen', \\\n",
        "            15: 'Fifteen', 16: 'Sixteen', 17: 'Seventeen', 18: 'Eighteen', \\\n",
        "            19: 'Nineteen', 20: 'Twenty', 30: 'Thirty', 40: 'Forty', \\\n",
        "            50: 'Fifty', 60: 'Sixty', 70: 'Seventy', 80: 'Eighty', \\\n",
        "            90: 'Ninety', 0: 'Zero', 100: 'Hundred'}\n",
        "\n",
        "def numberToWord(i):\n",
        "  if i <= 20 :\n",
        "    return (num2words[i])\n",
        "  if i>20 and i <30:\n",
        "    return (num2words[20]+num2words[i%20])\n",
        "  if i == 30 :\n",
        "    return (num2words[i])\n",
        "  if i>30 and i <40:\n",
        "    return (num2words[30]+num2words[i%30])  \n",
        "  if i == 40 :\n",
        "    return (num2words[i])\n",
        "  if i>40 and i <50:\n",
        "    return (num2words[40]+num2words[i%40])\n",
        "  if i == 50 :\n",
        "    return (num2words[i])\n",
        "  if i>50 and i <60:\n",
        "    return (num2words[50]+num2words[i%50])\n",
        "  if i == 60 :\n",
        "    return (num2words[i])\n",
        "  if i>60 and i <70:\n",
        "    return (num2words[60]+num2words[i%60])\n",
        "  if i == 70 :\n",
        "    return (num2words[i])\n",
        "  if i>70 and i <80:\n",
        "    return (num2words[70]+num2words[i%70])  \n",
        "  if i == 80 :\n",
        "    return (num2words[i])\n",
        "  if i>80 and i <90:\n",
        "    return (num2words[80]+num2words[i%80])  \n",
        "  if i == 90 :\n",
        "    return (num2words[i])\n",
        "  if i>90 and i <100:\n",
        "    return (num2words[90]+num2words[i%90])\n",
        "\n",
        "def numberToWordAbove100(i):  \n",
        "  if i % 100 == 0 :\n",
        "    return (num2words[i//100]+num2words[100])\n",
        "  if i%100 != 0:\n",
        "    return (num2words[i//100]+num2words[100]+'And'+numberToWord(i%100))\n",
        "\n",
        "s = ''\n",
        "\n",
        "for i in range(1,1000):\n",
        "  if i  < 100 :\n",
        "    s+=numberToWord(i)\n",
        "  else:\n",
        "    s+=numberToWordAbove100(i)\n",
        "\n",
        "s = s + 'OneThousand'\n",
        " \n",
        "len(s)"
      ],
      "metadata": {
        "id": "1c0M1rw79-V1"
      },
      "execution_count": null,
      "outputs": []
    },
    {
      "cell_type": "markdown",
      "source": [
        "## 18.Maximum path sum I "
      ],
      "metadata": {
        "id": "GUvdAG2a-OJc"
      }
    },
    {
      "cell_type": "markdown",
      "source": [
        "\n",
        "### Problem 18\n",
        "\n",
        "By starting at the top of the triangle below and moving to adjacent numbers on the row below, the maximum total from top to bottom is 23.\n",
        "\n",
        "  3 \n",
        "  \n",
        "   7 4\n",
        "  \n",
        "  2 4 6\n",
        "\n",
        "8 5 9 3\n",
        "\n",
        "That is, 3 + 7 + 4 + 9 = 23.\n",
        "\n",
        "Find the maximum total from top to bottom of the triangle below:\n",
        "\n",
        "75\n",
        "\n",
        "95 64\n",
        "\n",
        "17 47 82\n",
        "\n",
        "18 35 87 10\n",
        "\n",
        "20 04 82 47 65\n",
        "\n",
        "19 01 23 75 03 34\n",
        "\n",
        "88 02 77 73 07 63 67\n",
        "\n",
        "99 65 04 28 06 16 70 92\n",
        "\n",
        "41 41 26 56 83 40 80 70 33\n",
        "\n",
        "41 48 72 33 47 32 37 16 94 29\n",
        "\n",
        "53 71 44 65 25 43 91 52 97 51 14\n",
        "\n",
        "70 11 33 28 77 73 17 78 39 68 17 57\n",
        "\n",
        "91 71 52 38 17 14 91 43 58 50 27 29 48\n",
        "\n",
        "63 66 04 68 89 53 67 30 73 16 69 87 40 31\n",
        "\n",
        "04 62 98 27 23 09 70 98 73 93 38 53 60 04 23\n",
        "\n",
        "NOTE: As there are only 16384 routes, it is possible to solve this problem by trying every route. However, Problem 67, is the same challenge with a triangle containing one-hundred rows; it cannot be solved by brute force, and requires a clever method! ;o)"
      ],
      "metadata": {
        "id": "uHxOKxnN-Uqn"
      }
    },
    {
      "cell_type": "code",
      "source": [
        "s = '75 95 64 17 47 82 18 35 87 10 20 04 82 47 65 19 01 23 75 03 34 88 02 77 73 07 63 67 99 65 04 28 06 16 70 92 41 41 26 56 83 40 80 70 33 41 48 72 33 47 32 37 16 94 29 53 71 44 65 25 43 91 52 97 51 14 70 11 33 28 77 73 17 78 39 68 17 57 91 71 52 38 17 14 91 43 58 50 27 29 48 63 66 04 68 89 53 67 30 73 16 69 87 40 31 04 62 98 27 23 09 70 98 73 93 38 53 60 04 23'\n",
        "s = s.split(' ')\n",
        "pyramid = []\n",
        "row = []\n",
        "rowLen = 1\n",
        "counter = 0\n",
        "for i in range(len(s)):\n",
        "  row.append(int(s[i]))\n",
        "  counter += 1\n",
        "  if counter == rowLen :\n",
        "    rowLen = rowLen + 1\n",
        "    counter = 0\n",
        "    pyramid.append(row)\n",
        "    print((21-rowLen)*' ', row)\n",
        "    row = []\n",
        "\n",
        "maxSum = 0\n",
        "Queue = [(0,0)]\n",
        "path = []\n",
        "doPop = False\n",
        "\n",
        "while Queue:\n",
        "\n",
        "  element = Queue.pop()\n",
        "  \n",
        "  if len(path) >= (len(pyramid)- element[0]) and doPop:\n",
        "    doPop = False\n",
        "    for i in range(len(pyramid)- element[0]):\n",
        "      path.pop()\n",
        "\n",
        "  path.append(pyramid[element[0]][element[1]])\n",
        "\n",
        "  if element[0]+1 < len(pyramid):\n",
        "    Queue.append((element[0]+1, element[1]))\n",
        "    Queue.append((element[0]+1, element[1]+1))\n",
        "    \n",
        "  else:\n",
        "    doPop = True\n",
        "    if len(path) == 15:\n",
        "      sum = 0\n",
        "      for k in path :\n",
        "        sum = sum + k\n",
        "        if sum > maxSum:\n",
        "          maxSum = sum\n",
        "\n",
        "print('The Answer is: ', maxSum)\n"
      ],
      "metadata": {
        "id": "qOi2PPKb-14t"
      },
      "execution_count": null,
      "outputs": []
    },
    {
      "cell_type": "markdown",
      "source": [
        "## 19.Counting Sundays (Not Solved)\n"
      ],
      "metadata": {
        "id": "ZXb-ZGeZCTbA"
      }
    },
    {
      "cell_type": "markdown",
      "source": [
        "\n",
        "###Problem 19\n",
        "You are given the following information, but you may prefer to do some research for yourself.\n",
        "\n",
        "\n",
        "\n",
        "\n",
        "*   1 Jan 1900 was a Monday.\n",
        "*   Thirty days has September, April, June and November. All the rest have thirty-one, Saving February alone, Which has twenty-eight, rain or shine. And on leap years, twenty-nine.\n",
        "*   A leap year occurs on any year evenly divisible by 4, but not on a century unless it is divisible by 400.\n",
        "\n",
        "How many Sundays fell on the first of the month during the twentieth century (1 Jan 1901 to 31 Dec 2000)?"
      ],
      "metadata": {
        "id": "NzSA8vMXCaFo"
      }
    },
    {
      "cell_type": "code",
      "source": [
        "MonthsDic = {'Jan': 31, 'Mar':31,  'Apr':30,  'May':31,  'Jun':30,  'Jul':31,  'Aug':31,  'Sep':30,  'Oct':31,  'Nov':30,  'Dec':31, }"
      ],
      "metadata": {
        "id": "8RAKvFCXAT2P"
      },
      "execution_count": null,
      "outputs": []
    },
    {
      "cell_type": "markdown",
      "source": [
        "## 20.Factorial digit sum\n"
      ],
      "metadata": {
        "id": "wOvEOteTDnC5"
      }
    },
    {
      "cell_type": "markdown",
      "source": [
        "\n",
        "### Problem 20\n",
        "n! means n × (n − 1) × ... × 3 × 2 × 1\n",
        "\n",
        "For example, 10! = 10 × 9 × ... × 3 × 2 × 1 = 3628800,\n",
        "\n",
        "and the sum of the digits in the number 10!  is  3 + 6 + 2 + 8 + 8 + 0 + 0 = 27.\n",
        "\n",
        "Find the sum of the digits in the number 100!"
      ],
      "metadata": {
        "id": "M0WIKJPhD9pz"
      }
    },
    {
      "cell_type": "code",
      "source": [
        "import math\n",
        "sum=0\n",
        "for i in str(math.factorial(100)):\n",
        "  sum+=int(i)\n",
        "sum"
      ],
      "metadata": {
        "id": "46r4X0LsD8Ph"
      },
      "execution_count": null,
      "outputs": []
    },
    {
      "cell_type": "markdown",
      "source": [
        "## 21.Amicable numbers\n"
      ],
      "metadata": {
        "id": "W6THG7qd1IRF"
      }
    },
    {
      "cell_type": "markdown",
      "source": [
        "\n",
        "###Problem 21\n",
        "\n",
        "Let d(n) be defined as the sum of proper divisors of n (numbers less than n which divide evenly into n).\n",
        "\n",
        "If d(a) = b and d(b) = a, where a ≠ b, then a and b are an amicable pair and each of a and b are called amicable numbers.\n",
        "\n",
        "For example, the proper divisors of 220 are 1, 2, 4, 5, 10, 11, 20, 22, 44, 55 and 110; therefore d(220) = 284. The proper divisors of 284 are 1, 2, 4, 71 and 142; so d(284) = 220.\n",
        "\n",
        "Evaluate the sum of all the amicable numbers under 10000."
      ],
      "metadata": {
        "id": "LFuxvhFA1axm"
      }
    },
    {
      "cell_type": "code",
      "source": [
        "def properDevisors(n):\n",
        "  devs = [1]\n",
        "  for i in range(2,n):\n",
        "    if i in devs:\n",
        "      return devs\n",
        "    if n%i == 0 :\n",
        "      devs.append(i)\n",
        "      devs.append(n//i)\n",
        "  return devs\n",
        "\n",
        "def d(a):\n",
        "  return sum(properDevisors(a))\n",
        "\n",
        "pairs = []\n",
        "total = 0\n",
        "for a in range (10000) :\n",
        "  b = d(a)\n",
        "  if d(b) == a :\n",
        "    if a != b :\n",
        "      if not (((a,b) in pairs) or ((b,a) in pairs)):\n",
        "        pairs.append((a,b))\n",
        "        total = total + a + b\n",
        "        \n",
        "print('The Sum is: ', total)"
      ],
      "metadata": {
        "id": "5CEUDdf-1cI2"
      },
      "execution_count": null,
      "outputs": []
    },
    {
      "cell_type": "markdown",
      "source": [
        "## 22.Names scores\n"
      ],
      "metadata": {
        "id": "fWtMJHxKD0i8"
      }
    },
    {
      "cell_type": "markdown",
      "source": [
        "\n",
        "### Problem 22\n",
        "Using names.txt (right click and 'Save Link/Target As...'), a 46K text file containing over five-thousand first names, begin by sorting it into alphabetical order. Then working out the alphabetical value for each name, multiply this value by its alphabetical position in the list to obtain a name score.\n",
        "\n",
        "For example, when the list is sorted into alphabetical order, COLIN, which is worth 3 + 15 + 12 + 9 + 14 = 53, is the 938th name in the list. So, COLIN would obtain a score of 938 × 53 = 49714.\n",
        "\n",
        "What is the total of all the name scores in the file?"
      ],
      "metadata": {
        "id": "sUaP4nPID7hz"
      }
    },
    {
      "cell_type": "code",
      "source": [
        "with open('p022_names.txt') as f:\n",
        "    names = sorted(f.readlines()[0].replace('\"',\"\").split(','))\n",
        "alphabet = ['', 'A', 'B', 'C', 'D', 'E', 'F', 'G', 'H', 'I', 'J', 'K', 'L', 'M', 'N', 'O', 'P', 'Q', 'R', 'S', 'T', 'U', 'V', 'W', 'X', 'Y', 'Z']\n",
        "\n",
        "total = 0\n",
        "for i in range(len(names)):\n",
        "  name = names[i]\n",
        "  value = 0\n",
        "  for c  in name:\n",
        "    value += alphabet.index(c)\n",
        "  if i == 937 :\n",
        "    print('937. ', name, ' : ',  value * (i+1) )\n",
        "  total += value * (i+1)\n",
        "print('The Answer is ', total)"
      ],
      "metadata": {
        "id": "XIEciF7mEBim"
      },
      "execution_count": null,
      "outputs": []
    },
    {
      "cell_type": "markdown",
      "source": [
        "## 23.Non-abundant sums\n"
      ],
      "metadata": {
        "id": "LxW8aHwzI_gU"
      }
    },
    {
      "cell_type": "markdown",
      "source": [
        "\n",
        "### Problem 23\n",
        "\n",
        "A perfect number is a number for which the sum of its proper divisors is exactly equal to the number. For example, the sum of the proper divisors of 28 would be 1 + 2 + 4 + 7 + 14 = 28, which means that 28 is a perfect number.\n",
        "\n",
        "A number n is called deficient if the sum of its proper divisors is less than n and it is called abundant if this sum exceeds n.\n",
        "\n",
        "As 12 is the smallest abundant number, 1 + 2 + 3 + 4 + 6 = 16, the smallest number that can be written as the sum of two abundant numbers is 24. By mathematical analysis, it can be shown that all integers greater than 28123 can be written as the sum of two abundant numbers. However, this upper limit cannot be reduced any further by analysis even though it is known that the greatest number that cannot be expressed as the sum of two abundant numbers is less than this limit.\n",
        "\n",
        "Find the sum of all the positive integers which cannot be written as the sum of two abundant numbers."
      ],
      "metadata": {
        "id": "9tmRMfGuQrgK"
      }
    },
    {
      "cell_type": "code",
      "source": [
        "def properDevisors(n):\n",
        "  if n == 0:\n",
        "    return []\n",
        "  devs = [1]\n",
        "  for i in range(2,n):\n",
        "    if i in devs:\n",
        "      return devs\n",
        "    if n%i == 0 :\n",
        "      devs.append(i)\n",
        "      if n//i not in devs:\n",
        "        devs.append(n//i)\n",
        "  return devs\n",
        "\n",
        "def isNumberAbundent(n):\n",
        "  devs = properDevisors(n)\n",
        "  if sum(devs) > n :\n",
        "    return True\n",
        "  return False\n",
        "\n",
        "\n",
        "abuns= []\n",
        "for n in range(28123):\n",
        "  if isNumberAbundent(n):\n",
        "    abuns.append(n)\n",
        "\n",
        "non_abuns = []\n",
        "for num in range(28123):\n",
        "  for a1 in abuns:\n",
        "    if (num - a1) < a1:\n",
        "      non_abuns.append(num)\n",
        "      print(num)\n",
        "      break\n",
        "    if (num - a1) in abuns:\n",
        "      break\n",
        "\n",
        "print('The Answer is: ',sum(non_abuns))"
      ],
      "metadata": {
        "id": "e-OzSXWgEve_"
      },
      "execution_count": null,
      "outputs": []
    },
    {
      "cell_type": "markdown",
      "source": [
        "## 24.Lexicographic permutations\n"
      ],
      "metadata": {
        "id": "Tlb01eFXJpdR"
      }
    },
    {
      "cell_type": "markdown",
      "source": [
        "\n",
        "### Problem 24\n",
        "A permutation is an ordered arrangement of objects. For example, 3124 is one possible permutation of the digits 1, 2, 3 and 4. If all of the permutations are listed numerically or alphabetically, we call it lexicographic order. The lexicographic permutations of 0, 1 and 2 are:\n",
        "\n",
        "012   021   102   120   201   210\n",
        "\n",
        "What is the millionth lexicographic permutation of the digits 0, 1, 2, 3, 4, 5, 6, 7, 8 and 9?"
      ],
      "metadata": {
        "id": "czGY_h_GJwu7"
      }
    },
    {
      "cell_type": "code",
      "source": [
        "from itertools import permutations\n",
        "print('The Answer is: ', \"\".join(list(permutations('0123456789'))[999999]))"
      ],
      "metadata": {
        "id": "hLBAM3XYJx7U"
      },
      "execution_count": null,
      "outputs": []
    },
    {
      "cell_type": "markdown",
      "source": [
        "##25.1000-digit Fibonacci number\n"
      ],
      "metadata": {
        "id": "DsRARdvUOZET"
      }
    },
    {
      "cell_type": "markdown",
      "source": [
        "\n",
        "### Problem 25\n",
        "The Fibonacci sequence is defined by the recurrence relation:\n",
        "\n",
        "Fn = Fn−1 + Fn−2, where F1 = 1 and F2 = 1.\n",
        "\n",
        "Hence the first 12 terms will be:\n",
        "\n",
        "F1 = 1\n",
        "\n",
        "F2 = 1\n",
        "\n",
        "F3 = 2\n",
        "\n",
        "F4 = 3\n",
        "\n",
        "F5 = 5\n",
        "\n",
        "F6 = 8\n",
        "\n",
        "F7 = 13\n",
        "\n",
        "F8 = 21\n",
        "\n",
        "F9 = 34\n",
        "\n",
        "F10 = 55\n",
        "\n",
        "F11 = 89\n",
        "\n",
        "F12 = 144\n",
        "\n",
        "The 12th term, F12, is the first term to contain three digits.\n",
        "\n",
        "What is the index of the first term in the Fibonacci sequence to contain 1000 digits?\n",
        "\n"
      ],
      "metadata": {
        "id": "oLpMM5GoVTvp"
      }
    },
    {
      "cell_type": "code",
      "source": [
        "from os import truncate\n",
        "def fib(n, fibDict):\n",
        "  if n in fibDict:\n",
        "    # print(fibDict)\n",
        "    return fibDict[n]\n",
        "  if n == 1 or n == 2 :\n",
        "    return 1\n",
        "  return fib(n-1, fibDict) + fib(n-2, fibDict)\n",
        "\n",
        "fibCache = {}\n",
        "\n",
        "s= ''\n",
        "k = 1\n",
        "while len(s) < 1000 :\n",
        "  f = fib(k, fibCache)\n",
        "  fibCache[k] = f\n",
        "  s = str(f)\n",
        "  k = k+1\n",
        "\n",
        "print('Term: ', k-1, 'is: ', s, 'of Length: ', len(s))"
      ],
      "metadata": {
        "id": "jdP5NhDoOpYQ"
      },
      "execution_count": null,
      "outputs": []
    },
    {
      "cell_type": "markdown",
      "source": [
        "## 26.Reciprocal cycles\n"
      ],
      "metadata": {
        "id": "pLv5BCRkU-mR"
      }
    },
    {
      "cell_type": "markdown",
      "source": [
        "\n",
        "### Problem 26\n",
        "A unit fraction contains 1 in the numerator. The decimal representation of the unit fractions with denominators 2 to 10 are given:\n",
        "\n",
        "1/2\t= \t0.5\n",
        "\n",
        "1/3\t= \t0.(3)\n",
        "\n",
        "1/4\t= \t0.25\n",
        "\n",
        "1/5\t= \t0.2\n",
        "\n",
        "1/6\t= \t0.1(6)\n",
        "\n",
        "1/7\t= \t0.(142857)\n",
        "\n",
        "1/8\t= \t0.125\n",
        "\n",
        "1/9\t= \t0.(1)\n",
        "\n",
        "1/10\t= \t0.1\n",
        "\n",
        "Where 0.1(6) means 0.166666..., and has a 1-digit recurring cycle. It can be seen that 1/7 has a 6-digit recurring cycle.\n",
        "\n",
        "Find the value of d < 1000 for which 1/d contains the longest recurring cycle in its decimal fraction part."
      ],
      "metadata": {
        "id": "vMlisL2rVPuL"
      }
    },
    {
      "cell_type": "code",
      "source": [
        "import decimal\n",
        "decimal.getcontext().prec = 2000\n",
        "def find_seq_len(seq):\n",
        "    guess = 1\n",
        "    max_len = len(seq) // 2\n",
        "    for x in range(2, max_len):\n",
        "        if seq[0:x] == seq[x:2*x] :\n",
        "            return x\n",
        "\n",
        "    return guess\n",
        "\n",
        "\n",
        "maxLen = [0,0]\n",
        "for i in range(2, 1000):\n",
        "  t = find_seq_len(list(\"\".join(\"{}\".format(decimal.Decimal(1)/decimal.Decimal(i)).split('.')[1])))\n",
        "  if t>maxLen[0]:\n",
        "    maxLen[0] = t \n",
        "    maxLen[1] = i \n",
        "print(  \"The answer is {}\".format(maxLen[1]))"
      ],
      "metadata": {
        "id": "Uj102ep9VLq4"
      },
      "execution_count": null,
      "outputs": []
    },
    {
      "cell_type": "markdown",
      "source": [
        "## 27.Quadratic primes\n"
      ],
      "metadata": {
        "id": "mY0HSyjIpwVv"
      }
    },
    {
      "cell_type": "markdown",
      "source": [
        "\n",
        "### Problem 27\n",
        "Euler discovered the remarkable quadratic formula:\n",
        "\n",
        "\n",
        "It turns out that the formula will produce 40 primes for the consecutive integer values . However, when  is divisible by 41, and certainly when  is clearly divisible by 41.\n",
        "\n",
        "The incredible formula  was discovered, which produces 80 primes for the consecutive values . The product of the coefficients, −79 and 1601, is −126479.\n",
        "\n",
        "Considering quadratics of the form:\n",
        "\n",
        ", where  and \n",
        "\n",
        "where  is the modulus/absolute value of \n",
        "e.g.  and \n",
        "Find the product of the coefficients,  and , for the quadratic expression that produces the maximum number of primes for consecutive values of , starting with ."
      ],
      "metadata": {
        "id": "iILNXrUCp_-X"
      }
    },
    {
      "cell_type": "code",
      "source": [
        "from math import *\n",
        "def qf(n,a,b):\n",
        "  return ( (n*n) + (a*n) + (b) )\n",
        "\n",
        "primes = [2]\n",
        "for i in range (3, 2000, 2):\n",
        "  for j in primes:\n",
        "    if j > math.sqrt(i):\n",
        "      primes.append(i)\n",
        "      break\n",
        "    if i%j == 0 :\n",
        "      break\n",
        "\n",
        "n=0\n",
        "maxN = 0\n",
        "maxA = 0\n",
        "maxB = 0\n",
        "for a in range(-999,1000):\n",
        "  for b in range(-1000, 1001):\n",
        "    for n in range(10000000000):\n",
        "      q = qf(n,a,b)\n",
        "      \n",
        "      if q < 0:\n",
        "        break\n",
        "    \n",
        "      if q in primes:\n",
        "        n = n+1\n",
        "        if n > maxN :\n",
        "          maxN = n\n",
        "          maxA = a\n",
        "          maxB = b\n",
        "        continue\n",
        "    \n",
        "      foundPrime = False\n",
        "      for j in primes:\n",
        "        if j > sqrt(q) and q not in primes:\n",
        "          n = n+1\n",
        "          primes.append(q)\n",
        "          if n > maxN :\n",
        "            maxN= n\n",
        "            maxA = a\n",
        "            maxB = b\n",
        "          foundPrime = True\n",
        "          break\n",
        "        if q%j == 0 :\n",
        "          break\n",
        "      if foundPrime:\n",
        "        continue\n",
        "      break\n",
        "print('The Answer is {}'.format(maxA*maxB))"
      ],
      "metadata": {
        "id": "pDpn03TfYS0Y"
      },
      "execution_count": null,
      "outputs": []
    },
    {
      "cell_type": "markdown",
      "source": [
        "## 28.Number spiral diagonals\n",
        " "
      ],
      "metadata": {
        "id": "HKRaT08j73bT"
      }
    },
    {
      "cell_type": "markdown",
      "source": [
        "\n",
        "### Problem 28\n",
        "Starting with the number 1 and moving to the right in a clockwise direction a 5 by 5 spiral is formed as follows:\n",
        "\n",
        "21 22 23 24 25\n",
        "\n",
        "20  07  08  09 10\n",
        "\n",
        "19  06  01  02 11\n",
        "\n",
        "18  05  04  03 12\n",
        "\n",
        "17 16 15 14 13\n",
        "\n",
        "It can be verified that the sum of the numbers on the diagonals is 101.\n",
        "\n",
        "What is the sum of the numbers on the diagonals in a 1001 by 1001 spiral formed in the same way?"
      ],
      "metadata": {
        "id": "g3aua6ii8RJk"
      }
    },
    {
      "cell_type": "code",
      "source": [
        "def spiral(n):\n",
        "  sp = []\n",
        "  for i in range(n):\n",
        "    row = []\n",
        "    for j in range(n):\n",
        "      row.append(0)\n",
        "    sp.append(row)\n",
        "  \n",
        "  sp[n//2][n//2] = 1\n",
        "\n",
        "  for w in range (3, n+1):\n",
        "    v = w*w\n",
        "    k =  (w*w)-w+1\n",
        "    center = n//2\n",
        "    # top\n",
        "    for i in range(w):\n",
        "      r = center - w//2\n",
        "      c = center + w//2\n",
        "      sp[r][c - i] = v\n",
        "      v = v -1\n",
        "    # left\n",
        "    for i in range(1, w):\n",
        "      r = center - w//2\n",
        "      c = center - w//2\n",
        "      sp[r + i][c] = v\n",
        "      v = v -1  \n",
        "    # down\n",
        "    for i in range(1, w):\n",
        "      r = center + w//2\n",
        "      c = center - w//2\n",
        "      sp[r][c+i]= v\n",
        "      v = v -1  \n",
        "    # right\n",
        "    for i in range(1, w-1):\n",
        "      r = center + w//2\n",
        "      c = center + w//2\n",
        "      sp[r-i][c]= v\n",
        "      v = v -1\n",
        "  return sp\n",
        "\n",
        "\n",
        "n=1001\n",
        "sp = spiral(n)\n",
        "ans = -1\n",
        "for i in range(n):\n",
        "  ans = ans + sp[i][i]\n",
        "for i in range(n):\n",
        "  ans = ans + sp[i][n-i-1]\n",
        "print('The answer is {}'.format(ans))\n"
      ],
      "metadata": {
        "id": "5zAX4CA50_sb"
      },
      "execution_count": null,
      "outputs": []
    },
    {
      "cell_type": "markdown",
      "source": [
        "## 29.Distinct powers\n"
      ],
      "metadata": {
        "id": "Fsk2OI1cfXja"
      }
    },
    {
      "cell_type": "markdown",
      "source": [
        "\n",
        "###Problem 29\n",
        "Consider all integer combinations of ab for 2 ≤ a ≤ 5 and 2 ≤ b ≤ 5:\n",
        "\n",
        "22=4, 23=8, 24=16, 25=32\n",
        "\n",
        "32=9, 33=27, 34=81, 35=243\n",
        "\n",
        "42=16, 43=64, 44=256, 45=1024\n",
        "\n",
        "52=25, 53=125, 54=625, 55=3125\n",
        "\n",
        "If they are then placed in numerical order, with any repeats removed, we get the following sequence of 15 distinct terms:\n",
        "\n",
        "4, 8, 9, 16, 25, 27, 32, 64, 81, 125, 243, 256, 625, 1024, 3125\n",
        "\n",
        "How many distinct terms are in the sequence generated by ab for 2 ≤ a ≤ 100 and 2 ≤ b ≤ 100?"
      ],
      "metadata": {
        "id": "xXqqZygQfhSm"
      }
    },
    {
      "cell_type": "code",
      "source": [
        "dist = []\n",
        "for a in range(2,101):\n",
        "  for b in range(2,101):\n",
        "    pow = a**b\n",
        "    # print(\"{}^{} = {}\".format(a,b,pow))\n",
        "    if pow not in dist :\n",
        "      dist.append(pow)\n",
        "print(\"The Answer is: {}\".format(len(dist)))\n"
      ],
      "metadata": {
        "id": "dRU04BNrfj87"
      },
      "execution_count": null,
      "outputs": []
    },
    {
      "cell_type": "markdown",
      "source": [
        "## 30.Digit fifth powers\n"
      ],
      "metadata": {
        "id": "682cecwp8RDQ"
      }
    },
    {
      "cell_type": "markdown",
      "source": [
        "\n",
        "### Problem 30\n",
        "Surprisingly there are only three numbers that can be written as the sum of fourth powers of their digits:\n",
        "\n",
        "1634 = 14 + 64 + 34 + 44\n",
        "\n",
        "8208 = 84 + 24 + 04 + 84\n",
        "\n",
        "9474 = 94 + 44 + 74 + 44\n",
        "\n",
        "As 1 = 14 is not a sum it is not included.\n",
        "\n",
        "The sum of these numbers is 1634 + 8208 + 9474 = 19316.\n",
        "\n",
        "Find the sum of all the numbers that can be written as the sum of fifth powers of their digits"
      ],
      "metadata": {
        "id": "elgC5hVX-pvh"
      }
    },
    {
      "cell_type": "code",
      "source": [
        "fifth = []\n",
        "for i in range(2, 1000000):\n",
        "  s = str(i)\n",
        "  powSum = 0\n",
        "  for n in s:\n",
        "    powSum = powSum + int(n)**5\n",
        "  if powSum == i :\n",
        "    fifth.append(i)\n",
        "print(\"The answer is {}\".format(sum(fifth)))"
      ],
      "metadata": {
        "id": "dLPdQow73aIE"
      },
      "execution_count": null,
      "outputs": []
    },
    {
      "cell_type": "markdown",
      "source": [
        "##31.Coin sums\n"
      ],
      "metadata": {
        "id": "bTNviucL-dW-"
      }
    },
    {
      "cell_type": "markdown",
      "source": [
        "\n",
        "### Problem 31\n",
        "In the United Kingdom the currency is made up of pound (£) and pence (p). There are eight coins in general circulation:\n",
        "\n",
        "1p, 2p, 5p, 10p, 20p, 50p, £1 (100p), and £2 (200p).\n",
        "\n",
        "It is possible to make £2 in the following way:\n",
        "\n",
        "1×£1 + 1×50p + 2×20p + 1×5p + 1×2p + 3×1p\n",
        "\n",
        "How many different ways can £2 be made using any number of coins?"
      ],
      "metadata": {
        "id": "br6DGjUN-oef"
      }
    },
    {
      "cell_type": "code",
      "source": [
        "import time\n",
        "start = time.time()\n",
        "\n",
        "counter = 0\n",
        "target = 200\n",
        "reminder = 200\n",
        "coins = [100,50,20,10,5,2,1]\n",
        "\n",
        "# number of 100p coins\n",
        "for a in range(3):\n",
        "  reminder = target - a*coins[0]\n",
        "  \n",
        "  for b in range(1+reminder//coins[1]):\n",
        "    reminder = target - a*coins[0] - b*coins[1]\n",
        "\n",
        "    for c in range(1+reminder//coins[2]):\n",
        "      reminder = target - a*coins[0] - b*coins[1] - c*coins[2]\n",
        "      \n",
        "      for d in range(1+reminder//coins[3]):\n",
        "        reminder = target - a*coins[0] - b*coins[1] - c*coins[2] - d*coins[3]\n",
        "        \n",
        "        for e in range(1+reminder//coins[4]):\n",
        "          reminder = target - a*coins[0] - b*coins[1] - c*coins[2] - d*coins[3] - e*coins[4]\n",
        "          \n",
        "          for f in range(1+reminder//coins[5]):\n",
        "            counter += 1\n",
        "\n",
        "end = time.time()\n",
        "print (\"The Answer is {} found in time {}\".format(counter+1, end - start))"
      ],
      "metadata": {
        "id": "ORFniehB9Dec"
      },
      "execution_count": null,
      "outputs": []
    },
    {
      "cell_type": "markdown",
      "source": [
        "##32.Pandigital products\n"
      ],
      "metadata": {
        "id": "Em51glvFCZlu"
      }
    },
    {
      "cell_type": "markdown",
      "source": [
        "\n",
        "###Problem 32\n",
        "We shall say that an n-digit number is pandigital if it makes use of all the digits 1 to n exactly once; for example, the 5-digit number, 15234, is 1 through 5 pandigital.\n",
        "\n",
        "The product 7254 is unusual, as the identity, 39 × 186 = 7254, containing multiplicand, multiplier, and product is 1 through 9 pandigital.\n",
        "\n",
        "Find the sum of all products whose multiplicand/multiplier/product identity can be written as a 1 through 9 pandigital.\n",
        "\n",
        "HINT: Some products can be obtained in more than one way so be sure to only include it once in your sum."
      ],
      "metadata": {
        "id": "zhM-b0dLCe3Y"
      }
    },
    {
      "cell_type": "code",
      "source": [
        "import time\n",
        "start = time.time()\n",
        "\n",
        "digits = ['1', '2', '3', '4', '5', '6', '7', '8', '9']\n",
        "panProds = []\n",
        "\n",
        "\n",
        "for i in range(1,100000):\n",
        "  for j in range(i,100000):\n",
        "    k = i*j\n",
        "    s = sorted(str(k)+str(i)+str(j))\n",
        "    if len(s)>9:\n",
        "      break\n",
        "    if s==digits:\n",
        "      if k not in panProds:\n",
        "        panProds.append(k)\n",
        "\n",
        "ans = sum(panProds)\n",
        "\n",
        "end = time.time()\n",
        "print (\"The Answer is {} found in time {}\".format(ans, end - start))"
      ],
      "metadata": {
        "id": "y4eSaTuj93dn"
      },
      "execution_count": null,
      "outputs": []
    },
    {
      "cell_type": "markdown",
      "source": [
        "##33.Digit cancelling fractions\n",
        " "
      ],
      "metadata": {
        "id": "wBU9TTWcqnmZ"
      }
    },
    {
      "cell_type": "markdown",
      "source": [
        "\n",
        "###Problem 33\n",
        "The fraction 49/98 is a curious fraction, as an inexperienced mathematician in attempting to simplify it may incorrectly believe that 49/98 = 4/8, which is correct, is obtained by cancelling the 9s.\n",
        "\n",
        "We shall consider fractions like, 30/50 = 3/5, to be trivial examples.\n",
        "\n",
        "There are exactly four non-trivial examples of this type of fraction, less than one in value, and containing two digits in the numerator and denominator.\n",
        "\n",
        "If the product of these four fractions is given in its lowest common terms, find the value of the denominator."
      ],
      "metadata": {
        "id": "WV31Grr7qxzy"
      }
    },
    {
      "cell_type": "code",
      "source": [
        "import time\n",
        "from fractions import Fraction\n",
        "start = time.time()\n",
        "\n",
        "def removeCharFromstring(s,c):\n",
        "  newS = ''\n",
        "  done = False\n",
        "  for i in s :\n",
        "    if i != c or done:\n",
        "      newS +=i\n",
        "    else :\n",
        "      done = True\n",
        "  return newS \n",
        "\n",
        "numerator  = 1\n",
        "demonator = 1\n",
        "\n",
        "for i in range(10,100):\n",
        "  nume = str(i)\n",
        "  for j in range(10,100):\n",
        "    if j <= i:\n",
        "      continue\n",
        "    dem = str(j)\n",
        "    for c_up in nume :\n",
        "      for c_down in dem:\n",
        "        if c_up == c_down:\n",
        "          newUp = int(removeCharFromstring(nume, c_up))\n",
        "          newDown = int(removeCharFromstring(dem, c_down))\n",
        "\n",
        "          if newDown == 0:\n",
        "            continue\n",
        "\n",
        "          if newUp/newDown == i/j and c_down != '0' :\n",
        "            numerator *= i\n",
        "            demonator *= j\n",
        "\n",
        "ans = Fraction(numerator, demonator).denominator\n",
        "end = time.time()\n",
        "print (\"The Answer is {} found in time {}\".format(ans, end - start))"
      ],
      "metadata": {
        "id": "UefcA0QelmgN"
      },
      "execution_count": null,
      "outputs": []
    },
    {
      "cell_type": "markdown",
      "source": [
        "##34.Digit factorials\n"
      ],
      "metadata": {
        "id": "pZm1Quidjg2V"
      }
    },
    {
      "cell_type": "markdown",
      "source": [
        "\n",
        "###Problem 34\n",
        "145 is a curious number, as 1! + 4! + 5! = 1 + 24 + 120 = 145.\n",
        "\n",
        "Find the sum of all numbers which are equal to the sum of the factorial of their digits.\n",
        "\n",
        "Note: As 1! = 1 and 2! = 2 are not sums they are not included."
      ],
      "metadata": {
        "id": "3Y4UdiG1j4dG"
      }
    },
    {
      "cell_type": "code",
      "source": [
        "import time\n",
        "start = time.time()\n",
        "\n",
        "from math import factorial\n",
        "total = 0\n",
        "for i in range(3,10000000):\n",
        "  s = str(i)\n",
        "  factSum = 0\n",
        "  for c in s:\n",
        "    d = int(c)\n",
        "    factSum += factorial(d)\n",
        "  if factSum == i:\n",
        "    total += i\n",
        "\n",
        "ans = total\n",
        "end = time.time()\n",
        "print (\"The Answer is {} found in time {}\".format(ans, end - start))"
      ],
      "metadata": {
        "id": "WIJKNzIVj5Pu",
        "colab": {
          "base_uri": "https://localhost:8080/"
        },
        "outputId": "b9799161-df89-44d1-d0fd-c2cb79a02677"
      },
      "execution_count": null,
      "outputs": [
        {
          "output_type": "stream",
          "name": "stdout",
          "text": [
            "The Answer is 40730 found in time 34.727991342544556\n"
          ]
        }
      ]
    },
    {
      "cell_type": "markdown",
      "source": [
        "## 35.Circular primes\n"
      ],
      "metadata": {
        "id": "8Cf18BS5zkcn"
      }
    },
    {
      "cell_type": "markdown",
      "source": [
        "\n",
        "### Problem 35\n",
        "The number, 197, is called a circular prime because all rotations of the digits: 197, 971, and 719, are themselves prime.\n",
        "\n",
        "There are thirteen such primes below 100: 2, 3, 5, 7, 11, 13, 17, 31, 37, 71, 73, 79, and 97.\n",
        "\n",
        "How many circular primes are there below one million?"
      ],
      "metadata": {
        "id": "jht_ChxVzt5M"
      }
    },
    {
      "cell_type": "code",
      "source": [
        "import time\n",
        "start = time.time()\n",
        "\n",
        "def checkPrime(n): \n",
        "  if n == 1:\n",
        "    return False\n",
        "  i = 2\n",
        "  while i*i <= n:\n",
        "    if n % i == 0:\n",
        "      return False\n",
        "    i += 1\n",
        "  return True\n",
        "\n",
        "def getCircularRotationsOfNumber(n):\n",
        "  s = str(n)\n",
        "  if len(s) == 1 :\n",
        "    return [n]\n",
        "  rots = []\n",
        "  for i in range(len(s)-1):\n",
        "    s = s[1:len(s)] + s[0]  \n",
        "    rots.append(int(s))\n",
        "  return rots\n",
        "\n",
        "counter = 0\n",
        "found = False\n",
        "for i in range(1,1000000):\n",
        "\n",
        "  if not checkPrime(i):\n",
        "    continue\n",
        "  \n",
        "  for p in getCircularRotationsOfNumber(i):\n",
        "    found = False\n",
        "    if not checkPrime(p):\n",
        "      break\n",
        "    found = True\n",
        "  if found :\n",
        "    counter += 1\n",
        "    \n",
        "\n",
        "ans = counter\n",
        "end = time.time()\n",
        "print (\"The Answer is {} found in time {}\".format(ans, end - start))"
      ],
      "metadata": {
        "id": "WCkdb049zVsQ"
      },
      "execution_count": null,
      "outputs": []
    },
    {
      "cell_type": "markdown",
      "source": [
        "##36. Double-base palindromes"
      ],
      "metadata": {
        "id": "CPple5afz46v"
      }
    },
    {
      "cell_type": "markdown",
      "source": [
        "### Problem 36\n",
        "\n",
        "The decimal number, 585 = 10010010012 (binary), is palindromic in both bases.\n",
        "\n",
        "Find the sum of all numbers, less than one million, which are palindromic in base 10 and base 2.\n",
        "\n",
        "(Please note that the palindromic number, in either base, may not include leading zeros.)"
      ],
      "metadata": {
        "id": "8SupxH9T0KqC"
      }
    },
    {
      "cell_type": "code",
      "source": [
        "import time\n",
        "start = time.time()\n",
        "\n",
        "def isPalindrom(s):\n",
        "  inv =''\n",
        "  for i in range(len(s)-1,-1,-1):\n",
        "    inv += s[i]\n",
        "  if inv == s:\n",
        "    return True\n",
        "  return False\n",
        "\n",
        "total = 0\n",
        "\n",
        "for i in range(1000000):\n",
        "  if isPalindrom(str(i)):\n",
        "    if isPalindrom(str(bin(i))[2:]):\n",
        "      total += i\n",
        "\n",
        "print()\n",
        "\n",
        "ans = total\n",
        "end = time.time()\n",
        "print (\"The Answer is {} found in time {}\".format(ans, end - start))"
      ],
      "metadata": {
        "id": "5fPYUHuLz4CF"
      },
      "execution_count": null,
      "outputs": []
    },
    {
      "cell_type": "markdown",
      "source": [
        "##37.Truncatable primes"
      ],
      "metadata": {
        "id": "ORviDCdj0bQV"
      }
    },
    {
      "cell_type": "markdown",
      "source": [
        "### Problem 37\n",
        "The number 3797 has an interesting property. Being prime itself, it is possible to continuously remove digits from left to right, and remain prime at each stage: 3797, 797, 97, and 7. Similarly we can work from right to left: 3797, 379, 37, and 3.\n",
        "\n",
        "Find the sum of the only eleven primes that are both truncatable from left to right and right to left.\n",
        "\n",
        "NOTE: 2, 3, 5, and 7 are not considered to be truncatable primes."
      ],
      "metadata": {
        "id": "Z9HAx0Gv0bQV"
      }
    },
    {
      "cell_type": "code",
      "source": [
        "import time\n",
        "start = time.time()\n",
        "\n",
        "\n",
        "\n",
        "ans = 0\n",
        "end = time.time()\n",
        "print (\"The Answer is {} found in time {}\".format(ans, end - start))"
      ],
      "metadata": {
        "id": "Q4dpFtIf0bQV"
      },
      "execution_count": null,
      "outputs": []
    },
    {
      "cell_type": "markdown",
      "source": [
        "##36."
      ],
      "metadata": {
        "id": "FIGMSF510bS2"
      }
    },
    {
      "cell_type": "markdown",
      "source": [
        "### Problem 36"
      ],
      "metadata": {
        "id": "bAEgtR_e0bS3"
      }
    },
    {
      "cell_type": "code",
      "source": [
        "import time\n",
        "start = time.time()\n",
        "\n",
        "\n",
        "\n",
        "ans = 0\n",
        "end = time.time()\n",
        "print (\"The Answer is {} found in time {}\".format(ans, end - start))"
      ],
      "metadata": {
        "id": "Uzd7LO1P0bS3"
      },
      "execution_count": null,
      "outputs": []
    },
    {
      "cell_type": "markdown",
      "source": [
        "##36."
      ],
      "metadata": {
        "id": "spElzb6V0bVy"
      }
    },
    {
      "cell_type": "markdown",
      "source": [
        "### Problem 36"
      ],
      "metadata": {
        "id": "1sc4E7vA0bVy"
      }
    },
    {
      "cell_type": "code",
      "source": [
        "import time\n",
        "start = time.time()\n",
        "\n",
        "\n",
        "\n",
        "ans = 0\n",
        "end = time.time()\n",
        "print (\"The Answer is {} found in time {}\".format(ans, end - start))"
      ],
      "metadata": {
        "id": "tk-gxoRt0bVz"
      },
      "execution_count": null,
      "outputs": []
    },
    {
      "cell_type": "markdown",
      "source": [
        "##36."
      ],
      "metadata": {
        "id": "dGh4Yb_v0bYA"
      }
    },
    {
      "cell_type": "markdown",
      "source": [
        "### Problem 36"
      ],
      "metadata": {
        "id": "9MIxPaSZ0bYA"
      }
    },
    {
      "cell_type": "code",
      "source": [
        "import time\n",
        "start = time.time()\n",
        "\n",
        "\n",
        "\n",
        "ans = 0\n",
        "end = time.time()\n",
        "print (\"The Answer is {} found in time {}\".format(ans, end - start))"
      ],
      "metadata": {
        "id": "VbgesEGl0bYA"
      },
      "execution_count": null,
      "outputs": []
    },
    {
      "cell_type": "markdown",
      "source": [
        "##36."
      ],
      "metadata": {
        "id": "Y2f9_Jql0bad"
      }
    },
    {
      "cell_type": "markdown",
      "source": [
        "### Problem 36"
      ],
      "metadata": {
        "id": "WR8mBqbf0bad"
      }
    },
    {
      "cell_type": "code",
      "source": [
        "import time\n",
        "start = time.time()\n",
        "\n",
        "\n",
        "\n",
        "ans = 0\n",
        "end = time.time()\n",
        "print (\"The Answer is {} found in time {}\".format(ans, end - start))"
      ],
      "metadata": {
        "id": "V8Dn_Oxw0bad"
      },
      "execution_count": null,
      "outputs": []
    },
    {
      "cell_type": "markdown",
      "source": [
        "##36."
      ],
      "metadata": {
        "id": "Xdnh2goF0bdB"
      }
    },
    {
      "cell_type": "markdown",
      "source": [
        "### Problem 36"
      ],
      "metadata": {
        "id": "DdkqQALQ0bdC"
      }
    },
    {
      "cell_type": "code",
      "source": [
        "import time\n",
        "start = time.time()\n",
        "\n",
        "\n",
        "\n",
        "ans = 0\n",
        "end = time.time()\n",
        "print (\"The Answer is {} found in time {}\".format(ans, end - start))"
      ],
      "metadata": {
        "id": "VkMYFiD60bdC"
      },
      "execution_count": null,
      "outputs": []
    },
    {
      "cell_type": "markdown",
      "source": [
        "##36."
      ],
      "metadata": {
        "id": "TiP0Sn__0bfm"
      }
    },
    {
      "cell_type": "markdown",
      "source": [
        "### Problem 36"
      ],
      "metadata": {
        "id": "Skqypnud0bfm"
      }
    },
    {
      "cell_type": "code",
      "source": [
        "import time\n",
        "start = time.time()\n",
        "\n",
        "\n",
        "\n",
        "ans = 0\n",
        "end = time.time()\n",
        "print (\"The Answer is {} found in time {}\".format(ans, end - start))"
      ],
      "metadata": {
        "id": "-tBSIZhH0bfn"
      },
      "execution_count": null,
      "outputs": []
    },
    {
      "cell_type": "markdown",
      "source": [
        "##36."
      ],
      "metadata": {
        "id": "gHe3W1jg0bh_"
      }
    },
    {
      "cell_type": "markdown",
      "source": [
        "### Problem 36"
      ],
      "metadata": {
        "id": "OIVT6t4I0bh_"
      }
    },
    {
      "cell_type": "code",
      "source": [
        "import time\n",
        "start = time.time()\n",
        "\n",
        "\n",
        "\n",
        "ans = 0\n",
        "end = time.time()\n",
        "print (\"The Answer is {} found in time {}\".format(ans, end - start))"
      ],
      "metadata": {
        "id": "vbFk4dJL0bh_"
      },
      "execution_count": null,
      "outputs": []
    },
    {
      "cell_type": "markdown",
      "source": [
        "##36."
      ],
      "metadata": {
        "id": "RwneJtLf0bkW"
      }
    },
    {
      "cell_type": "markdown",
      "source": [
        "### Problem 36"
      ],
      "metadata": {
        "id": "Af8ZwlSO0bkX"
      }
    },
    {
      "cell_type": "code",
      "source": [
        "import time\n",
        "start = time.time()\n",
        "\n",
        "\n",
        "\n",
        "ans = 0\n",
        "end = time.time()\n",
        "print (\"The Answer is {} found in time {}\".format(ans, end - start))"
      ],
      "metadata": {
        "id": "8OnH6af00bkX"
      },
      "execution_count": null,
      "outputs": []
    },
    {
      "cell_type": "markdown",
      "source": [
        "##36."
      ],
      "metadata": {
        "id": "-ukTexDC0bm1"
      }
    },
    {
      "cell_type": "markdown",
      "source": [
        "### Problem 36"
      ],
      "metadata": {
        "id": "3OSQBch00bm1"
      }
    },
    {
      "cell_type": "code",
      "source": [
        "import time\n",
        "start = time.time()\n",
        "\n",
        "\n",
        "\n",
        "ans = 0\n",
        "end = time.time()\n",
        "print (\"The Answer is {} found in time {}\".format(ans, end - start))"
      ],
      "metadata": {
        "id": "2i2R4XKB0bm2"
      },
      "execution_count": null,
      "outputs": []
    },
    {
      "cell_type": "markdown",
      "source": [
        "##36."
      ],
      "metadata": {
        "id": "uHqjwJjU0bpF"
      }
    },
    {
      "cell_type": "markdown",
      "source": [
        "### Problem 36"
      ],
      "metadata": {
        "id": "BrUc4Llg0bpG"
      }
    },
    {
      "cell_type": "code",
      "source": [
        "import time\n",
        "start = time.time()\n",
        "\n",
        "\n",
        "\n",
        "ans = 0\n",
        "end = time.time()\n",
        "print (\"The Answer is {} found in time {}\".format(ans, end - start))"
      ],
      "metadata": {
        "id": "Nqw-yNV20bpG"
      },
      "execution_count": null,
      "outputs": []
    },
    {
      "cell_type": "markdown",
      "source": [
        "##36."
      ],
      "metadata": {
        "id": "695UQb3f0brX"
      }
    },
    {
      "cell_type": "markdown",
      "source": [
        "### Problem 36"
      ],
      "metadata": {
        "id": "-QFbmHCk0brX"
      }
    },
    {
      "cell_type": "code",
      "source": [
        "import time\n",
        "start = time.time()\n",
        "\n",
        "\n",
        "\n",
        "ans = 0\n",
        "end = time.time()\n",
        "print (\"The Answer is {} found in time {}\".format(ans, end - start))"
      ],
      "metadata": {
        "id": "wadfBV4U0brX"
      },
      "execution_count": null,
      "outputs": []
    },
    {
      "cell_type": "markdown",
      "source": [
        "##36."
      ],
      "metadata": {
        "id": "Gd99CD0B0btg"
      }
    },
    {
      "cell_type": "markdown",
      "source": [
        "### Problem 36"
      ],
      "metadata": {
        "id": "qofBKdVs0btg"
      }
    },
    {
      "cell_type": "code",
      "source": [
        "import time\n",
        "start = time.time()\n",
        "\n",
        "\n",
        "\n",
        "ans = 0\n",
        "end = time.time()\n",
        "print (\"The Answer is {} found in time {}\".format(ans, end - start))"
      ],
      "metadata": {
        "id": "wI4OYUez0btg"
      },
      "execution_count": null,
      "outputs": []
    },
    {
      "cell_type": "markdown",
      "source": [
        "##36."
      ],
      "metadata": {
        "id": "dd3qOQTk0b5t"
      }
    },
    {
      "cell_type": "markdown",
      "source": [
        "### Problem 36"
      ],
      "metadata": {
        "id": "aEMpS-Mn0b5u"
      }
    },
    {
      "cell_type": "code",
      "source": [
        "import time\n",
        "start = time.time()\n",
        "\n",
        "\n",
        "\n",
        "ans = 0\n",
        "end = time.time()\n",
        "print (\"The Answer is {} found in time {}\".format(ans, end - start))"
      ],
      "metadata": {
        "id": "2odDC9g_0b5u"
      },
      "execution_count": null,
      "outputs": []
    },
    {
      "cell_type": "markdown",
      "source": [
        "##36."
      ],
      "metadata": {
        "id": "ADp_yo0y0b70"
      }
    },
    {
      "cell_type": "markdown",
      "source": [
        "### Problem 36"
      ],
      "metadata": {
        "id": "JSAf73q60b71"
      }
    },
    {
      "cell_type": "code",
      "source": [
        "import time\n",
        "start = time.time()\n",
        "\n",
        "\n",
        "\n",
        "ans = 0\n",
        "end = time.time()\n",
        "print (\"The Answer is {} found in time {}\".format(ans, end - start))"
      ],
      "metadata": {
        "id": "dVN99FTB0b71"
      },
      "execution_count": null,
      "outputs": []
    },
    {
      "cell_type": "markdown",
      "source": [
        "##36."
      ],
      "metadata": {
        "id": "Xn-3Szfx0b-X"
      }
    },
    {
      "cell_type": "markdown",
      "source": [
        "### Problem 36"
      ],
      "metadata": {
        "id": "p59GUT3C0b-Y"
      }
    },
    {
      "cell_type": "code",
      "source": [
        "import time\n",
        "start = time.time()\n",
        "\n",
        "\n",
        "\n",
        "ans = 0\n",
        "end = time.time()\n",
        "print (\"The Answer is {} found in time {}\".format(ans, end - start))"
      ],
      "metadata": {
        "id": "1zCNwaxp0b-Y"
      },
      "execution_count": null,
      "outputs": []
    },
    {
      "cell_type": "markdown",
      "source": [
        "##36."
      ],
      "metadata": {
        "id": "qAewMR-_0cAm"
      }
    },
    {
      "cell_type": "markdown",
      "source": [
        "### Problem 36"
      ],
      "metadata": {
        "id": "1LMsIeTG0cAm"
      }
    },
    {
      "cell_type": "code",
      "source": [
        "import time\n",
        "start = time.time()\n",
        "\n",
        "\n",
        "\n",
        "ans = 0\n",
        "end = time.time()\n",
        "print (\"The Answer is {} found in time {}\".format(ans, end - start))"
      ],
      "metadata": {
        "id": "NKgJqoMk0cAn"
      },
      "execution_count": null,
      "outputs": []
    }
  ]
}